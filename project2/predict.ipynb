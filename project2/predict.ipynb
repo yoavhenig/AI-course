{
 "cells": [
  {
   "cell_type": "code",
   "execution_count": 1,
   "id": "8343fc08",
   "metadata": {},
   "outputs": [
    {
     "name": "stderr",
     "output_type": "stream",
     "text": [
      "Using TensorFlow backend.\n"
     ]
    }
   ],
   "source": [
    "import tensorflow as tf\n",
    "from keras.models import load_model\n",
    "from keras.preprocessing.image import load_img\n",
    "from keras.preprocessing.image import img_to_array\n",
    "from keras.applications.vgg19 import preprocess_input\n",
    "from keras.applications.vgg19 import decode_predictions"
   ]
  },
  {
   "cell_type": "code",
   "execution_count": 2,
   "id": "1fa111c5",
   "metadata": {},
   "outputs": [],
   "source": [
    "model = tf.keras.models.load_model('./model1.h5', compile=False)"
   ]
  },
  {
   "cell_type": "code",
   "execution_count": 3,
   "id": "16fd04bb",
   "metadata": {},
   "outputs": [],
   "source": [
    "def process_image(image):\n",
    "    image = img_to_array(image)\n",
    "    image = image.reshape((1, image.shape[0], image.shape[1], image.shape[2]))\n",
    "    image = image.astype('float32')\n",
    "    image = image/255.0\n",
    "    return image"
   ]
  },
  {
   "cell_type": "code",
   "execution_count": 37,
   "id": "acd22962",
   "metadata": {},
   "outputs": [],
   "source": [
    "def predict_class(image):\n",
    "    result_prob = model.predict(image)\n",
    "    result_class = model.predict_classes(image)\n",
    "    \n",
    "    prediction = result_class[0]\n",
    "    percentage = (result_prob[0][prediction])\n",
    "    \n",
    "    return prediction, percentage"
   ]
  },
  {
   "cell_type": "code",
   "execution_count": 43,
   "id": "03b46742",
   "metadata": {},
   "outputs": [
    {
     "name": "stdout",
     "output_type": "stream",
     "text": [
      "Classified as class: 2 with propability of: 0.999973% \n"
     ]
    },
    {
     "name": "stderr",
     "output_type": "stream",
     "text": [
      "/home/ubuntu/anaconda3/envs/tensorflow2_p36/lib/python3.6/site-packages/keras_preprocessing/image/utils.py:104: UserWarning: grayscale is deprecated. Please use color_mode = \"grayscale\"\n",
      "  warnings.warn('grayscale is deprecated. Please use '\n"
     ]
    }
   ],
   "source": [
    "image = load_img('sample_image.png',grayscale=True, target_size=(28,28))\n",
    "image = process_image(image)\n",
    "pre_class, pre_prob = predict_class(image)\n",
    "print(f'Classified as class: {pre_class} with propability of: {a:.6f}% ')"
   ]
  }
 ],
 "metadata": {
  "kernelspec": {
   "display_name": "Environment (conda_tensorflow2_p36)",
   "language": "python",
   "name": "conda_tensorflow2_p36"
  },
  "language_info": {
   "codemirror_mode": {
    "name": "ipython",
    "version": 3
   },
   "file_extension": ".py",
   "mimetype": "text/x-python",
   "name": "python",
   "nbconvert_exporter": "python",
   "pygments_lexer": "ipython3",
   "version": "3.6.13"
  }
 },
 "nbformat": 4,
 "nbformat_minor": 5
}
