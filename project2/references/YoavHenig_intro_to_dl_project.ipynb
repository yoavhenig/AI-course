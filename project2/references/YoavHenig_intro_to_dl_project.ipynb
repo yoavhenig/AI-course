{
 "cells": [
  {
   "cell_type": "markdown",
   "metadata": {},
   "source": [
    "# Intro To Deep Learning Project\n",
    "#### Yoav Henig\n",
    "\n",
    "At this project I walk through this following steps:\n",
    "\n",
    "##### 1. Browsing the data set\n",
    "##### 2. Quick view on the data features types and values\n",
    "##### 3. Organized the data table for running any kind of models\n",
    "##### 4."
   ]
  },
  {
   "cell_type": "code",
   "execution_count": 1,
   "metadata": {},
   "outputs": [],
   "source": [
    "import pandas as pd\n",
    "import numpy as np\n",
    "import os\n",
    "\n",
    "from tensorflow.keras import models\n",
    "from tensorflow.keras.layers import Dense, Dropout, Flatten, Conv2D, MaxPool2D\n",
    "from tensorflow.keras.optimizers import RMSprop,Adam\n",
    "from tensorflow.keras.utils import to_categorical\n",
    "\n",
    "raw_data_path = 'raw_data/'\n",
    "\n",
    "def create_model():\n",
    "    model = models.Sequential()\n",
    "    model.add(Conv2D(32, (3, 3), activation='relu', input_shape=(48, 48, 1)))\n",
    "    model.add(MaxPool2D((2, 2)))\n",
    "    model.add(Conv2D(64, (3, 3), activation='relu'))\n",
    "    model.add(MaxPool2D((2, 2)))\n",
    "    model.add(Conv2D(64, (3, 3), activation='relu'))\n",
    "    model.add(Flatten())\n",
    "    model.add(Dense(64, activation='relu'))\n",
    "    model.add(Dense(7, activation='softmax'))\n",
    "    model.compile(optimizer=Adam(lr=1e-3), loss='categorical_crossentropy', metrics=['accuracy'])\n",
    "    return model\n",
    "\n",
    "\n",
    "def prepare_data(data):\n",
    "    \"\"\" Prepare data for modeling \n",
    "        input: data frame with labels und pixel data\n",
    "        output: image and label array \"\"\"\n",
    "    \n",
    "    image_array = np.zeros(shape=(len(data), 48, 48))\n",
    "    image_label = np.array(list(map(int, data['Emotion'])))\n",
    "    \n",
    "    for i, row in enumerate(data.index):\n",
    "        image = np.fromstring(data.loc[row, 'Pixels'], dtype=int, sep=' ')\n",
    "        image = np.reshape(image, (48, 48))\n",
    "        image_array[i] = image\n",
    "        \n",
    "    return image_array, image_label\n",
    "\n",
    "\n",
    "def data_to_tf_data(df):\n",
    "    image_array, image_label = prepare_data(df)\n",
    "    images = image_array.reshape((image_array.shape[0], 48, 48, 1))\n",
    "    images = images.astype('float32')/255\n",
    "    labels = to_categorical(image_label)\n",
    "    return images, labels"
   ]
  },
  {
   "cell_type": "code",
   "execution_count": null,
   "metadata": {},
   "outputs": [],
   "source": []
  },
  {
   "cell_type": "code",
   "execution_count": 2,
   "metadata": {},
   "outputs": [
    {
     "name": "stdout",
     "output_type": "stream",
     "text": [
      "Epoch 1/12\n",
      "6/6 [==============================] - 2s 304ms/step - loss: 0.3301 - accuracy: 0.2430 - val_loss: 1.9058 - val_accuracy: 0.2449\n",
      "Epoch 2/12\n",
      "6/6 [==============================] - 1s 249ms/step - loss: 0.3220 - accuracy: 0.1713 - val_loss: 1.9183 - val_accuracy: 0.2449\n",
      "Epoch 3/12\n",
      "6/6 [==============================] - 2s 251ms/step - loss: 0.3031 - accuracy: 0.2835 - val_loss: 2.0540 - val_accuracy: 0.2449\n",
      "Epoch 4/12\n",
      "6/6 [==============================] - 2s 253ms/step - loss: 0.2993 - accuracy: 0.2835 - val_loss: 1.8826 - val_accuracy: 0.2449\n",
      "Epoch 5/12\n",
      "6/6 [==============================] - 2s 267ms/step - loss: 0.2978 - accuracy: 0.2835 - val_loss: 1.9280 - val_accuracy: 0.2449\n",
      "Epoch 6/12\n",
      "6/6 [==============================] - 1s 249ms/step - loss: 0.2938 - accuracy: 0.2835 - val_loss: 2.1333 - val_accuracy: 0.2449\n",
      "Epoch 7/12\n",
      "6/6 [==============================] - 2s 271ms/step - loss: 0.3093 - accuracy: 0.2835 - val_loss: 1.9266 - val_accuracy: 0.2449\n",
      "Epoch 8/12\n",
      "6/6 [==============================] - 1s 250ms/step - loss: 0.2974 - accuracy: 0.2835 - val_loss: 1.8748 - val_accuracy: 0.2538\n",
      "Epoch 9/12\n",
      "6/6 [==============================] - 2s 252ms/step - loss: 0.3043 - accuracy: 0.2866 - val_loss: 1.9114 - val_accuracy: 0.2449\n",
      "Epoch 10/12\n",
      "6/6 [==============================] - 1s 250ms/step - loss: 0.2962 - accuracy: 0.2835 - val_loss: 1.9325 - val_accuracy: 0.2449\n",
      "Epoch 11/12\n",
      "6/6 [==============================] - 2s 266ms/step - loss: 0.2880 - accuracy: 0.2866 - val_loss: 2.0166 - val_accuracy: 0.2452\n",
      "Epoch 12/12\n",
      "6/6 [==============================] - 2s 251ms/step - loss: 0.3015 - accuracy: 0.2866 - val_loss: 1.9009 - val_accuracy: 0.2449\n",
      "113/113 [==============================] - 1s 11ms/step - loss: 1.8920 - accuracy: 0.2494\n"
     ]
    }
   ],
   "source": [
    "train = pd.read_csv(raw_data_path+'initial_training_data.csv')\n",
    "train_images, train_labels = data_to_tf_data(train)\n",
    "\n",
    "val = pd.read_csv(raw_data_path+'validation_test_data.csv')\n",
    "val_images, val_labels = data_to_tf_data(val)\n",
    "\n",
    "\n",
    "model = create_model()\n",
    "class_weight = dict(zip(range(0, 7), (((train['Emotion'].value_counts()).sort_index())/len(train['Emotion'])).tolist()))\n",
    "history = model.fit(train_images, train_labels,\n",
    "                    validation_data=(val_images, val_labels),\n",
    "                    class_weight = class_weight,\n",
    "                    epochs=12,\n",
    "                    batch_size=64)\n",
    "\n",
    "df = pd.read_csv(raw_data_path+'test_data.csv')\n",
    "test_images, test_labels = data_to_tf_data(df)\n",
    "test_loss, test_acc = model.evaluate(test_images, test_labels)"
   ]
  },
  {
   "cell_type": "code",
   "execution_count": 3,
   "metadata": {},
   "outputs": [],
   "source": [
    "import matplotlib.pyplot as plt\n",
    "\n",
    "from sklearn.metrics import confusion_matrix\n",
    "from mlxtend.plotting import plot_confusion_matrix\n"
   ]
  },
  {
   "cell_type": "code",
   "execution_count": 4,
   "metadata": {},
   "outputs": [
    {
     "data": {
      "image/png": "[encoded data removed]",
      "text/plain": [
       "<Figure size 432x288 with 1 Axes>"
      ]
     },
     "metadata": {
      "needs_background": "light"
     },
     "output_type": "display_data"
    }
   ],
   "source": [
    "loss = history.history['loss']\n",
    "loss_val = history.history['val_loss']\n",
    "epochs = range(1, len(loss)+1)\n",
    "plt.plot(epochs, loss, 'bo', label='loss_train')\n",
    "plt.plot(epochs, loss_val, 'b', label='loss_val')\n",
    "plt.title('value of the loss function')\n",
    "plt.xlabel('epochs')\n",
    "plt.ylabel('value of the loss function')\n",
    "plt.legend()\n",
    "plt.grid()\n",
    "plt.show()\n"
   ]
  },
  {
   "cell_type": "code",
   "execution_count": 5,
   "metadata": {},
   "outputs": [
    {
     "data": {
      "image/png": "[encoded data removed]",
      "text/plain": [
       "<Figure size 432x288 with 1 Axes>"
      ]
     },
     "metadata": {
      "needs_background": "light"
     },
     "output_type": "display_data"
    }
   ],
   "source": [
    "acc = history.history['accuracy']\n",
    "acc_val = history.history['val_accuracy']\n",
    "epochs = range(1, len(loss)+1)\n",
    "plt.plot(epochs, acc, 'bo', label='accuracy_train')\n",
    "plt.plot(epochs, acc_val, 'b', label='accuracy_val')\n",
    "plt.title('accuracy')\n",
    "plt.xlabel('epochs')\n",
    "plt.ylabel('value of accuracy')\n",
    "plt.legend()\n",
    "plt.grid()\n",
    "plt.show()"
   ]
  },
  {
   "cell_type": "code",
   "execution_count": 6,
   "metadata": {},
   "outputs": [],
   "source": [
    "emotions = {0: '0', 1: '1', 2: '2', 3: '3', 4: '4', 5: '5', 6: '6'}"
   ]
  },
  {
   "cell_type": "code",
   "execution_count": 7,
   "metadata": {},
   "outputs": [],
   "source": [
    "def plot_compare_distributions(array1, array2, title1='', title2=''):\n",
    "    df_array1 = pd.DataFrame()\n",
    "    df_array2 = pd.DataFrame()\n",
    "    df_array1['Emotion'] = array1.argmax(axis=1)\n",
    "    df_array2['Emotion'] = array2.argmax(axis=1)\n",
    "    \n",
    "    fig, axs = plt.subplots(1, 2, figsize=(12, 6), sharey=False)\n",
    "    x = emotions.values()\n",
    "    \n",
    "    y = df_array1['Emotion'].value_counts()\n",
    "    keys_missed = list(set(emotions.keys()).difference(set(y.keys())))\n",
    "    for key_missed in keys_missed:\n",
    "        y[key_missed] = 0\n",
    "    axs[0].bar(x, y.sort_index(), color='orange')\n",
    "    axs[0].set_title(title1)\n",
    "    axs[0].grid()\n",
    "    \n",
    "    y = df_array2['Emotion'].value_counts()\n",
    "    keys_missed = list(set(emotions.keys()).difference(set(y.keys())))\n",
    "    for key_missed in keys_missed:\n",
    "        y[key_missed] = 0\n",
    "    axs[1].bar(x, y.sort_index())\n",
    "    axs[1].set_title(title2)\n",
    "    axs[1].grid()\n",
    "    \n",
    "    plt.show()"
   ]
  },
  {
   "cell_type": "code",
   "execution_count": 8,
   "metadata": {},
   "outputs": [
    {
     "data": {
      "image/png": "[encoded data removed]",
      "text/plain": [
       "<Figure size 864x432 with 2 Axes>"
      ]
     },
     "metadata": {
      "needs_background": "light"
     },
     "output_type": "display_data"
    }
   ],
   "source": [
    "plot_compare_distributions(train_labels, val_labels, title1='train labels', title2='val labels')"
   ]
  },
  {
   "cell_type": "code",
   "execution_count": 9,
   "metadata": {},
   "outputs": [
    {
     "data": {
      "text/plain": [
       "(1.8920116424560547, 0.24937307834625244)"
      ]
     },
     "execution_count": 9,
     "metadata": {},
     "output_type": "execute_result"
    }
   ],
   "source": [
    "test_loss,test_acc"
   ]
  },
  {
   "cell_type": "code",
   "execution_count": 10,
   "metadata": {},
   "outputs": [],
   "source": [
    "pred_test_labels = model.predict(test_images)"
   ]
  },
  {
   "cell_type": "code",
   "execution_count": 11,
   "metadata": {},
   "outputs": [
    {
     "data": {
      "image/png": "[encoded data removed]",
      "text/plain": [
       "<Figure size 576x576 with 1 Axes>"
      ]
     },
     "metadata": {
      "needs_background": "light"
     },
     "output_type": "display_data"
    }
   ],
   "source": [
    "conf_mat = confusion_matrix(test_labels.argmax(axis=1), pred_test_labels.argmax(axis=1))\n",
    "\n",
    "fig, ax = plot_confusion_matrix(conf_mat=conf_mat,\n",
    "                                show_normed=True,\n",
    "                                show_absolute=False,\n",
    "                                class_names=emotions.values(),\n",
    "                                figsize=(8, 8))\n"
   ]
  },
  {
   "cell_type": "code",
   "execution_count": null,
   "metadata": {},
   "outputs": [],
   "source": [
    "# if __name__ == \"__main__\":\n",
    "#     train = pd.read_csv(raw_data_path+'initial_training_data.csv')\n",
    "#     train_images, train_labels = data_to_tf_data(train)\n",
    "\n",
    "#     val = pd.read_csv(raw_data_path+'validation_test_data.csv')\n",
    "#     val_images, val_labels = data_to_tf_data(val)\n",
    "\n",
    "\n",
    "#     model = create_model()\n",
    "#     class_weight = dict(zip(range(0, 7), (((train['Emotion'].value_counts()).sort_index())/len(train['Emotion'])).tolist()))\n",
    "#     history = model.fit(train_images, train_labels,\n",
    "#                         validation_data=(val_images, val_labels),\n",
    "#                         class_weight = class_weight,\n",
    "#                         epochs=12,\n",
    "#                         batch_size=64)\n",
    "\n",
    "#     df = pd.read_csv(raw_data_path+'test_data.csv')\n",
    "#     test_images, test_labels = data_to_tf_data(df)\n",
    "#     test_loss, test_acc = model.evaluate(test_images, test_labels)"
   ]
  }
 ],
 "metadata": {
  "kernelspec": {
   "display_name": "Python 3",
   "language": "python",
   "name": "python3"
  },
  "language_info": {
   "codemirror_mode": {
    "name": "ipython",
    "version": 3
   },
   "file_extension": ".py",
   "mimetype": "text/x-python",
   "name": "python",
   "nbconvert_exporter": "python",
   "pygments_lexer": "ipython3",
   "version": "3.8.5"
  }
 },
 "nbformat": 4,
 "nbformat_minor": 4
}
