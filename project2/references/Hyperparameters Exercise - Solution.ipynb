{
 "cells": [
  {
   "cell_type": "markdown",
   "metadata": {},
   "source": [
    "## Explore Hyperparameters Exercise - Solution"
   ]
  },
  {
   "cell_type": "code",
   "execution_count": 1,
   "metadata": {},
   "outputs": [
    {
     "name": "stdout",
     "output_type": "stream",
     "text": [
      "Downloading data from https://storage.googleapis.com/tensorflow/tf-keras-datasets/train-labels-idx1-ubyte.gz\n",
      "32768/29515 [=================================] - 0s 3us/step\n",
      "Downloading data from https://storage.googleapis.com/tensorflow/tf-keras-datasets/train-images-idx3-ubyte.gz\n",
      "26427392/26421880 [==============================] - 23s 1us/step\n",
      "Downloading data from https://storage.googleapis.com/tensorflow/tf-keras-datasets/t10k-labels-idx1-ubyte.gz\n",
      "8192/5148 [===============================================] - 0s 0s/step\n",
      "Downloading data from https://storage.googleapis.com/tensorflow/tf-keras-datasets/t10k-images-idx3-ubyte.gz\n",
      "4423680/4422102 [==============================] - 4s 1us/step\n"
     ]
    }
   ],
   "source": [
    "import tensorflow as tf\n",
    "import matplotlib.pyplot as plt\n",
    "fashion_mnist = tf.keras.datasets.fashion_mnist\n",
    "(train_images, train_labels), (test_images, test_labels) = fashion_mnist.load_data()\n",
    "\n",
    "def build_model( lr=0.001):\n",
    "    model = tf.keras.Sequential([\n",
    "    tf.keras.layers.Flatten(input_shape=(28, 28)),\n",
    "    tf.keras.layers.Dense(128, activation='relu'),\n",
    "    tf.keras.layers.Dense(10)\n",
    "    ])\n",
    "    opt = tf.keras.optimizers.Adam(learning_rate=lr)\n",
    "    model.compile(optimizer=opt,\n",
    "              loss=tf.keras.losses.SparseCategoricalCrossentropy(from_logits=True),\n",
    "              metrics=['accuracy'])\n",
    "    return model\n",
    "\n"
   ]
  },
  {
   "cell_type": "code",
   "execution_count": 2,
   "metadata": {},
   "outputs": [],
   "source": [
    "def train_model(model, epochs = 20):\n",
    "    from tensorflow.keras.callbacks import EarlyStopping\n",
    "\n",
    "    escbk = EarlyStopping(patience=2)\n",
    "    history = model.fit(train_images, train_labels, epochs=epochs, validation_data=(test_images, test_labels), callbacks=[escbk])\n",
    "    return history\n",
    "\n",
    "def benchmark(lr):\n",
    "    print(\"learning rate\", lr)\n",
    "    model = build_model(lr)\n",
    "    history = train_model(model)\n",
    "    test_loss, test_acc = model.evaluate(test_images,  test_labels, verbose=2)\n",
    "\n",
    "    print('\\nTest accuracy:', test_acc)\n",
    "    \n",
    "    # Get training and test loss histories\n",
    "    training_loss = history.history['loss']\n",
    "    test_loss = history.history['val_loss']\n",
    "    \n",
    "    # Create count of the number of epochs\n",
    "    epoch_count = range(1, len(training_loss) + 1)\n",
    "\n",
    " \n",
    "\n",
    "    # Visualize loss history\n",
    "    plt.plot(epoch_count, training_loss, 'r--')\n",
    "    plt.plot(epoch_count, test_loss, 'b-')\n",
    "    plt.ylim(0,5)\n",
    "    plt.legend(['Training Loss', 'Test Loss'])\n",
    "    plt.xlabel('Epoch')\n",
    "    plt.ylabel('Loss')\n",
    "    plt.show()\n",
    "    "
   ]
  },
  {
   "cell_type": "markdown",
   "metadata": {},
   "source": [
    "### LR = 0.1 - Not Converging\n",
    "Probably the high learning rate caused the optimizer to diverge from the gardient as the loss function stays high and fixed for both training data and validation (the model does not converge)"
   ]
  },
  {
   "cell_type": "code",
   "execution_count": 3,
   "metadata": {},
   "outputs": [
    {
     "name": "stdout",
     "output_type": "stream",
     "text": [
      "learning rate 0.1\n",
      "Epoch 1/20\n",
      "1875/1875 [==============================] - 9s 5ms/step - loss: 38.5764 - accuracy: 0.1019 - val_loss: 2.3226 - val_accuracy: 0.1000\n",
      "Epoch 2/20\n",
      "1875/1875 [==============================] - 8s 4ms/step - loss: 2.3149 - accuracy: 0.0991 - val_loss: 2.3152 - val_accuracy: 0.1000\n",
      "Epoch 3/20\n",
      "1875/1875 [==============================] - 8s 4ms/step - loss: 2.3154 - accuracy: 0.1019 - val_loss: 2.3154 - val_accuracy: 0.1000\n",
      "Epoch 4/20\n",
      "1875/1875 [==============================] - 8s 4ms/step - loss: 2.3156 - accuracy: 0.1017 - val_loss: 2.3133 - val_accuracy: 0.1000\n",
      "Epoch 5/20\n",
      "1875/1875 [==============================] - 8s 4ms/step - loss: 2.3152 - accuracy: 0.1024 - val_loss: 2.3245 - val_accuracy: 0.1000\n",
      "Epoch 6/20\n",
      "1875/1875 [==============================] - 8s 4ms/step - loss: 2.3157 - accuracy: 0.1009 - val_loss: 2.3215 - val_accuracy: 0.1000\n",
      "313/313 - 1s - loss: 2.3215 - accuracy: 0.1000\n",
      "\n",
      "Test accuracy: 0.10000000149011612\n"
     ]
    },
    {
     "data": {
      "image/png": "[encoded data removed]",
      "text/plain": [
       "<Figure size 432x288 with 1 Axes>"
      ]
     },
     "metadata": {
      "needs_background": "light"
     },
     "output_type": "display_data"
    }
   ],
   "source": [
    "benchmark(0.1)"
   ]
  },
  {
   "cell_type": "markdown",
   "metadata": {},
   "source": [
    "### LR = 0.01 - Overshooting\n",
    "Overshooting is clearly observed in this example, the loss values are bouncing throuout the gardient missing all minimum points"
   ]
  },
  {
   "cell_type": "code",
   "execution_count": 12,
   "metadata": {},
   "outputs": [
    {
     "name": "stdout",
     "output_type": "stream",
     "text": [
      "learning rate 0.01\n",
      "Epoch 1/20\n",
      "1875/1875 [==============================] - 3s 2ms/step - loss: 5.1852 - accuracy: 0.3874 - val_loss: 1.8371 - val_accuracy: 0.2938\n",
      "Epoch 2/20\n",
      "1875/1875 [==============================] - 3s 2ms/step - loss: 2.1055 - accuracy: 0.1951 - val_loss: 2.4616 - val_accuracy: 0.1334\n",
      "Epoch 3/20\n",
      "1875/1875 [==============================] - 3s 2ms/step - loss: 2.2595 - accuracy: 0.1256 - val_loss: 2.2767 - val_accuracy: 0.1120\n",
      "313/313 - 0s - loss: 2.2767 - accuracy: 0.1120\n",
      "\n",
      "Test accuracy: 0.1120000034570694\n"
     ]
    },
    {
     "data": {
      "image/png": "[encoded data removed]",
      "text/plain": [
       "<Figure size 432x288 with 1 Axes>"
      ]
     },
     "metadata": {
      "needs_background": "light"
     },
     "output_type": "display_data"
    }
   ],
   "source": [
    "benchmark(0.01)"
   ]
  },
  {
   "cell_type": "markdown",
   "metadata": {},
   "source": [
    "### LR = 0.001 - Good Learning Rate\n",
    "We can see its seems like a good learning rate, the model converge to a minimum\n",
    "> NOTE: You can see that arround epoch 6 the model gets too specific for the training data set (overfitting)"
   ]
  },
  {
   "cell_type": "code",
   "execution_count": 14,
   "metadata": {},
   "outputs": [
    {
     "name": "stdout",
     "output_type": "stream",
     "text": [
      "learning rate 0.001\n",
      "Epoch 1/20\n",
      "1875/1875 [==============================] - 3s 2ms/step - loss: 3.4861 - accuracy: 0.6670 - val_loss: 0.9042 - val_accuracy: 0.6749\n",
      "Epoch 2/20\n",
      "1875/1875 [==============================] - 3s 2ms/step - loss: 0.7534 - accuracy: 0.7197 - val_loss: 0.7457 - val_accuracy: 0.7279\n",
      "Epoch 3/20\n",
      "1875/1875 [==============================] - 3s 2ms/step - loss: 0.6503 - accuracy: 0.7573 - val_loss: 0.6267 - val_accuracy: 0.7568\n",
      "Epoch 4/20\n",
      "1875/1875 [==============================] - 3s 2ms/step - loss: 0.5963 - accuracy: 0.7839 - val_loss: 0.6833 - val_accuracy: 0.7417\n",
      "Epoch 5/20\n",
      "1875/1875 [==============================] - 3s 2ms/step - loss: 0.5847 - accuracy: 0.7888 - val_loss: 0.7141 - val_accuracy: 0.7207\n",
      "313/313 - 0s - loss: 0.7141 - accuracy: 0.7207\n",
      "\n",
      "Test accuracy: 0.7207000255584717\n"
     ]
    },
    {
     "data": {
      "image/png": "[encoded data removed]",
      "text/plain": [
       "<Figure size 432x288 with 1 Axes>"
      ]
     },
     "metadata": {
      "needs_background": "light"
     },
     "output_type": "display_data"
    }
   ],
   "source": [
    "benchmark(0.001)"
   ]
  },
  {
   "cell_type": "markdown",
   "metadata": {},
   "source": [
    "### LR = 0.0001 - Slow & Steady\n",
    "Slow and steady learning rate, the model converges but it requires much more iterations then using LR=0.001"
   ]
  },
  {
   "cell_type": "code",
   "execution_count": 13,
   "metadata": {},
   "outputs": [
    {
     "name": "stdout",
     "output_type": "stream",
     "text": [
      "learning rate 0.0001\n",
      "Epoch 1/20\n",
      "1875/1875 [==============================] - 3s 2ms/step - loss: 10.6912 - accuracy: 0.7263 - val_loss: 5.7362 - val_accuracy: 0.7823\n",
      "Epoch 2/20\n",
      "1875/1875 [==============================] - 3s 2ms/step - loss: 4.2727 - accuracy: 0.7936 - val_loss: 3.8143 - val_accuracy: 0.7828\n",
      "Epoch 3/20\n",
      "1875/1875 [==============================] - 3s 2ms/step - loss: 2.7713 - accuracy: 0.8072 - val_loss: 2.9256 - val_accuracy: 0.7773\n",
      "Epoch 4/20\n",
      "1875/1875 [==============================] - 3s 2ms/step - loss: 1.9611 - accuracy: 0.8105 - val_loss: 2.0751 - val_accuracy: 0.8026\n",
      "Epoch 5/20\n",
      "1875/1875 [==============================] - 3s 2ms/step - loss: 1.3697 - accuracy: 0.8147 - val_loss: 1.3520 - val_accuracy: 0.7943\n",
      "Epoch 6/20\n",
      "1875/1875 [==============================] - 3s 2ms/step - loss: 0.7972 - accuracy: 0.7916 - val_loss: 0.9095 - val_accuracy: 0.7835\n",
      "Epoch 7/20\n",
      "1875/1875 [==============================] - 3s 2ms/step - loss: 0.5950 - accuracy: 0.8163 - val_loss: 0.7709 - val_accuracy: 0.8035\n",
      "Epoch 8/20\n",
      "1875/1875 [==============================] - 3s 2ms/step - loss: 0.5001 - accuracy: 0.8340 - val_loss: 0.6612 - val_accuracy: 0.8210\n",
      "Epoch 9/20\n",
      "1875/1875 [==============================] - 3s 2ms/step - loss: 0.4453 - accuracy: 0.8453 - val_loss: 0.6080 - val_accuracy: 0.8211\n",
      "Epoch 10/20\n",
      "1875/1875 [==============================] - 3s 2ms/step - loss: 0.4125 - accuracy: 0.8529 - val_loss: 0.6313 - val_accuracy: 0.8274\n",
      "Epoch 11/20\n",
      "1875/1875 [==============================] - 3s 2ms/step - loss: 0.3862 - accuracy: 0.8596 - val_loss: 0.5781 - val_accuracy: 0.8376\n",
      "Epoch 12/20\n",
      "1875/1875 [==============================] - 3s 2ms/step - loss: 0.3665 - accuracy: 0.8661 - val_loss: 0.5533 - val_accuracy: 0.8430\n",
      "Epoch 13/20\n",
      "1875/1875 [==============================] - 3s 2ms/step - loss: 0.3505 - accuracy: 0.8714 - val_loss: 0.5423 - val_accuracy: 0.8416\n",
      "Epoch 14/20\n",
      "1875/1875 [==============================] - 3s 2ms/step - loss: 0.3367 - accuracy: 0.8749 - val_loss: 0.5541 - val_accuracy: 0.8406\n",
      "Epoch 15/20\n",
      "1875/1875 [==============================] - 3s 2ms/step - loss: 0.3262 - accuracy: 0.8786 - val_loss: 0.5312 - val_accuracy: 0.8474\n",
      "Epoch 16/20\n",
      "1875/1875 [==============================] - 3s 2ms/step - loss: 0.3166 - accuracy: 0.8809 - val_loss: 0.5354 - val_accuracy: 0.8485\n",
      "Epoch 17/20\n",
      "1875/1875 [==============================] - 3s 2ms/step - loss: 0.3071 - accuracy: 0.8856 - val_loss: 0.5756 - val_accuracy: 0.8506\n",
      "313/313 - 0s - loss: 0.5756 - accuracy: 0.8506\n",
      "\n",
      "Test accuracy: 0.850600004196167\n"
     ]
    },
    {
     "data": {
      "image/png": "[encoded data removed]",
      "text/plain": [
       "<Figure size 432x288 with 1 Axes>"
      ]
     },
     "metadata": {
      "needs_background": "light"
     },
     "output_type": "display_data"
    }
   ],
   "source": [
    "benchmark(0.0001)"
   ]
  }
 ],
 "metadata": {
  "kernelspec": {
   "display_name": "Python 3",
   "language": "python",
   "name": "python3"
  },
  "language_info": {
   "codemirror_mode": {
    "name": "ipython",
    "version": 3
   },
   "file_extension": ".py",
   "mimetype": "text/x-python",
   "name": "python",
   "nbconvert_exporter": "python",
   "pygments_lexer": "ipython3",
   "version": "3.8.5"
  }
 },
 "nbformat": 4,
 "nbformat_minor": 5
}
