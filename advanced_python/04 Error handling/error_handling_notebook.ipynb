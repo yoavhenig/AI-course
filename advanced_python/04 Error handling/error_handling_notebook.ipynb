{
 "cells": [
  {
   "cell_type": "markdown",
   "metadata": {
    "colab_type": "text",
    "id": "lgsZwKnJZj4N"
   },
   "source": [
    "# Error Handling"
   ]
  },
  {
   "cell_type": "markdown",
   "metadata": {
    "colab_type": "text",
    "id": "ZlqEtZ0tZj4R"
   },
   "source": [
    "## Errors"
   ]
  },
  {
   "cell_type": "markdown",
   "metadata": {
    "colab_type": "text",
    "id": "lvK6q3B2Zj4U"
   },
   "source": [
    "There are three main types of errors:\n",
    "\n",
    "* **Syntax errors**, which are easy to identify\n",
    "* **Logical errors**, which are difficult to identify\n",
    "* **Runtime errors**, which is the true subject of this chapter"
   ]
  },
  {
   "cell_type": "markdown",
   "metadata": {
    "colab_type": "text",
    "id": "DPoohPH9Zj4V"
   },
   "source": [
    "### Syntax errors"
   ]
  },
  {
   "cell_type": "markdown",
   "metadata": {
    "colab_type": "text",
    "id": "8Q1iZEjjZj4W"
   },
   "source": [
    "These errors are like grammatical errors, and the interpreter will not be able to understand the code. This is why it will raise a _SyntaxError_ (or an alternative) before even trying to execute the code."
   ]
  },
  {
   "cell_type": "markdown",
   "metadata": {
    "colab_type": "text",
    "id": "fsPwmPulZj4X"
   },
   "source": [
    "#### Example 1"
   ]
  },
  {
   "cell_type": "code",
   "execution_count": 1,
   "metadata": {
    "colab": {},
    "colab_type": "code",
    "id": "m937cKQOZj4Y",
    "outputId": "a04a5e89-c1a2-4249-edf4-364a325db813"
   },
   "outputs": [
    {
     "ename": "SyntaxError",
     "evalue": "invalid syntax (<ipython-input-1-518522bcaa06>, line 1)",
     "output_type": "error",
     "traceback": [
      "\u001b[1;36m  File \u001b[1;32m\"<ipython-input-1-518522bcaa06>\"\u001b[1;36m, line \u001b[1;32m1\u001b[0m\n\u001b[1;33m    x +\u001b[0m\n\u001b[1;37m       ^\u001b[0m\n\u001b[1;31mSyntaxError\u001b[0m\u001b[1;31m:\u001b[0m invalid syntax\n"
     ]
    }
   ],
   "source": [
    "x +"
   ]
  },
  {
   "cell_type": "markdown",
   "metadata": {
    "colab_type": "text",
    "id": "UOnezadrZj4f"
   },
   "source": [
    "#### Example 2"
   ]
  },
  {
   "cell_type": "code",
   "execution_count": 2,
   "metadata": {
    "colab": {},
    "colab_type": "code",
    "id": "3sHRoTQdZj4g",
    "outputId": "8d880b91-42a9-47ea-820b-afc985abb064"
   },
   "outputs": [
    {
     "ename": "SyntaxError",
     "evalue": "invalid syntax (<ipython-input-2-8e21a7dbb4d2>, line 1)",
     "output_type": "error",
     "traceback": [
      "\u001b[1;36m  File \u001b[1;32m\"<ipython-input-2-8e21a7dbb4d2>\"\u001b[1;36m, line \u001b[1;32m1\u001b[0m\n\u001b[1;33m    if 5 > 3\u001b[0m\n\u001b[1;37m            ^\u001b[0m\n\u001b[1;31mSyntaxError\u001b[0m\u001b[1;31m:\u001b[0m invalid syntax\n"
     ]
    }
   ],
   "source": [
    "if 5 > 3\n",
    "    print \"Yes\""
   ]
  },
  {
   "cell_type": "markdown",
   "metadata": {
    "colab_type": "text",
    "id": "eYBTR_Z5Zj4k"
   },
   "source": [
    "#### Example 3"
   ]
  },
  {
   "cell_type": "code",
   "execution_count": 3,
   "metadata": {
    "colab": {},
    "colab_type": "code",
    "id": "xFDUgsI9Zj4l",
    "outputId": "7ba293ac-adab-4691-8007-112f87c20fb1"
   },
   "outputs": [
    {
     "ename": "SyntaxError",
     "evalue": "unexpected EOF while parsing (<ipython-input-3-5f44aa73ee05>, line 1)",
     "output_type": "error",
     "traceback": [
      "\u001b[1;36m  File \u001b[1;32m\"<ipython-input-3-5f44aa73ee05>\"\u001b[1;36m, line \u001b[1;32m1\u001b[0m\n\u001b[1;33m    for i in range(5):\u001b[0m\n\u001b[1;37m                          ^\u001b[0m\n\u001b[1;31mSyntaxError\u001b[0m\u001b[1;31m:\u001b[0m unexpected EOF while parsing\n"
     ]
    }
   ],
   "source": [
    "for i in range(5):    "
   ]
  },
  {
   "cell_type": "markdown",
   "metadata": {
    "colab_type": "text",
    "id": "wWClsRwRZj4p"
   },
   "source": [
    "#### Example 4"
   ]
  },
  {
   "cell_type": "code",
   "execution_count": 4,
   "metadata": {
    "colab": {},
    "colab_type": "code",
    "id": "EZkV5tQWZj4q",
    "outputId": "a71d992e-d3ac-496c-caba-eac370286db9"
   },
   "outputs": [
    {
     "ename": "IndentationError",
     "evalue": "expected an indented block (<ipython-input-4-796a03de54a8>, line 2)",
     "output_type": "error",
     "traceback": [
      "\u001b[1;36m  File \u001b[1;32m\"<ipython-input-4-796a03de54a8>\"\u001b[1;36m, line \u001b[1;32m2\u001b[0m\n\u001b[1;33m    print i\u001b[0m\n\u001b[1;37m        ^\u001b[0m\n\u001b[1;31mIndentationError\u001b[0m\u001b[1;31m:\u001b[0m expected an indented block\n"
     ]
    }
   ],
   "source": [
    "for i in range(5):\n",
    "print i"
   ]
  },
  {
   "cell_type": "markdown",
   "metadata": {
    "colab_type": "text",
    "id": "hOX8Ga7aZj4u"
   },
   "source": [
    "#### Example 5"
   ]
  },
  {
   "cell_type": "code",
   "execution_count": 5,
   "metadata": {
    "colab": {},
    "colab_type": "code",
    "id": "FTCKf5NPZj4u",
    "outputId": "9d1e07a6-d671-45ca-e6c2-c1258f139862"
   },
   "outputs": [
    {
     "ename": "SyntaxError",
     "evalue": "Missing parentheses in call to 'print'. Did you mean print(\"Hello)? (<ipython-input-5-fc02e477ed12>, line 1)",
     "output_type": "error",
     "traceback": [
      "\u001b[1;36m  File \u001b[1;32m\"<ipython-input-5-fc02e477ed12>\"\u001b[1;36m, line \u001b[1;32m1\u001b[0m\n\u001b[1;33m    print \"Hello\u001b[0m\n\u001b[1;37m                ^\u001b[0m\n\u001b[1;31mSyntaxError\u001b[0m\u001b[1;31m:\u001b[0m Missing parentheses in call to 'print'. Did you mean print(\"Hello)?\n"
     ]
    }
   ],
   "source": [
    "print \"Hello"
   ]
  },
  {
   "cell_type": "markdown",
   "metadata": {
    "colab_type": "text",
    "id": "K_BGE2sAZj4z"
   },
   "source": [
    "### Logical Errors"
   ]
  },
  {
   "cell_type": "markdown",
   "metadata": {
    "colab_type": "text",
    "id": "2KQuycv-Zj41"
   },
   "source": [
    "Logoial errors occur when the program runs without crashing, but produces an incorrect result. The errors are caused by a mistake in the program’s logic, so they are usually the most difficult to find and fix."
   ]
  },
  {
   "cell_type": "markdown",
   "metadata": {
    "colab_type": "text",
    "id": "Fk7ePFGwZj42"
   },
   "source": [
    "#### Example 1"
   ]
  },
  {
   "cell_type": "markdown",
   "metadata": {
    "colab_type": "text",
    "id": "3uuksp7aZj43"
   },
   "source": [
    "What is the sum of the numbers from 1 to 74?"
   ]
  },
  {
   "cell_type": "code",
   "execution_count": 6,
   "metadata": {
    "colab": {},
    "colab_type": "code",
    "id": "hy-Icfm3Zj44",
    "outputId": "2eb68e58-e3f4-41bd-fa8a-64e2ed2e4fca"
   },
   "outputs": [
    {
     "name": "stdout",
     "output_type": "stream",
     "text": [
      "2701\n"
     ]
    }
   ],
   "source": [
    "print(sum(range(74)))"
   ]
  },
  {
   "cell_type": "markdown",
   "metadata": {
    "colab_type": "text",
    "id": "mb0QK-cSZj47"
   },
   "source": [
    "This is not the correct answer because _range(74)_ includes the numbers from 0 to 73, and not the requested numbers."
   ]
  },
  {
   "cell_type": "markdown",
   "metadata": {
    "colab_type": "text",
    "id": "4hCX2wMRZj48"
   },
   "source": [
    "#### Example 2"
   ]
  },
  {
   "cell_type": "markdown",
   "metadata": {
    "colab_type": "text",
    "id": "aa4hflnEZj49"
   },
   "source": [
    "How many common letters do the words 'interchangeably' and 'schwarzenegger' have?"
   ]
  },
  {
   "cell_type": "code",
   "execution_count": 7,
   "metadata": {
    "colab": {},
    "colab_type": "code",
    "id": "j-PslYcrZj4-",
    "outputId": "f40d82e5-e92a-409d-994d-7a1b4e35980b"
   },
   "outputs": [
    {
     "name": "stdout",
     "output_type": "stream",
     "text": [
      "10\n"
     ]
    }
   ],
   "source": [
    "word1 = 'interchangeably'\n",
    "word2 = 'schwarzenegger'\n",
    "common = len([letter for letter in word1 if letter in word2])\n",
    "print(common)"
   ]
  },
  {
   "cell_type": "markdown",
   "metadata": {
    "colab_type": "text",
    "id": "3IWtc78aZj5B"
   },
   "source": [
    "This is not the correct answer because every common letter is counted as many times as it appears in _word1_."
   ]
  },
  {
   "cell_type": "markdown",
   "metadata": {
    "colab_type": "text",
    "id": "UTgRtHzwZj5C"
   },
   "source": [
    "### Runtime errors"
   ]
  },
  {
   "cell_type": "markdown",
   "metadata": {
    "colab_type": "text",
    "id": "VJXGkFJpZj5D"
   },
   "source": [
    "Runtime errors are in the middle between syntax errors and logical errors. The syntax is correct, so the code will start running, but an unexpected problem, which was not detected by the **static** parser, will cause the code to exit. This is a very common situation, and in what follows we will see how to deal with such situations."
   ]
  },
  {
   "cell_type": "markdown",
   "metadata": {
    "colab_type": "text",
    "id": "y2KC2SpCZj5E"
   },
   "source": [
    "## Exceptions"
   ]
  },
  {
   "cell_type": "markdown",
   "metadata": {
    "colab_type": "text",
    "id": "Tn6lBNZKZj5F"
   },
   "source": [
    "When Python bumps into an error it raises an **exception**. There are many types of exceptions, and each one has its unique name. The most common of them are listed below, and the full list can be found in the [documentation][Exceptions].\n",
    "\n",
    "[Exceptions]: https://docs.python.org/3/library/exceptions.html \"Documentation of built-in exceptions in Python\""
   ]
  },
  {
   "cell_type": "markdown",
   "metadata": {
    "colab_type": "text",
    "id": "FpK_FCarZj5G"
   },
   "source": [
    "### ValueError"
   ]
  },
  {
   "cell_type": "markdown",
   "metadata": {
    "colab_type": "text",
    "id": "r-ppEpQOZj5H"
   },
   "source": [
    "Raised when a built-in operation or function receives an argument that has an inappropriate value."
   ]
  },
  {
   "cell_type": "code",
   "execution_count": 8,
   "metadata": {
    "colab": {},
    "colab_type": "code",
    "id": "0NMdxBU3Zj5J",
    "outputId": "b596e7f6-115f-4282-e049-0647f78e051d"
   },
   "outputs": [
    {
     "ename": "ValueError",
     "evalue": "could not convert string to float: 'a'",
     "output_type": "error",
     "traceback": [
      "\u001b[1;31m---------------------------------------------------------------------------\u001b[0m",
      "\u001b[1;31mValueError\u001b[0m                                Traceback (most recent call last)",
      "\u001b[1;32m<ipython-input-8-688063d46f27>\u001b[0m in \u001b[0;36m<module>\u001b[1;34m\u001b[0m\n\u001b[1;32m----> 1\u001b[1;33m \u001b[0mfloat\u001b[0m\u001b[1;33m(\u001b[0m\u001b[1;34m'a'\u001b[0m\u001b[1;33m)\u001b[0m\u001b[1;33m\u001b[0m\u001b[1;33m\u001b[0m\u001b[0m\n\u001b[0m",
      "\u001b[1;31mValueError\u001b[0m: could not convert string to float: 'a'"
     ]
    }
   ],
   "source": [
    "float('a')"
   ]
  },
  {
   "cell_type": "markdown",
   "metadata": {
    "colab_type": "text",
    "id": "QIirz9USZj5O"
   },
   "source": [
    "### IndexError"
   ]
  },
  {
   "cell_type": "markdown",
   "metadata": {
    "colab_type": "text",
    "id": "NuWsHV_6Zj5P"
   },
   "source": [
    "Raised when a sequence subscript is out of range."
   ]
  },
  {
   "cell_type": "code",
   "execution_count": 9,
   "metadata": {
    "colab": {},
    "colab_type": "code",
    "id": "qQnlNOb7Zj5P",
    "outputId": "79b94451-89d3-4a66-9182-72833f953c4f"
   },
   "outputs": [
    {
     "ename": "IndexError",
     "evalue": "list index out of range",
     "output_type": "error",
     "traceback": [
      "\u001b[1;31m---------------------------------------------------------------------------\u001b[0m",
      "\u001b[1;31mIndexError\u001b[0m                                Traceback (most recent call last)",
      "\u001b[1;32m<ipython-input-9-999fc847d2e1>\u001b[0m in \u001b[0;36m<module>\u001b[1;34m\u001b[0m\n\u001b[0;32m      1\u001b[0m \u001b[0ma\u001b[0m \u001b[1;33m=\u001b[0m \u001b[1;33m[\u001b[0m\u001b[1;34m'a'\u001b[0m\u001b[1;33m,\u001b[0m \u001b[1;34m'b'\u001b[0m\u001b[1;33m,\u001b[0m \u001b[1;34m'c'\u001b[0m\u001b[1;33m]\u001b[0m\u001b[1;33m\u001b[0m\u001b[1;33m\u001b[0m\u001b[0m\n\u001b[1;32m----> 2\u001b[1;33m \u001b[0ma\u001b[0m\u001b[1;33m[\u001b[0m\u001b[1;36m3\u001b[0m\u001b[1;33m]\u001b[0m\u001b[1;33m\u001b[0m\u001b[1;33m\u001b[0m\u001b[0m\n\u001b[0m",
      "\u001b[1;31mIndexError\u001b[0m: list index out of range"
     ]
    }
   ],
   "source": [
    "a = ['a', 'b', 'c']\n",
    "a[3]"
   ]
  },
  {
   "cell_type": "markdown",
   "metadata": {
    "colab_type": "text",
    "id": "HjXGI1XYZj5T"
   },
   "source": [
    "### TypeError"
   ]
  },
  {
   "cell_type": "markdown",
   "metadata": {
    "colab_type": "text",
    "id": "SbJdZ5nEZj5U"
   },
   "source": [
    "Raised when an operation or function is applied to an object of inappropriate type."
   ]
  },
  {
   "cell_type": "code",
   "execution_count": 10,
   "metadata": {
    "colab": {},
    "colab_type": "code",
    "id": "0Xz_vGh_Zj5V",
    "outputId": "48bea066-7c0b-4fdb-adb4-dffbed153bbc"
   },
   "outputs": [
    {
     "ename": "TypeError",
     "evalue": "can only concatenate str (not \"int\") to str",
     "output_type": "error",
     "traceback": [
      "\u001b[1;31m---------------------------------------------------------------------------\u001b[0m",
      "\u001b[1;31mTypeError\u001b[0m                                 Traceback (most recent call last)",
      "\u001b[1;32m<ipython-input-10-5981e5cdefeb>\u001b[0m in \u001b[0;36m<module>\u001b[1;34m\u001b[0m\n\u001b[1;32m----> 1\u001b[1;33m \u001b[1;34m'a'\u001b[0m \u001b[1;33m+\u001b[0m \u001b[1;36m5\u001b[0m\u001b[1;33m\u001b[0m\u001b[1;33m\u001b[0m\u001b[0m\n\u001b[0m",
      "\u001b[1;31mTypeError\u001b[0m: can only concatenate str (not \"int\") to str"
     ]
    }
   ],
   "source": [
    "'a' + 5"
   ]
  },
  {
   "cell_type": "markdown",
   "metadata": {
    "colab_type": "text",
    "id": "jDyjVkCVZj5Y"
   },
   "source": [
    "### IOError"
   ]
  },
  {
   "cell_type": "markdown",
   "metadata": {
    "colab_type": "text",
    "id": "EHMX_VhWZj5Z"
   },
   "source": [
    "Raised when an I/O operation fails for an I/O-related reason."
   ]
  },
  {
   "cell_type": "code",
   "execution_count": 11,
   "metadata": {
    "colab": {},
    "colab_type": "code",
    "id": "g78YRgROZj5a",
    "outputId": "9bab89cf-61b9-41e2-9b73-35e016a1b276"
   },
   "outputs": [
    {
     "ename": "FileNotFoundError",
     "evalue": "[Errno 2] No such file or directory: 'c:\\\\temp\\\\no_such_file.txt'",
     "output_type": "error",
     "traceback": [
      "\u001b[1;31m---------------------------------------------------------------------------\u001b[0m",
      "\u001b[1;31mFileNotFoundError\u001b[0m                         Traceback (most recent call last)",
      "\u001b[1;32m<ipython-input-11-af9b66b19619>\u001b[0m in \u001b[0;36m<module>\u001b[1;34m\u001b[0m\n\u001b[1;32m----> 1\u001b[1;33m \u001b[0mopen\u001b[0m\u001b[1;33m(\u001b[0m\u001b[1;34m\"c:\\\\temp\\\\no_such_file.txt\"\u001b[0m\u001b[1;33m)\u001b[0m\u001b[1;33m\u001b[0m\u001b[1;33m\u001b[0m\u001b[0m\n\u001b[0m",
      "\u001b[1;31mFileNotFoundError\u001b[0m: [Errno 2] No such file or directory: 'c:\\\\temp\\\\no_such_file.txt'"
     ]
    }
   ],
   "source": [
    "open(\"c:\\\\temp\\\\no_such_file.txt\")"
   ]
  },
  {
   "cell_type": "markdown",
   "metadata": {
    "colab_type": "text",
    "id": "O0_D9-pOZj5f"
   },
   "source": [
    "### KeyError"
   ]
  },
  {
   "cell_type": "markdown",
   "metadata": {
    "colab_type": "text",
    "id": "vwiAofZZZj5g"
   },
   "source": [
    "Raised when a mapping key is not found in the set of existing keys."
   ]
  },
  {
   "cell_type": "code",
   "execution_count": 12,
   "metadata": {
    "colab": {},
    "colab_type": "code",
    "id": "HeSOn0AEZj5h",
    "outputId": "547989ca-4a33-4dd1-e743-6a14e55d70ac"
   },
   "outputs": [
    {
     "ename": "KeyError",
     "evalue": "3",
     "output_type": "error",
     "traceback": [
      "\u001b[1;31m---------------------------------------------------------------------------\u001b[0m",
      "\u001b[1;31mKeyError\u001b[0m                                  Traceback (most recent call last)",
      "\u001b[1;32m<ipython-input-12-294bd6d8e380>\u001b[0m in \u001b[0;36m<module>\u001b[1;34m\u001b[0m\n\u001b[0;32m      1\u001b[0m \u001b[0md\u001b[0m \u001b[1;33m=\u001b[0m \u001b[1;33m{\u001b[0m\u001b[1;36m1\u001b[0m\u001b[1;33m:\u001b[0m \u001b[1;34m'one'\u001b[0m\u001b[1;33m,\u001b[0m \u001b[1;36m2\u001b[0m\u001b[1;33m:\u001b[0m \u001b[1;34m'two'\u001b[0m\u001b[1;33m}\u001b[0m\u001b[1;33m\u001b[0m\u001b[1;33m\u001b[0m\u001b[0m\n\u001b[1;32m----> 2\u001b[1;33m \u001b[0md\u001b[0m\u001b[1;33m[\u001b[0m\u001b[1;36m3\u001b[0m\u001b[1;33m]\u001b[0m\u001b[1;33m\u001b[0m\u001b[1;33m\u001b[0m\u001b[0m\n\u001b[0m",
      "\u001b[1;31mKeyError\u001b[0m: 3"
     ]
    }
   ],
   "source": [
    "d = {1: 'one', 2: 'two'}\n",
    "d[3]"
   ]
  },
  {
   "cell_type": "markdown",
   "metadata": {
    "colab_type": "text",
    "id": "4pi18OfHZj5l"
   },
   "source": [
    "### NameError"
   ]
  },
  {
   "cell_type": "markdown",
   "metadata": {
    "colab_type": "text",
    "id": "ZhgMwxjUZj5m"
   },
   "source": [
    "Raised when a local or global name is not found."
   ]
  },
  {
   "cell_type": "code",
   "execution_count": 13,
   "metadata": {
    "colab": {},
    "colab_type": "code",
    "id": "CJemgZBCZj5n",
    "outputId": "a135ab0c-494b-495f-bf7b-3fc7a2a085ec"
   },
   "outputs": [
    {
     "ename": "SyntaxError",
     "evalue": "EOL while scanning string literal (<ipython-input-13-be02690166f9>, line 4)",
     "output_type": "error",
     "traceback": [
      "\u001b[1;36m  File \u001b[1;32m\"<ipython-input-13-be02690166f9>\"\u001b[1;36m, line \u001b[1;32m4\u001b[0m\n\u001b[1;33m    'f\u001b[0m\n\u001b[1;37m      ^\u001b[0m\n\u001b[1;31mSyntaxError\u001b[0m\u001b[1;31m:\u001b[0m EOL while scanning string literal\n"
     ]
    }
   ],
   "source": [
    "print(my_imaginary_variable)\n",
    "'d'\n",
    "'e'\n",
    "'f"
   ]
  },
  {
   "cell_type": "markdown",
   "metadata": {
    "colab_type": "text",
    "id": "8VHSj7cUZj5r"
   },
   "source": [
    "### ZeroDivisionError"
   ]
  },
  {
   "cell_type": "markdown",
   "metadata": {
    "colab_type": "text",
    "id": "GdvfJZrEZj5s"
   },
   "source": [
    "Raised when the second argument of a division or modulo operation is zero."
   ]
  },
  {
   "cell_type": "code",
   "execution_count": 14,
   "metadata": {
    "colab": {},
    "colab_type": "code",
    "id": "kZ-6JOhUZj5t",
    "outputId": "55afbca3-f218-4608-a900-e2af377e1103"
   },
   "outputs": [
    {
     "ename": "ZeroDivisionError",
     "evalue": "division by zero",
     "output_type": "error",
     "traceback": [
      "\u001b[1;31m---------------------------------------------------------------------------\u001b[0m",
      "\u001b[1;31mZeroDivisionError\u001b[0m                         Traceback (most recent call last)",
      "\u001b[1;32m<ipython-input-14-9e1622b385b6>\u001b[0m in \u001b[0;36m<module>\u001b[1;34m\u001b[0m\n\u001b[1;32m----> 1\u001b[1;33m \u001b[1;36m1\u001b[0m\u001b[1;33m/\u001b[0m\u001b[1;36m0\u001b[0m\u001b[1;33m\u001b[0m\u001b[1;33m\u001b[0m\u001b[0m\n\u001b[0m",
      "\u001b[1;31mZeroDivisionError\u001b[0m: division by zero"
     ]
    }
   ],
   "source": [
    "1/0"
   ]
  },
  {
   "cell_type": "markdown",
   "metadata": {
    "colab_type": "text",
    "id": "P0s_VnzlZj5w"
   },
   "source": [
    "## _try ... except_ block"
   ]
  },
  {
   "cell_type": "markdown",
   "metadata": {
    "colab_type": "text",
    "id": "65dMYijhZj5x"
   },
   "source": [
    "Whether we like it or not, when an error occurs, an exception is raised. However, sometimes we want the program not to quit, but rather to proceed, and perhaps even to decide how to proceed according to the raised exception. This is acheived by the powerful try-except block.\n",
    "\n",
    "Python will **try** to process all the statements inside the _try_ block. If everything goes smoothly, then it skips the _except_ block and continues to the rest of the code. If a (runtime) error was raised, then it jumps to the _except_ block to look for \"further instructions\"."
   ]
  },
  {
   "cell_type": "markdown",
   "metadata": {
    "colab_type": "text",
    "id": "fb6upJ53Zj5y"
   },
   "source": [
    "### Example 1a"
   ]
  },
  {
   "cell_type": "markdown",
   "metadata": {
    "colab_type": "text",
    "id": "3zxgpxsWZj50"
   },
   "source": [
    "Let's say we want to get the prices for several items."
   ]
  },
  {
   "cell_type": "code",
   "execution_count": 17,
   "metadata": {
    "colab": {},
    "colab_type": "code",
    "id": "Z84Sw2N1Zj50",
    "outputId": "62e34bde-7ac0-4a25-9bea-a38b0b5135be",
    "scrolled": true
   },
   "outputs": [],
   "source": [
    "cart = []\n",
    "done = \"n\"\n",
    "while done.lower() == \"n\":\n",
    "    item = input(\"What is the product?\\n\")\n",
    "    price = float(input(\"How much did it cost?\\n\"))          # (1)\n",
    "    quantity = int(input(\"How many did you buy?\\n\"))         # (1)\n",
    "    per_item = price / quantity                                  # (2)\n",
    "    cart.append((item, per_item))\n",
    "    done = input(\"Are you done? (y/n)\\n\")\n",
    "for pair in cart:\n",
    "    print(\"{:<10}: {:.2f} Sheqels per item\".format(pair[0], pair[1]))"
   ]
  },
  {
   "cell_type": "markdown",
   "metadata": {
    "colab_type": "text",
    "id": "y2BEhQVFZj53"
   },
   "source": [
    "There are two obvious scenarios in which the script of example 1a will raise an exception:\n",
    "\n",
    "* The lines with (1) will raise a _ValueError_ if the input will not be convertable\n",
    "* The line with (2) will raise a _ZeroDivisionError_ if _quantity_ is 0."
   ]
  },
  {
   "cell_type": "markdown",
   "metadata": {
    "colab_type": "text",
    "id": "ADW6XkvRZj54"
   },
   "source": [
    "Obviously we don't want the program to abort with any typo of the user, but rather to ask again. This is where _try...except_ becomes useful."
   ]
  },
  {
   "cell_type": "markdown",
   "metadata": {
    "colab_type": "text",
    "id": "786jNFjrZj55"
   },
   "source": [
    "### Example 1b"
   ]
  },
  {
   "cell_type": "code",
   "execution_count": 18,
   "metadata": {
    "colab": {},
    "colab_type": "code",
    "id": "VddBDpRVZj56",
    "outputId": "307c5004-8dc6-4dbf-c324-c3da5f1a3cbb"
   },
   "outputs": [],
   "source": [
    "cart = []\n",
    "done = \"n\"\n",
    "while done.lower() == \"n\":\n",
    "    try:\n",
    "        item = input(\"What is the product?\\n\")\n",
    "        price = float(input(\"How much did it cost?\\n\"))          # (1)\n",
    "        quantity = int(input(\"How many did you buy?\\n\"))         # (1)\n",
    "        per_item = price / quantity                                  # (2)\n",
    "        cart.append((item, per_item))\n",
    "    except:\n",
    "        print(\"Something is not right...\")\n",
    "    done = input(\"Are you done? (y/n)\\n\")\n",
    "for pair in cart:\n",
    "    print(\"{:<10}: {:.2f} Sheqels per item\".format(pair[0], pair[1]))"
   ]
  },
  {
   "cell_type": "markdown",
   "metadata": {
    "colab_type": "text",
    "id": "HS3a6A3HZj59"
   },
   "source": [
    "Example 1b showed how to overcome **any** exception, but using a simple _except_ is dengerous because it \"tolerates\" all exceptions without difference. It is more advised to treat exceptions separately. The next example demonstrates how we deal with specific error types.\n",
    "\n",
    "It should be noted that error-specific _except_ blocks will not catch other types of errors. This is bad news because the code may still quit unexpectedly, but it is also good news because missed errors will not be hidden."
   ]
  },
  {
   "cell_type": "markdown",
   "metadata": {
    "colab_type": "text",
    "id": "JWNnVxugZj59"
   },
   "source": [
    "### Example 1c"
   ]
  },
  {
   "cell_type": "code",
   "execution_count": 19,
   "metadata": {
    "colab": {},
    "colab_type": "code",
    "id": "uu2blmklZj5-",
    "outputId": "67afc140-f507-4760-8b6b-b79fef8542b7"
   },
   "outputs": [],
   "source": [
    "cart = []\n",
    "done = \"n\"\n",
    "while done.lower() == \"n\":\n",
    "    try:\n",
    "        item = input(\"What is the product?\\n\")\n",
    "        price = float(input(\"How much did it cost?\\n\"))          # (1)\n",
    "        quantity = int(input(\"How many did you buy?\\n\"))         # (1)\n",
    "        per_item = price / quantity                                  # (2)\n",
    "        cart.append((item, per_item))\n",
    "    except ValueError:\n",
    "        print(\"Idiot. That was not a number...\")\n",
    "    except ZeroDivisionError:\n",
    "        print(\"The price cannot be 0...\")\n",
    "    done = input(\"Are you done? (y/n)\\n\")\n",
    "for pair in cart:\n",
    "    print(\"{:<10}: {:.2f} Sheqels per item\".format(pair[0], pair[1]))"
   ]
  }
 ],
 "metadata": {
  "colab": {
   "name": "error_handling_notebook.ipynb",
   "provenance": [],
   "version": "0.3.2"
  },
  "kernelspec": {
   "display_name": "Python 3",
   "language": "python",
   "name": "python3"
  },
  "language_info": {
   "codemirror_mode": {
    "name": "ipython",
    "version": 3
   },
   "file_extension": ".py",
   "mimetype": "text/x-python",
   "name": "python",
   "nbconvert_exporter": "python",
   "pygments_lexer": "ipython3",
   "version": "3.7.1"
  }
 },
 "nbformat": 4,
 "nbformat_minor": 1
}
