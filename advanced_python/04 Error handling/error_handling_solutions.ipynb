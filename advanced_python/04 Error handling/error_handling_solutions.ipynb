{
 "cells": [
  {
   "cell_type": "markdown",
   "metadata": {},
   "source": [
    "# Error handling - solutions"
   ]
  },
  {
   "cell_type": "markdown",
   "metadata": {},
   "source": [
    "## Exercise 1"
   ]
  },
  {
   "cell_type": "code",
   "execution_count": 1,
   "metadata": {
    "collapsed": false
   },
   "outputs": [
    {
     "name": "stdout",
     "output_type": "stream",
     "text": [
      "file_1.txt, line 1: could not convert string to float: num1\n",
      "8.0/4.0=2.0\n",
      "6.0/2.0=3.0\n",
      "file_1.txt, line 4: float division by zero\n",
      "8.0/4.0!=5.0\n",
      "5.0/1.0=5.0\n",
      "10000.0/100.0=100.0\n",
      "12.0/12.0=1.0\n",
      "file_2.txt, line 2: could not convert string to float: \n",
      "12.0/6.0=2.0\n",
      "file_2.txt, line 4: could not convert string to float: \n",
      "12.0/4.0=3.0\n",
      "file_2.txt, line 6: could not convert string to float: \n",
      "12.0/3.0=4.0\n",
      "file_2.txt, line 8: could not convert string to float: \n",
      "file_2.txt, line 9: need more than 2 values to unpack\n",
      "file_2.txt, line 10: could not convert string to float: \n",
      "12.0/1.0=12.0\n",
      "file_3.tx: [Errno 2] No such file or directory: 'c:\\\\temp\\\\error_handling\\\\file_3.tx'\n",
      "1.0/1.0=1.0\n",
      "8.0/8.0=1.0\n",
      "file_4.txt, line 3: invalid literal for float(): 6 6 1\n",
      "\n",
      "18.0/2.0=9.0\n"
     ]
    }
   ],
   "source": [
    "path = \"c:\\\\temp\\\\error_handling\"\n",
    "with open(path + \"\\\\file_names.txt\") as f_names:\n",
    "    names = f_names.read().split(';')\n",
    "    for name in names:\n",
    "        try:\n",
    "            with open(path + \"\\\\\" + name) as f:\n",
    "                for i, line in enumerate(f, 1):\n",
    "                    try:\n",
    "                        x, y, z = [float(x) for x in line.split(',')]\n",
    "                        if x / y == z:\n",
    "                            print(\"{}/{}={}\".format(x, y, z))\n",
    "                        else:\n",
    "                            print(\"{}/{}!={}\".format(x, y, z))\n",
    "                    except ValueError as err:\n",
    "                        print(\"{}, line {}: {}\".format(name, i, err))\n",
    "                    except ZeroDivisionError as err:\n",
    "                        print(\"{}, line {}: {}\".format(name, i, err))\n",
    "        except IOError as err:\n",
    "            print(\"{}: {}\".format(name, err))"
   ]
  }
 ],
 "metadata": {
  "kernelspec": {
   "display_name": "Python 3",
   "language": "python",
   "name": "python3"
  },
  "language_info": {
   "codemirror_mode": {
    "name": "ipython",
    "version": 3
   },
   "file_extension": ".py",
   "mimetype": "text/x-python",
   "name": "python",
   "nbconvert_exporter": "python",
   "pygments_lexer": "ipython3"
  }
 },
 "nbformat": 4,
 "nbformat_minor": 0
}
