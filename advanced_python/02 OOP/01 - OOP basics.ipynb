{
 "cells": [
  {
   "cell_type": "markdown",
   "metadata": {
    "colab_type": "text",
    "id": "4gRPIbhfKZsW"
   },
   "source": [
    "# Basic concepts"
   ]
  },
  {
   "cell_type": "markdown",
   "metadata": {
    "colab_type": "text",
    "id": "hs-b1f7Y8wVf"
   },
   "source": [
    "We've met many data types and data structures, and we learned how to use them properly. However, when we deal with complex data, it is very convenient to be able to define new data structures that are tailored for our needs. The ability to do that and the corresponding functionalities are called in general Object-Oriented Programming, or in short - OOP. In this course we will not speak about the philosophy behind OOP, but will focus more on the technical details."
   ]
  },
  {
   "cell_type": "markdown",
   "metadata": {
    "colab_type": "text",
    "id": "Ny5Rr-OO8wVl"
   },
   "source": [
    "Let's reconsider the list object. Generally speaking, before we could do anything with it we had to **initialize** it. We saw several ways for doing that, but they all resulted in a new **instance** of the **class** called \"list\". For example, the following line of code **instantiates** the **object** _names_, which then becomes an **instance** of the **class** _list_."
   ]
  },
  {
   "cell_type": "code",
   "execution_count": 1,
   "metadata": {
    "colab": {},
    "colab_type": "code",
    "id": "DbMLTLJy8wVn"
   },
   "outputs": [],
   "source": [
    "names = ['Avi', 'Benny', 'Gil']"
   ]
  },
  {
   "cell_type": "markdown",
   "metadata": {
    "colab_type": "text",
    "id": "mfgGNhpd8wVw"
   },
   "source": [
    "We are familiar with the built-in function _type()_, and now we can also get acquainted with the built-in function _isinstance()_."
   ]
  },
  {
   "cell_type": "code",
   "execution_count": 2,
   "metadata": {
    "colab": {
     "base_uri": "https://localhost:8080/",
     "height": 88
    },
    "colab_type": "code",
    "executionInfo": {
     "elapsed": 1380,
     "status": "ok",
     "timestamp": 1555342241210,
     "user": {
      "displayName": "Amit Rappel",
      "photoUrl": "https://lh5.googleusercontent.com/-Stg14jONmNc/AAAAAAAAAAI/AAAAAAAAAos/0hU6Y5dO8yk/s64/photo.jpg",
      "userId": "16505003500853190417"
     },
     "user_tz": -180
    },
    "id": "E1Gw74Uo8wVx",
    "outputId": "d63eb437-8a14-4a7b-f6c7-2bb33d4af4ae"
   },
   "outputs": [
    {
     "name": "stdout",
     "output_type": "stream",
     "text": [
      "<class 'list'>\n",
      "True\n",
      "False\n"
     ]
    }
   ],
   "source": [
    "print(type(names))\n",
    "print(isinstance(names, list))\n",
    "print(isinstance(names, float))"
   ]
  },
  {
   "cell_type": "markdown",
   "metadata": {
    "colab_type": "text",
    "id": "zC_8jnCd8wV2"
   },
   "source": [
    "As an instance of the class _list_, the object _names_ has (inherently) some **attributes** and **methods** (collectively called **preoperties**), which have been defined (by the authors of Python) for the class _list_. The access to the attributes and the call for the method is done by the '.' (point) character.\n",
    "\n",
    "Attributes are inherent charteristics, which any instance of the class _list_ has, e.g. length. Similarly, methods are inherent functions, supported by any instance of the class _list_, e.g. _append()_ and _pop()_. Since we created _names_ as a list, which is a predefined class (a built-in type in this case), the attributes and methods of the class _list_ are part of who _names_ is, and this is why they are available for us without the need to define them ourselves."
   ]
  },
  {
   "cell_type": "markdown",
   "metadata": {
    "colab_type": "text",
    "id": "y1gN54Jb8wV3"
   },
   "source": [
    "# Instantiation"
   ]
  },
  {
   "cell_type": "markdown",
   "metadata": {
    "colab_type": "text",
    "id": "wudJbkic8wV4"
   },
   "source": [
    "The first step of any class is a method called **\\_\\__init()_\\_\\_**, which serves as the **constructor** of the class. The constructor is where a new instance of the class is created and also gets the initial values for its **attributes**.\n",
    "\n",
    "Let's think for a moment what are the attributes that **any** table should have. A table is a collection of records with pre-defined fields. However, when the table is only created, the fields are known, but no record is yet present. Let's see the \\_\\__init()_\\_\\_ function of our _Table_ class and then discuss the implementation details."
   ]
  },
  {
   "cell_type": "code",
   "execution_count": 3,
   "metadata": {
    "colab": {},
    "colab_type": "code",
    "id": "17nZvQAd8wV5"
   },
   "outputs": [],
   "source": [
    "class Table:\n",
    "    def __init__(self, fields):\n",
    "        self.fields = fields\n",
    "        self.n_fields = len(fields)\n",
    "        self.records = []\n",
    "        self.n_records = 0"
   ]
  },
  {
   "cell_type": "markdown",
   "metadata": {
    "colab_type": "text",
    "id": "n8Oi-E8oKsLi"
   },
   "source": [
    "### Demo"
   ]
  },
  {
   "cell_type": "code",
   "execution_count": 4,
   "metadata": {
    "colab": {},
    "colab_type": "code",
    "id": "omrJE3pxKtTJ"
   },
   "outputs": [],
   "source": [
    "customers = Table(['name', 'address', 'age'])"
   ]
  },
  {
   "cell_type": "code",
   "execution_count": 5,
   "metadata": {
    "colab": {
     "base_uri": "https://localhost:8080/",
     "height": 34
    },
    "colab_type": "code",
    "executionInfo": {
     "elapsed": 1339,
     "status": "ok",
     "timestamp": 1555342241217,
     "user": {
      "displayName": "Amit Rappel",
      "photoUrl": "https://lh5.googleusercontent.com/-Stg14jONmNc/AAAAAAAAAAI/AAAAAAAAAos/0hU6Y5dO8yk/s64/photo.jpg",
      "userId": "16505003500853190417"
     },
     "user_tz": -180
    },
    "id": "jfDUZK5GKvy1",
    "outputId": "ec757198-d2f1-4ded-e098-f759bc8410af"
   },
   "outputs": [
    {
     "data": {
      "text/plain": [
       "['name', 'address', 'age']"
      ]
     },
     "execution_count": 5,
     "metadata": {},
     "output_type": "execute_result"
    }
   ],
   "source": [
    "customers.fields"
   ]
  },
  {
   "cell_type": "code",
   "execution_count": 6,
   "metadata": {
    "colab": {
     "base_uri": "https://localhost:8080/",
     "height": 34
    },
    "colab_type": "code",
    "executionInfo": {
     "elapsed": 1324,
     "status": "ok",
     "timestamp": 1555342241218,
     "user": {
      "displayName": "Amit Rappel",
      "photoUrl": "https://lh5.googleusercontent.com/-Stg14jONmNc/AAAAAAAAAAI/AAAAAAAAAos/0hU6Y5dO8yk/s64/photo.jpg",
      "userId": "16505003500853190417"
     },
     "user_tz": -180
    },
    "id": "3s7My23JecJj",
    "outputId": "91a5794f-1583-4ef1-c82a-f4900883c62c"
   },
   "outputs": [
    {
     "name": "stdout",
     "output_type": "stream",
     "text": [
      "<__main__.Table object at 0x7f93e014dcd0>\n"
     ]
    }
   ],
   "source": [
    "print(customers)"
   ]
  },
  {
   "cell_type": "code",
   "execution_count": 4,
   "metadata": {},
   "outputs": [
    {
     "ename": "NameError",
     "evalue": "name 'customers' is not defined",
     "output_type": "error",
     "traceback": [
      "\u001b[1;31m---------------------------------------------------------------------------\u001b[0m",
      "\u001b[1;31mNameError\u001b[0m                                 Traceback (most recent call last)",
      "\u001b[1;32m<ipython-input-4-7872bcaf6ce1>\u001b[0m in \u001b[0;36m<module>\u001b[1;34m\u001b[0m\n\u001b[1;32m----> 1\u001b[1;33m \u001b[0mcustomers\u001b[0m\u001b[1;33m.\u001b[0m\u001b[0m__dir__\u001b[0m\u001b[1;33m(\u001b[0m\u001b[1;33m)\u001b[0m\u001b[1;33m\u001b[0m\u001b[1;33m\u001b[0m\u001b[0m\n\u001b[0m",
      "\u001b[1;31mNameError\u001b[0m: name 'customers' is not defined"
     ]
    }
   ],
   "source": []
  },
  {
   "cell_type": "markdown",
   "metadata": {
    "colab_type": "text",
    "id": "-IsMmIvTeldN"
   },
   "source": [
    "> **Note:** Python doesn't know how to apply the built-in `print()` function to our class. This can be achieved using the concept of [magic functions](https://docs.python.org/3/reference/datamodel.html#special-method-names)."
   ]
  },
  {
   "cell_type": "markdown",
   "metadata": {
    "colab_type": "text",
    "id": "UaG-NKVb8wV8"
   },
   "source": [
    "We see that the definition itself is done by the word **class** followed by the name of the class. Then, with proper indentation, the method \\_\\__init()_\\_\\_ is defined. It should be noted that a method is defined exactly like a function, and it is only a convention to use this term (method) when referring to in-class functions.\n",
    "\n",
    "That said, there is a very important difference - the use of the argument _**self**_. _self_ is a special and suitable word that emphasizes the OOP concept, and it indicates that any methods of the class \"carry\" the information of the instance. All class methods have _self_ as their first input argument, and we will see the importance of that immediately.\n",
    "\n",
    "The other input (in this case _fields_) is used to initialize the attributes of the new instance. In the example above, _fields_ becomes an attribute with the same name, and another attribute called _records_ is initialized with an empty list."
   ]
  },
  {
   "cell_type": "markdown",
   "metadata": {
    "colab_type": "text",
    "id": "5Ds_ElRjLIVy"
   },
   "source": [
    "> **Your turn:** Create a class called `Student` with 3 attributes: `name`,  `id_number` and  `grades` - an empty dictionary at the initialization, which will contain items of the form `{subject: [grade1, grade2,...]}`. Finally, create two instances of `Student`."
   ]
  },
  {
   "cell_type": "markdown",
   "metadata": {
    "colab_type": "text",
    "id": "z2IY_ue3fg99"
   },
   "source": [
    "# methods"
   ]
  },
  {
   "cell_type": "markdown",
   "metadata": {
    "colab_type": "text",
    "id": "uj7U3bm18wWN"
   },
   "source": [
    "This is how we start, but we still can't do anything useful with the objects we've made. We will now see how to write methods to add functionality to the class."
   ]
  },
  {
   "cell_type": "markdown",
   "metadata": {
    "colab_type": "text",
    "id": "yUycY0gO8wWO"
   },
   "source": [
    "The first method any _Table_ should have is obviously one that adds a record to it. We remember that methods are simply functions that are \"aware\" of the (general) instance of which they are part, and that this \"awareness\" is implemented by \"carrying\" _self_ as the first input argument. Let's write our first method, _add_\\__record_(), and add it to the class implementation."
   ]
  },
  {
   "cell_type": "code",
   "execution_count": 7,
   "metadata": {
    "colab": {},
    "colab_type": "code",
    "id": "M4tXfeKj8wWQ"
   },
   "outputs": [],
   "source": [
    "class Table:\n",
    "    def __init__(self, fields):\n",
    "        self.fields = fields\n",
    "        self.n_fields = len(fields)\n",
    "        self.records = []\n",
    "        self.n_records = 0\n",
    "    \n",
    "    def add_record(self, rec):\n",
    "        self.records.append(rec)\n",
    "        self.n_records += 1"
   ]
  },
  {
   "cell_type": "markdown",
   "metadata": {
    "colab_type": "text",
    "id": "SHpgdUYj8wWU"
   },
   "source": [
    "The method _add_\\__record_() expects a single input argument - _rec_. Since the method \"knows\" the details of its caller (represented by _self_), it can append _rec_ to the **existing** list _self.records_. The attribute _n_\\__records_ is not changed automatically with the change of _records_, so we have to update it explicitly whenever _add_\\__record()_ is called.\n",
    "\n",
    "It should be noted that the method didn't return anything (well, except _None_), but only altered the calling object. We should be familiar with this behavior from other mutable types like lists and dictionaries.\n",
    "\n",
    "Let's test our new method."
   ]
  },
  {
   "cell_type": "code",
   "execution_count": 8,
   "metadata": {
    "colab": {
     "base_uri": "https://localhost:8080/",
     "height": 51
    },
    "colab_type": "code",
    "executionInfo": {
     "elapsed": 1296,
     "status": "ok",
     "timestamp": 1555342241221,
     "user": {
      "displayName": "Amit Rappel",
      "photoUrl": "https://lh5.googleusercontent.com/-Stg14jONmNc/AAAAAAAAAAI/AAAAAAAAAos/0hU6Y5dO8yk/s64/photo.jpg",
      "userId": "16505003500853190417"
     },
     "user_tz": -180
    },
    "id": "26Tsk0738wWU",
    "outputId": "b7b6ade1-3c24-41ab-cc55-c0b989f291ff"
   },
   "outputs": [
    {
     "name": "stdout",
     "output_type": "stream",
     "text": [
      "Current records: []\n",
      "Current number of records: 0\n"
     ]
    }
   ],
   "source": [
    "# Initialization\n",
    "customers = Table(['name', 'address', 'age'])\n",
    "print(\"Current records:\", customers.records)\n",
    "print(\"Current number of records:\", customers.n_records)"
   ]
  },
  {
   "cell_type": "code",
   "execution_count": 9,
   "metadata": {
    "colab": {
     "base_uri": "https://localhost:8080/",
     "height": 51
    },
    "colab_type": "code",
    "executionInfo": {
     "elapsed": 1285,
     "status": "ok",
     "timestamp": 1555342241225,
     "user": {
      "displayName": "Amit Rappel",
      "photoUrl": "https://lh5.googleusercontent.com/-Stg14jONmNc/AAAAAAAAAAI/AAAAAAAAAos/0hU6Y5dO8yk/s64/photo.jpg",
      "userId": "16505003500853190417"
     },
     "user_tz": -180
    },
    "id": "bnstGq-l8wWZ",
    "outputId": "2da6ef78-28f2-4b3b-9d93-eb9e20694ae1"
   },
   "outputs": [
    {
     "name": "stdout",
     "output_type": "stream",
     "text": [
      "Current records: [['Russell Crowe', 'Dizengoff 4', 51]]\n",
      "Current number of records: 1\n"
     ]
    }
   ],
   "source": [
    "# Calling add_record()\n",
    "customers.add_record(['Russell Crowe', 'Dizengoff 4', 51])\n",
    "print(\"Current records:\", customers.records)\n",
    "print(\"Current number of records:\", customers.n_records)"
   ]
  },
  {
   "cell_type": "code",
   "execution_count": 10,
   "metadata": {
    "colab": {
     "base_uri": "https://localhost:8080/",
     "height": 51
    },
    "colab_type": "code",
    "executionInfo": {
     "elapsed": 1269,
     "status": "ok",
     "timestamp": 1555342241227,
     "user": {
      "displayName": "Amit Rappel",
      "photoUrl": "https://lh5.googleusercontent.com/-Stg14jONmNc/AAAAAAAAAAI/AAAAAAAAAos/0hU6Y5dO8yk/s64/photo.jpg",
      "userId": "16505003500853190417"
     },
     "user_tz": -180
    },
    "id": "lssKsZQi8wWc",
    "outputId": "980c6313-5e3d-4bde-fa5b-a73c73785b20"
   },
   "outputs": [
    {
     "name": "stdout",
     "output_type": "stream",
     "text": [
      "Current records: [['Russell Crowe', 'Dizengoff 4', 51], ['Nicolas Cage', 'Basel 7', 52]]\n",
      "Current number of records: 2\n"
     ]
    }
   ],
   "source": [
    "# Calling add_record() again\n",
    "customers.add_record(['Nicolas Cage', 'Basel 7', 52])\n",
    "print(\"Current records:\", customers.records)\n",
    "print(\"Current number of records:\", customers.n_records)"
   ]
  },
  {
   "cell_type": "markdown",
   "metadata": {
    "colab_type": "text",
    "id": "VRg4P7BUhLE6"
   },
   "source": [
    "> **Your turn:** Add to the class `Student` a method called `took_test(self, subject, grade)`, which appends `grade` to the relevant value in `grades`."
   ]
  },
  {
   "cell_type": "markdown",
   "metadata": {
    "colab_type": "text",
    "id": "02xDef81jVeM"
   },
   "source": [
    "> **Note:** It is a good opportunity to learn about [`DefaultDict`](https://docs.python.org/3/library/collections.html?highlight=defaultdict#defaultdict-objects), but the exercise can be solved without it."
   ]
  },
  {
   "cell_type": "markdown",
   "metadata": {
    "colab_type": "text",
    "id": "azSW4l6jj2Dc"
   },
   "source": [
    "## Example"
   ]
  },
  {
   "cell_type": "markdown",
   "metadata": {
    "colab_type": "text",
    "id": "0O_o3Zht8wWg"
   },
   "source": [
    "Let's add some more methods to our _Table_ class to facilitate the work with tables. The methods we are going to add are:\n",
    "\n",
    "* _remove_\\__record(self, rec)_ - Removes from _self_ the specified record\n",
    "* _get_\\__column(self, field)_ - Returns a list with the values of the column associated with _field_. This method does **NOT** change _self_.\n",
    "* _get_\\__records(self, field, value)_ - Returns a _**Table**_ instance like _self_, but only with the records that have the value _value_ at the field _fields_. This method does **NOT** change _self_.\n",
    "* _get_\\__fields(self, *fields)_ - Returns a _**Table**_ instance like _self_, but only with the specified _fields_. This method does **NOT** change _self_."
   ]
  },
  {
   "cell_type": "code",
   "execution_count": 11,
   "metadata": {
    "colab": {},
    "colab_type": "code",
    "id": "gIVVFiOe8wWg"
   },
   "outputs": [],
   "source": [
    "class Table:\n",
    "    def __init__(self, fields):\n",
    "        self.fields = fields\n",
    "        self.n_fields = len(fields)\n",
    "        self.records = []\n",
    "        self.n_records = 0\n",
    "    \n",
    "    def add_record(self, rec):\n",
    "        self.records.append(rec)\n",
    "        self.n_records += 1\n",
    "        \n",
    "    def remove_record(self, rec):\n",
    "        self.records.remove(rec)\n",
    "        self.n_records -= 1\n",
    "        \n",
    "    def get_column(self, field):\n",
    "        ind = self.fields.index(field)\n",
    "        return [rec[ind] for rec in self.records]        \n",
    "                \n",
    "    def select_where(self, field, value):\n",
    "        ind = self.fields.index(field)\n",
    "        ret = Table(self.fields)\n",
    "        for rec in self.records:\n",
    "            if rec[ind] == value:\n",
    "                ret.add_record(rec)\n",
    "        return ret\n",
    "            \n",
    "    def select_cols(self, fields):\n",
    "        columns = [self.get_column(field) for field in fields]\n",
    "        records = [list(rec) for rec in zip(*columns)]\n",
    "        ret = Table(fields)\n",
    "        for rec in records:\n",
    "            ret.add_record(rec)\n",
    "        return ret"
   ]
  },
  {
   "cell_type": "markdown",
   "metadata": {
    "colab_type": "text",
    "id": "u61FF2DXHs3a"
   },
   "source": [
    "### Demonstration"
   ]
  },
  {
   "cell_type": "code",
   "execution_count": 12,
   "metadata": {
    "colab": {
     "base_uri": "https://localhost:8080/",
     "height": 51
    },
    "colab_type": "code",
    "executionInfo": {
     "elapsed": 1244,
     "status": "ok",
     "timestamp": 1555342241230,
     "user": {
      "displayName": "Amit Rappel",
      "photoUrl": "https://lh5.googleusercontent.com/-Stg14jONmNc/AAAAAAAAAAI/AAAAAAAAAos/0hU6Y5dO8yk/s64/photo.jpg",
      "userId": "16505003500853190417"
     },
     "user_tz": -180
    },
    "id": "UsyFfDSJ8wWj",
    "outputId": "2c7682b2-174f-4504-888f-5dd5f92bc66b"
   },
   "outputs": [
    {
     "name": "stdout",
     "output_type": "stream",
     "text": [
      "Current records: [['Russell Crowe', 'Dizengoff 4', 51], ['Nicolas Cage', 'Basel 7', 52], ['Diane Keaton', 'Basel 9', 52]]\n",
      "Current number of records: 3\n"
     ]
    }
   ],
   "source": [
    "customers = Table(['name', 'address', 'age'])\n",
    "customers.add_record(['Russell Crowe', 'Dizengoff 4', 51])\n",
    "customers.add_record(['Nicolas Cage', 'Basel 7', 52])\n",
    "customers.add_record(['Diane Keaton', 'Basel 9', 52])\n",
    "print(\"Current records: {}\\nCurrent number of records: {}\".format(customers.records, customers.n_records))"
   ]
  },
  {
   "cell_type": "code",
   "execution_count": 13,
   "metadata": {
    "colab": {
     "base_uri": "https://localhost:8080/",
     "height": 51
    },
    "colab_type": "code",
    "executionInfo": {
     "elapsed": 1230,
     "status": "ok",
     "timestamp": 1555342241231,
     "user": {
      "displayName": "Amit Rappel",
      "photoUrl": "https://lh5.googleusercontent.com/-Stg14jONmNc/AAAAAAAAAAI/AAAAAAAAAos/0hU6Y5dO8yk/s64/photo.jpg",
      "userId": "16505003500853190417"
     },
     "user_tz": -180
    },
    "id": "hBmVhLUW8wWm",
    "outputId": "6843e1eb-31e4-4285-c895-e2c473bc0915"
   },
   "outputs": [
    {
     "name": "stdout",
     "output_type": "stream",
     "text": [
      "<class 'list'>\n",
      "['Dizengoff 4', 'Basel 7', 'Basel 9']\n"
     ]
    }
   ],
   "source": [
    "ages = customers.get_column('address')\n",
    "print(type(ages))\n",
    "print(ages)"
   ]
  },
  {
   "cell_type": "code",
   "execution_count": 14,
   "metadata": {
    "colab": {
     "base_uri": "https://localhost:8080/",
     "height": 51
    },
    "colab_type": "code",
    "executionInfo": {
     "elapsed": 1221,
     "status": "ok",
     "timestamp": 1555342241231,
     "user": {
      "displayName": "Amit Rappel",
      "photoUrl": "https://lh5.googleusercontent.com/-Stg14jONmNc/AAAAAAAAAAI/AAAAAAAAAos/0hU6Y5dO8yk/s64/photo.jpg",
      "userId": "16505003500853190417"
     },
     "user_tz": -180
    },
    "id": "tQmDyA2-8wWo",
    "outputId": "67970967-cd4e-4e68-dec6-3caaaa3e0fc8"
   },
   "outputs": [
    {
     "name": "stdout",
     "output_type": "stream",
     "text": [
      "<__main__.Table object at 0x7f93e01266a0>\n",
      "[['Nicolas Cage', 'Basel 7', 52], ['Diane Keaton', 'Basel 9', 52]]\n"
     ]
    }
   ],
   "source": [
    "aged_52 = customers.select_where('age', 52)\n",
    "print(aged_52)\n",
    "print(aged_52.records)"
   ]
  },
  {
   "cell_type": "code",
   "execution_count": 15,
   "metadata": {
    "colab": {
     "base_uri": "https://localhost:8080/",
     "height": 34
    },
    "colab_type": "code",
    "executionInfo": {
     "elapsed": 1213,
     "status": "ok",
     "timestamp": 1555342241232,
     "user": {
      "displayName": "Amit Rappel",
      "photoUrl": "https://lh5.googleusercontent.com/-Stg14jONmNc/AAAAAAAAAAI/AAAAAAAAAos/0hU6Y5dO8yk/s64/photo.jpg",
      "userId": "16505003500853190417"
     },
     "user_tz": -180
    },
    "id": "d-5NrWgX8wWq",
    "outputId": "140842dd-6ef1-4a6d-a7f8-771657879799"
   },
   "outputs": [
    {
     "name": "stdout",
     "output_type": "stream",
     "text": [
      "[['Russell Crowe', 51], ['Nicolas Cage', 52], ['Diane Keaton', 52]]\n"
     ]
    }
   ],
   "source": [
    "names_and_ages = customers.select_cols(['name', 'age'])\n",
    "print(names_and_ages.records)"
   ]
  },
  {
   "cell_type": "code",
   "execution_count": 16,
   "metadata": {
    "colab": {
     "base_uri": "https://localhost:8080/",
     "height": 34
    },
    "colab_type": "code",
    "executionInfo": {
     "elapsed": 1204,
     "status": "ok",
     "timestamp": 1555342241236,
     "user": {
      "displayName": "Amit Rappel",
      "photoUrl": "https://lh5.googleusercontent.com/-Stg14jONmNc/AAAAAAAAAAI/AAAAAAAAAos/0hU6Y5dO8yk/s64/photo.jpg",
      "userId": "16505003500853190417"
     },
     "user_tz": -180
    },
    "id": "bD0c8hza8wWs",
    "outputId": "13cdaf69-0f79-4089-fafc-9699d39288b0"
   },
   "outputs": [
    {
     "name": "stdout",
     "output_type": "stream",
     "text": [
      "[['Nicolas Cage', 52], ['Diane Keaton', 52]]\n"
     ]
    }
   ],
   "source": [
    "aged_52_name_and_age = customers.select_where('age', 52).select_cols(['name', 'age'])\n",
    "print(aged_52_name_and_age.records)"
   ]
  },
  {
   "cell_type": "markdown",
   "metadata": {},
   "source": [
    "# Inheritance\n",
    "\n",
    "Inheritence facilitates reuse of code, while sharing code between classes.\n",
    "\n",
    "In python, the parent class is accesible either by naming it direcly - or by using the `super()` construct"
   ]
  },
  {
   "cell_type": "code",
   "execution_count": 40,
   "metadata": {},
   "outputs": [],
   "source": [
    "class SortedTable(Table):\n",
    "    def __init__(self, key_field, fields):\n",
    "        super().__init__(fields)\n",
    "        assert key_field in fields, \"No such key.\""
   ]
  },
  {
   "cell_type": "markdown",
   "metadata": {},
   "source": [
    "Testing whether an object implements a class is done with the `isinstance` function"
   ]
  },
  {
   "cell_type": "code",
   "execution_count": 43,
   "metadata": {},
   "outputs": [
    {
     "name": "stdout",
     "output_type": "stream",
     "text": [
      "False\n",
      "True\n"
     ]
    }
   ],
   "source": [
    "customers = Table(['name', 'address', 'age'])  \n",
    "print(isinstance(customers, SortedTable))\n",
    "print(isinstance(customers, Table))"
   ]
  },
  {
   "cell_type": "code",
   "execution_count": 44,
   "metadata": {},
   "outputs": [
    {
     "name": "stdout",
     "output_type": "stream",
     "text": [
      "True\n",
      "True\n"
     ]
    }
   ],
   "source": [
    "customers = SortedTable('address', ['name', 'address', 'age'])  \n",
    "print(isinstance(customers, SortedTable))\n",
    "print(isinstance(customers, Table))"
   ]
  },
  {
   "cell_type": "markdown",
   "metadata": {},
   "source": [
    "# A moment of Zen\n",
    "\n",
    "<h1>What is an object ?</h1>"
   ]
  },
  {
   "cell_type": "code",
   "execution_count": 46,
   "metadata": {},
   "outputs": [
    {
     "data": {
      "text/plain": [
       "<__main__.Table at 0x7f93d1a2ea60>"
      ]
     },
     "execution_count": 46,
     "metadata": {},
     "output_type": "execute_result"
    }
   ],
   "source": [
    "t = Table(['name', 'address', 'age', 'sex'])  \n",
    "t"
   ]
  },
  {
   "cell_type": "code",
   "execution_count": 47,
   "metadata": {},
   "outputs": [
    {
     "data": {
      "text/plain": [
       "['__class__',\n",
       " '__delattr__',\n",
       " '__dict__',\n",
       " '__dir__',\n",
       " '__doc__',\n",
       " '__eq__',\n",
       " '__format__',\n",
       " '__ge__',\n",
       " '__getattribute__',\n",
       " '__gt__',\n",
       " '__hash__',\n",
       " '__init__',\n",
       " '__init_subclass__',\n",
       " '__le__',\n",
       " '__lt__',\n",
       " '__module__',\n",
       " '__ne__',\n",
       " '__new__',\n",
       " '__reduce__',\n",
       " '__reduce_ex__',\n",
       " '__repr__',\n",
       " '__setattr__',\n",
       " '__sizeof__',\n",
       " '__str__',\n",
       " '__subclasshook__',\n",
       " '__weakref__',\n",
       " 'add_record',\n",
       " 'fields',\n",
       " 'get_column',\n",
       " 'n_fields',\n",
       " 'n_records',\n",
       " 'records',\n",
       " 'remove_record',\n",
       " 'select_cols',\n",
       " 'select_where']"
      ]
     },
     "execution_count": 47,
     "metadata": {},
     "output_type": "execute_result"
    }
   ],
   "source": [
    "dir(t)"
   ]
  },
  {
   "cell_type": "code",
   "execution_count": 48,
   "metadata": {},
   "outputs": [
    {
     "data": {
      "text/plain": [
       "{'fields': ['name', 'address', 'age', 'sex'],\n",
       " 'n_fields': 4,\n",
       " 'records': [],\n",
       " 'n_records': 0}"
      ]
     },
     "execution_count": 48,
     "metadata": {},
     "output_type": "execute_result"
    }
   ],
   "source": [
    "t.__dict__"
   ]
  },
  {
   "cell_type": "markdown",
   "metadata": {},
   "source": [
    "# A python object is essentially a dict"
   ]
  },
  {
   "cell_type": "markdown",
   "metadata": {},
   "source": [
    "### except when its not"
   ]
  },
  {
   "cell_type": "code",
   "execution_count": 51,
   "metadata": {},
   "outputs": [],
   "source": [
    "class TableSlots:\n",
    "    __slots__ = [\"fields\", \"n_fields\", \"records\", \"n_records\"]\n",
    "    def __init__(self, fields):\n",
    "        self.fields = fields\n",
    "        self.n_fields = len(fields)\n",
    "        self.records = []\n",
    "        self.n_records = 0"
   ]
  },
  {
   "cell_type": "code",
   "execution_count": 52,
   "metadata": {},
   "outputs": [
    {
     "data": {
      "text/plain": [
       "<__main__.TableSlots at 0x7f93e018ec80>"
      ]
     },
     "execution_count": 52,
     "metadata": {},
     "output_type": "execute_result"
    }
   ],
   "source": [
    "ts = TableSlots(['name', 'address', 'age', 'sex'])  \n",
    "ts"
   ]
  },
  {
   "cell_type": "code",
   "execution_count": 53,
   "metadata": {},
   "outputs": [
    {
     "data": {
      "text/plain": [
       "['__class__',\n",
       " '__delattr__',\n",
       " '__dir__',\n",
       " '__doc__',\n",
       " '__eq__',\n",
       " '__format__',\n",
       " '__ge__',\n",
       " '__getattribute__',\n",
       " '__gt__',\n",
       " '__hash__',\n",
       " '__init__',\n",
       " '__init_subclass__',\n",
       " '__le__',\n",
       " '__lt__',\n",
       " '__module__',\n",
       " '__ne__',\n",
       " '__new__',\n",
       " '__reduce__',\n",
       " '__reduce_ex__',\n",
       " '__repr__',\n",
       " '__setattr__',\n",
       " '__sizeof__',\n",
       " '__slots__',\n",
       " '__str__',\n",
       " '__subclasshook__',\n",
       " 'fields',\n",
       " 'n_fields',\n",
       " 'n_records',\n",
       " 'records']"
      ]
     },
     "execution_count": 53,
     "metadata": {},
     "output_type": "execute_result"
    }
   ],
   "source": [
    "dir(ts)"
   ]
  },
  {
   "cell_type": "code",
   "execution_count": 55,
   "metadata": {},
   "outputs": [
    {
     "ename": "AttributeError",
     "evalue": "'TableSlots' object has no attribute '__dict__'",
     "output_type": "error",
     "traceback": [
      "\u001b[0;31m---------------------------------------------------------------------------\u001b[0m",
      "\u001b[0;31mAttributeError\u001b[0m                            Traceback (most recent call last)",
      "\u001b[0;32m<ipython-input-55-343b29498759>\u001b[0m in \u001b[0;36m<module>\u001b[0;34m\u001b[0m\n\u001b[0;32m----> 1\u001b[0;31m \u001b[0mts\u001b[0m\u001b[0;34m.\u001b[0m\u001b[0m__dict__\u001b[0m\u001b[0;34m\u001b[0m\u001b[0;34m\u001b[0m\u001b[0m\n\u001b[0m",
      "\u001b[0;31mAttributeError\u001b[0m: 'TableSlots' object has no attribute '__dict__'"
     ]
    }
   ],
   "source": [
    "ts.__dict__"
   ]
  },
  {
   "cell_type": "markdown",
   "metadata": {},
   "source": [
    "# discussion: Do we need slots ?"
   ]
  },
  {
   "cell_type": "code",
   "execution_count": null,
   "metadata": {},
   "outputs": [],
   "source": []
  }
 ],
 "metadata": {
  "colab": {
   "collapsed_sections": [
    "4gRPIbhfKZsW"
   ],
   "name": "OOP basics.ipynb",
   "provenance": [],
   "version": "0.3.2"
  },
  "kernelspec": {
   "display_name": "Python 3",
   "language": "python",
   "name": "python3"
  },
  "language_info": {
   "codemirror_mode": {
    "name": "ipython",
    "version": 3
   },
   "file_extension": ".py",
   "mimetype": "text/x-python",
   "name": "python",
   "nbconvert_exporter": "python",
   "pygments_lexer": "ipython3",
   "version": "3.8.5"
  }
 },
 "nbformat": 4,
 "nbformat_minor": 1
}
