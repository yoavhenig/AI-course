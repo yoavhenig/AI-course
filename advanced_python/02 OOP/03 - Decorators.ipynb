{
 "cells": [
  {
   "cell_type": "markdown",
   "metadata": {
    "colab_type": "text",
    "id": "zwI0BmW_0Rh7"
   },
   "source": [
    "In this introduction we will cover a specific aspect of decoration - applying additional functionalities when calling a function."
   ]
  },
  {
   "cell_type": "markdown",
   "metadata": {
    "colab_type": "text",
    "id": "81vHzmiV5MON"
   },
   "source": [
    "# Example 1 - logger"
   ]
  },
  {
   "cell_type": "markdown",
   "metadata": {
    "colab_type": "text",
    "id": "32uiklmkz1Xh"
   },
   "source": [
    "> **Reference:** [Thorough explanation of decorators by Simeon Franklin](http://simeonfranklin.com/blog/2012/jul/1/python-decorators-in-12-steps/)"
   ]
  },
  {
   "cell_type": "code",
   "execution_count": 0,
   "metadata": {
    "colab": {},
    "colab_type": "code",
    "id": "vRja7KU0zzCS"
   },
   "outputs": [],
   "source": [
    "def logger(func):\n",
    "    def inner(a, b):\n",
    "        print(f\"Arguments were {a} and {b}\")\n",
    "        return func(a, b)\n",
    "    return inner"
   ]
  },
  {
   "cell_type": "code",
   "execution_count": 0,
   "metadata": {
    "colab": {},
    "colab_type": "code",
    "id": "ZbK3H_tl2Lq8"
   },
   "outputs": [],
   "source": [
    "@logger\n",
    "def foo(x, y):\n",
    "    return x * y"
   ]
  },
  {
   "cell_type": "code",
   "execution_count": 7,
   "metadata": {
    "colab": {
     "base_uri": "https://localhost:8080/",
     "height": 50
    },
    "colab_type": "code",
    "executionInfo": {
     "elapsed": 594,
     "status": "ok",
     "timestamp": 1572283773975,
     "user": {
      "displayName": "Amit Rappel",
      "photoUrl": "https://lh3.googleusercontent.com/a-/AAuE7mCpe5u5WeIPUl8KIs0q9y-EzHhNpEOmf41uRn8SmQ=s64",
      "userId": "16505003500853190417"
     },
     "user_tz": -120
    },
    "id": "HMoXmUsbUHjf",
    "outputId": "5009fed5-bc44-4eef-b1da-c17ce4f3063d"
   },
   "outputs": [
    {
     "name": "stdout",
     "output_type": "stream",
     "text": [
      "Arguments were 2 and 4\n",
      "8\n"
     ]
    }
   ],
   "source": [
    "print(foo(2, 4))"
   ]
  },
  {
   "cell_type": "markdown",
   "metadata": {
    "colab_type": "text",
    "id": "6f-Cy1-n5d08"
   },
   "source": [
    "# Example 2 - memoization"
   ]
  },
  {
   "cell_type": "markdown",
   "metadata": {
    "colab_type": "text",
    "id": "hyGbBLjg9YAk"
   },
   "source": [
    "> **Reference:** [Python course on-line](https://www.python-course.eu/python3_memoization.php)"
   ]
  },
  {
   "cell_type": "code",
   "execution_count": 0,
   "metadata": {
    "colab": {},
    "colab_type": "code",
    "id": "ZIfIVlv_5glV"
   },
   "outputs": [],
   "source": [
    "def memoize(f):\n",
    "    memo = {}\n",
    "    def helper(x):\n",
    "        if x not in memo:            \n",
    "            memo[x] = f(x)\n",
    "        return memo[x]\n",
    "    return helper"
   ]
  },
  {
   "cell_type": "code",
   "execution_count": 0,
   "metadata": {
    "colab": {},
    "colab_type": "code",
    "id": "lLVz42Dw9mps"
   },
   "outputs": [],
   "source": [
    "@memoize\n",
    "def fib(n):\n",
    "    if n == 0:\n",
    "        return 0\n",
    "    elif n == 1:\n",
    "        return 1\n",
    "    else:\n",
    "        return fib(n-1) + fib(n-2)"
   ]
  },
  {
   "cell_type": "code",
   "execution_count": 0,
   "metadata": {
    "colab": {
     "base_uri": "https://localhost:8080/",
     "height": 34
    },
    "colab_type": "code",
    "executionInfo": {
     "elapsed": 1042,
     "status": "ok",
     "timestamp": 1565018788461,
     "user": {
      "displayName": "Amit Rappel",
      "photoUrl": "https://lh5.googleusercontent.com/-Stg14jONmNc/AAAAAAAAAAI/AAAAAAAAAos/0hU6Y5dO8yk/s64/photo.jpg",
      "userId": "16505003500853190417"
     },
     "user_tz": -180
    },
    "id": "4KiktVuZ9qi_",
    "outputId": "c940036a-17c5-4f68-a0d0-b5922581bc62"
   },
   "outputs": [
    {
     "name": "stdout",
     "output_type": "stream",
     "text": [
      "39088169\n"
     ]
    }
   ],
   "source": [
    "print(fib(38))"
   ]
  },
  {
   "cell_type": "markdown",
   "metadata": {
    "colab_type": "text",
    "id": "7RZSPv9S5z6f"
   },
   "source": [
    "> **Your turn:** Write a decorator called `timer` that writes how much time it took a decorated function to run."
   ]
  },
  {
   "cell_type": "markdown",
   "metadata": {
    "colab_type": "text",
    "id": "gzvxL4P8-L5N"
   },
   "source": [
    "### Solution"
   ]
  },
  {
   "cell_type": "code",
   "execution_count": 5,
   "metadata": {
    "colab": {},
    "colab_type": "code",
    "id": "igKXOl-OBXS9"
   },
   "outputs": [],
   "source": [
    "from time import time, sleep"
   ]
  },
  {
   "cell_type": "code",
   "execution_count": 2,
   "metadata": {
    "colab": {},
    "colab_type": "code",
    "id": "J3A4qyyR51_Q"
   },
   "outputs": [],
   "source": [
    "def time_stamp_decoration(func):\n",
    "    #TODO: Complete\n",
    "    return ret"
   ]
  },
  {
   "cell_type": "code",
   "execution_count": 6,
   "metadata": {
    "colab": {},
    "colab_type": "code",
    "id": "fjRy9U8FBUK4"
   },
   "outputs": [],
   "source": [
    "@time_stamp_decoration\n",
    "def this_takes_time(s):\n",
    "    \n",
    "    sleep(s)\n",
    "    \n",
    "    return s"
   ]
  },
  {
   "cell_type": "code",
   "execution_count": 7,
   "metadata": {
    "colab": {
     "base_uri": "https://localhost:8080/",
     "height": 67
    },
    "colab_type": "code",
    "executionInfo": {
     "elapsed": 711,
     "status": "ok",
     "timestamp": 1572283922873,
     "user": {
      "displayName": "Amit Rappel",
      "photoUrl": "https://lh3.googleusercontent.com/a-/AAuE7mCpe5u5WeIPUl8KIs0q9y-EzHhNpEOmf41uRn8SmQ=s64",
      "userId": "16505003500853190417"
     },
     "user_tz": -120
    },
    "id": "2HnHigQGBlgg",
    "outputId": "d9f812f1-2ffc-42ef-cefb-df5f925e841c"
   },
   "outputs": [
    {
     "name": "stdout",
     "output_type": "stream",
     "text": [
      "Executing this_takes_time...\n",
      "completed! (2.003 seconds)\n",
      "2\n"
     ]
    }
   ],
   "source": [
    "print(this_takes_time(2))"
   ]
  },
  {
   "cell_type": "code",
   "execution_count": 0,
   "metadata": {
    "colab": {},
    "colab_type": "code",
    "id": "SsgqCqwIZMdj"
   },
   "outputs": [],
   "source": []
  }
 ],
 "metadata": {
  "colab": {
   "collapsed_sections": [
    "gzvxL4P8-L5N"
   ],
   "name": "Decorators.ipynb",
   "provenance": []
  },
  "kernelspec": {
   "display_name": "Python 3",
   "language": "python",
   "name": "python3"
  },
  "language_info": {
   "codemirror_mode": {
    "name": "ipython",
    "version": 3
   },
   "file_extension": ".py",
   "mimetype": "text/x-python",
   "name": "python",
   "nbconvert_exporter": "python",
   "pygments_lexer": "ipython3",
   "version": "3.8.5"
  }
 },
 "nbformat": 4,
 "nbformat_minor": 1
}
