{
 "cells": [
  {
   "cell_type": "markdown",
   "metadata": {
    "colab_type": "text",
    "id": "PJscuO5csW6c"
   },
   "source": [
    "# Introduction"
   ]
  },
  {
   "cell_type": "markdown",
   "metadata": {
    "colab_type": "text",
    "id": "Goi3wHOpTAUO"
   },
   "source": [
    "First of all - **File object and file content are NOT the same**. A [file object][File] is the Pythonic way of \"communicating\" with the file, e.g. query its properties, manage its attributes, etc. One of the many actions applicable with a file object is to read/write its content. This \"communication\" is implemented by the built-in function [open()][open], which also sets some preliminary features of the object.\n",
    "\n",
    "This will be a more intuitive differentiation when we'll be more acquainted with the Object-Oriented approach.\n",
    "\n",
    "[File]: https://docs.python.org/2/library/stdtypes.html#file-objects \"File object\"\n",
    "[open]: https://docs.python.org/2/library/functions.html#open \"open() documentation\""
   ]
  },
  {
   "cell_type": "markdown",
   "metadata": {
    "colab_type": "text",
    "id": "AYtGG1HaTAUP"
   },
   "source": [
    "## Open and close"
   ]
  },
  {
   "cell_type": "markdown",
   "metadata": {
    "colab_type": "text",
    "id": "yLA7cyZbTAUR"
   },
   "source": [
    "_File_ objects are created by the _open(name[, mode])_ built-in function, where _name_ is the full file path and _mode_ is the mode in which the file is opened. Several modes are available, but the most common ones are **'r'** for reading (default), **'w'** for writing and **'a'** for appending.\n",
    "\n",
    "It is not a healthy habit to leave open _File_ objects \"hanging\" in the file system, so we make sure to close them after we are done with them. The following three scripts illustrate exceedingly better syntaxes for addressing a file."
   ]
  },
  {
   "cell_type": "code",
   "execution_count": 3,
   "metadata": {
    "colab": {},
    "colab_type": "code",
    "id": "nXDYYb51TAUS"
   },
   "outputs": [],
   "source": [
    "fname = \"example.abc\""
   ]
  },
  {
   "cell_type": "markdown",
   "metadata": {
    "colab_type": "text",
    "id": "I0m0odSYTAUZ"
   },
   "source": [
    "#### open() 1"
   ]
  },
  {
   "cell_type": "code",
   "execution_count": 4,
   "metadata": {
    "colab": {},
    "colab_type": "code",
    "id": "LjOxo2cqTAUa"
   },
   "outputs": [],
   "source": [
    "my_file = open(fname, 'r')\n",
    "# Here do something with the file...\n",
    "\n",
    "# my_file.closed\n",
    "# my_file.close()"
   ]
  },
  {
   "cell_type": "markdown",
   "metadata": {
    "colab_type": "text",
    "id": "rovaTWPUTAUd"
   },
   "source": [
    "#### open() 2"
   ]
  },
  {
   "cell_type": "markdown",
   "metadata": {
    "colab_type": "text",
    "id": "SaTCI8tETAUe"
   },
   "source": [
    "To make sure one does not forget to close the file, Python provides the **_with_** block, which **automatically closes the corresponding file** when the block ends. It is highly recommended to use it."
   ]
  },
  {
   "cell_type": "code",
   "execution_count": 5,
   "metadata": {
    "colab": {},
    "colab_type": "code",
    "id": "wJ4ykTxKTAUf"
   },
   "outputs": [],
   "source": [
    "my_file = open(fname, 'r')\n",
    "with my_file:\n",
    "    # Here do something with the file...\n",
    "    pass"
   ]
  },
  {
   "cell_type": "markdown",
   "metadata": {
    "colab_type": "text",
    "id": "2-ZEHItDTAUi"
   },
   "source": [
    "#### open() 3"
   ]
  },
  {
   "cell_type": "markdown",
   "metadata": {
    "colab_type": "text",
    "id": "z2fxSWqnTAUj"
   },
   "source": [
    "Finally, Python supports the following syntax to wrap it all compactly. **This is how it is usually done.**"
   ]
  },
  {
   "cell_type": "code",
   "execution_count": 6,
   "metadata": {
    "colab": {},
    "colab_type": "code",
    "id": "cBxl44uUTAUk"
   },
   "outputs": [],
   "source": [
    "with open(fname, 'r') as my_file:\n",
    "    # Here do something with the file...\n",
    "    pass"
   ]
  },
  {
   "cell_type": "markdown",
   "metadata": {
    "colab_type": "text",
    "id": "mX2051A-tXDF"
   },
   "source": [
    "# Reading"
   ]
  },
  {
   "cell_type": "markdown",
   "metadata": {
    "colab_type": "text",
    "id": "ul48YzJMTAUy"
   },
   "source": [
    "There are several ways to read the data of a file, and we will see two of them:\n",
    "* Iteratively with a `for`-loop\n",
    "* As a whole with the `read()` method"
   ]
  },
  {
   "cell_type": "markdown",
   "metadata": {
    "colab_type": "text",
    "id": "YrWGBcGZTAUz"
   },
   "source": [
    "## Read with a `for`-loop"
   ]
  },
  {
   "cell_type": "markdown",
   "metadata": {
    "colab_type": "text",
    "id": "CNl15FgyTAU0"
   },
   "source": [
    "_File_ objects are their own iterators, and their \"elements\" are their lines. Iterating a _File_ object with a _for_ loop will ieterate the lines of the file. Note that the lines include the \"\\n\" at the end of each line (therefore the double-space print)."
   ]
  },
  {
   "cell_type": "code",
   "execution_count": 8,
   "metadata": {
    "colab": {
     "base_uri": "https://localhost:8080/",
     "height": 102
    },
    "colab_type": "code",
    "executionInfo": {
     "elapsed": 1148,
     "status": "ok",
     "timestamp": 1555924301036,
     "user": {
      "displayName": "Amit Rappel",
      "photoUrl": "https://lh5.googleusercontent.com/-Stg14jONmNc/AAAAAAAAAAI/AAAAAAAAAos/0hU6Y5dO8yk/s64/photo.jpg",
      "userId": "16505003500853190417"
     },
     "user_tz": -180
    },
    "id": "EjM4Ma3eTAU1",
    "outputId": "31de3dbe-e5b2-4175-ecad-9ff992daf038"
   },
   "outputs": [
    {
     "name": "stdout",
     "output_type": "stream",
     "text": [
      "This is the first line.\n",
      "\n",
      "This is the second line.\n",
      "\n",
      "This is the third and last line.\n"
     ]
    }
   ],
   "source": [
    "fname = \"example.abc\"\n",
    "\n",
    "with open(fname) as f:\n",
    "    for line in f:\n",
    "        print(line)"
   ]
  },
  {
   "cell_type": "markdown",
   "metadata": {
    "colab_type": "text",
    "id": "Wbk3QcdBt9wI"
   },
   "source": [
    "> **Note:** Why are there double spaces in the output in the example above?"
   ]
  },
  {
   "cell_type": "markdown",
   "metadata": {
    "colab_type": "text",
    "id": "LO1BbwkhTAU_"
   },
   "source": [
    "## Read with _read()_"
   ]
  },
  {
   "cell_type": "markdown",
   "metadata": {
    "colab_type": "text",
    "id": "hflOjq65TAVA"
   },
   "source": [
    "This method is the most simple one, as it simply reads the entire content of the file into a single string."
   ]
  },
  {
   "cell_type": "code",
   "execution_count": 26,
   "metadata": {
    "colab": {
     "base_uri": "https://localhost:8080/",
     "height": 68
    },
    "colab_type": "code",
    "executionInfo": {
     "elapsed": 660,
     "status": "ok",
     "timestamp": 1555924305953,
     "user": {
      "displayName": "Amit Rappel",
      "photoUrl": "https://lh5.googleusercontent.com/-Stg14jONmNc/AAAAAAAAAAI/AAAAAAAAAos/0hU6Y5dO8yk/s64/photo.jpg",
      "userId": "16505003500853190417"
     },
     "user_tz": -180
    },
    "id": "3GWKFS-jTAVB",
    "outputId": "63e32eb6-87a4-4890-c97f-6f950f03bee5"
   },
   "outputs": [
    {
     "name": "stdout",
     "output_type": "stream",
     "text": [
      "This is the first line.\n",
      "This is the second line.\n",
      "This is the third and last line.\n"
     ]
    }
   ],
   "source": [
    "fname = \"example.txt\"\n",
    "\n",
    "with open(fname) as f:\n",
    "    print(f.read())"
   ]
  },
  {
   "cell_type": "markdown",
   "metadata": {
    "colab_type": "text",
    "id": "Jn2kTA1j0DaK"
   },
   "source": [
    "> **Your turn:** Read the file \"christmas.txt\". Can you tell how many lines does it have?"
   ]
  },
  {
   "cell_type": "markdown",
   "metadata": {
    "colab_type": "text",
    "id": "5_FSteYuTAVQ"
   },
   "source": [
    "# Writing"
   ]
  },
  {
   "cell_type": "markdown",
   "metadata": {
    "colab_type": "text",
    "id": "Z_oBmqHXTAVT"
   },
   "source": [
    "### Writing methods"
   ]
  },
  {
   "cell_type": "markdown",
   "metadata": {
    "colab_type": "text",
    "id": "UP-ZgrEfTAVU"
   },
   "source": [
    "Similarly to `read()`, there is `write()` for writing. `write()` expects a single string and writes it directly to the file. `write()` automatically creates a new file if required, and overwrites the content of the file if it already exists."
   ]
  },
  {
   "cell_type": "code",
   "execution_count": 0,
   "metadata": {
    "colab": {},
    "colab_type": "code",
    "id": "80RHn3O3sMkC"
   },
   "outputs": [],
   "source": [
    "fname = \"example.txt\"\n",
    "\n",
    "str1 = \"This is the first line.\"\n",
    "str2 = \"This is the second line.\"\n",
    "str3 = \"This is the third and last line.\""
   ]
  },
  {
   "cell_type": "code",
   "execution_count": 0,
   "metadata": {
    "colab": {},
    "colab_type": "code",
    "id": "XdaluPeUTAVV"
   },
   "outputs": [],
   "source": [
    "with open(fname, 'w') as f:\n",
    "    f.write(str1 + '\\n')\n",
    "    f.write(str2 + '\\n')\n",
    "    f.write(str3)"
   ]
  },
  {
   "cell_type": "code",
   "execution_count": 29,
   "metadata": {
    "colab": {
     "base_uri": "https://localhost:8080/",
     "height": 68
    },
    "colab_type": "code",
    "executionInfo": {
     "elapsed": 1053,
     "status": "ok",
     "timestamp": 1555924319806,
     "user": {
      "displayName": "Amit Rappel",
      "photoUrl": "https://lh5.googleusercontent.com/-Stg14jONmNc/AAAAAAAAAAI/AAAAAAAAAos/0hU6Y5dO8yk/s64/photo.jpg",
      "userId": "16505003500853190417"
     },
     "user_tz": -180
    },
    "id": "iNJ9s5KONTUa",
    "outputId": "183e0cd0-3fb9-4c8f-fce0-1807f9b0d8d6"
   },
   "outputs": [
    {
     "name": "stdout",
     "output_type": "stream",
     "text": [
      "This is the first line.\n",
      "This is the second line.\n",
      "This is the third and last line.\n"
     ]
    }
   ],
   "source": [
    "with open(fname, 'r') as f:\n",
    "    print(f.read())"
   ]
  },
  {
   "cell_type": "markdown",
   "metadata": {
    "colab_type": "text",
    "id": "au8lyKDlTAVd"
   },
   "source": [
    "### Writing modes"
   ]
  },
  {
   "cell_type": "markdown",
   "metadata": {
    "colab_type": "text",
    "id": "Isv6xwQ1TAVe"
   },
   "source": [
    "In standard writing mode, indicated by 'w', a new file will be created and an existing file will be overwritten. \n",
    "\n",
    "Compare the example above with the following:"
   ]
  },
  {
   "cell_type": "code",
   "execution_count": 0,
   "metadata": {
    "colab": {},
    "colab_type": "code",
    "id": "lwURhO85Nj_E"
   },
   "outputs": [],
   "source": [
    "with open(fname, 'w') as f:\n",
    "    f.write(str1 + '\\n')\n",
    "   \n",
    "with open(fname, 'w') as f:\n",
    "    f.write(str2 + '\\n')\n",
    "    \n",
    "with open(fname, 'w') as f:\n",
    "    f.write(str3)"
   ]
  },
  {
   "cell_type": "markdown",
   "metadata": {
    "colab_type": "text",
    "id": "lRdeB8sGOMed"
   },
   "source": [
    "Testing..."
   ]
  },
  {
   "cell_type": "code",
   "execution_count": 31,
   "metadata": {
    "colab": {
     "base_uri": "https://localhost:8080/",
     "height": 34
    },
    "colab_type": "code",
    "executionInfo": {
     "elapsed": 505,
     "status": "ok",
     "timestamp": 1555924347945,
     "user": {
      "displayName": "Amit Rappel",
      "photoUrl": "https://lh5.googleusercontent.com/-Stg14jONmNc/AAAAAAAAAAI/AAAAAAAAAos/0hU6Y5dO8yk/s64/photo.jpg",
      "userId": "16505003500853190417"
     },
     "user_tz": -180
    },
    "id": "KxvVAyiIN8H2",
    "outputId": "73c0e3d2-ef93-4d9a-9dbb-73389632f802"
   },
   "outputs": [
    {
     "name": "stdout",
     "output_type": "stream",
     "text": [
      "This is the third and last line.\n"
     ]
    }
   ],
   "source": [
    "with open(fname, 'r') as f:\n",
    "    print(f.read())"
   ]
  },
  {
   "cell_type": "markdown",
   "metadata": {
    "colab_type": "text",
    "id": "m7v2f7MuNkQG"
   },
   "source": [
    "If we want to append the data to what is already in the file, then we should use the append mode, indicated by 'a'."
   ]
  },
  {
   "cell_type": "code",
   "execution_count": 0,
   "metadata": {
    "colab": {},
    "colab_type": "code",
    "id": "TcJqkVxxTAVg"
   },
   "outputs": [],
   "source": [
    "with open(fname, 'w') as f:\n",
    "    f.write(str1 + '\\n')\n",
    "   \n",
    "with open(fname, 'a') as f:\n",
    "    f.write(str2 + '\\n')\n",
    "    \n",
    "with open(fname, 'a') as f:\n",
    "    f.write(str3)"
   ]
  },
  {
   "cell_type": "markdown",
   "metadata": {
    "colab_type": "text",
    "id": "GfLYBsZROQ0E"
   },
   "source": [
    "Testing..."
   ]
  },
  {
   "cell_type": "code",
   "execution_count": 33,
   "metadata": {
    "colab": {
     "base_uri": "https://localhost:8080/",
     "height": 68
    },
    "colab_type": "code",
    "executionInfo": {
     "elapsed": 663,
     "status": "ok",
     "timestamp": 1555924379918,
     "user": {
      "displayName": "Amit Rappel",
      "photoUrl": "https://lh5.googleusercontent.com/-Stg14jONmNc/AAAAAAAAAAI/AAAAAAAAAos/0hU6Y5dO8yk/s64/photo.jpg",
      "userId": "16505003500853190417"
     },
     "user_tz": -180
    },
    "id": "pIFOJmCyOKEH",
    "outputId": "a2722ff4-7dbf-4a75-e8d2-462157548369"
   },
   "outputs": [
    {
     "name": "stdout",
     "output_type": "stream",
     "text": [
      "This is the first line.\n",
      "This is the second line.\n",
      "This is the third and last line.\n"
     ]
    }
   ],
   "source": [
    "with open(fname, 'r') as f:\n",
    "    print(f.read())"
   ]
  },
  {
   "cell_type": "markdown",
   "metadata": {
    "colab_type": "text",
    "id": "GDe1xbt8TAVl"
   },
   "source": [
    "## Example"
   ]
  },
  {
   "cell_type": "markdown",
   "metadata": {
    "colab_type": "text",
    "id": "EUbrviHFTAVm"
   },
   "source": [
    "The file \"players.txt\" contains the names and ages of seven band members. Use the data of the file to create a new file called \"sorted players.txt\", in which the members are listed by the alphabetical order of their names."
   ]
  },
  {
   "cell_type": "markdown",
   "metadata": {
    "colab_type": "text",
    "id": "OmKXCRPkTAVn"
   },
   "source": [
    "We note that for sorting, it is easier to have the entire data in our hands."
   ]
  },
  {
   "cell_type": "markdown",
   "metadata": {
    "colab_type": "text",
    "id": "P8abEVmrUGJi"
   },
   "source": [
    "### Solution"
   ]
  },
  {
   "cell_type": "code",
   "execution_count": 0,
   "metadata": {
    "colab": {},
    "colab_type": "code",
    "id": "1wzgxZHCTAVo"
   },
   "outputs": [],
   "source": [
    "# Get the data\n",
    "with open(\"players.txt\", 'r') as f:\n",
    "    data = f.read()\n",
    "\n",
    "# Manipulate the data\n",
    "data = data.split('\\n')\n",
    "sorted_data = sorted(data)\n",
    "sorted_data = '\\n'.join(sorted_data)\n",
    "\n",
    "# Create the new file\n",
    "with open(\"sorted_players.txt\", 'w') as f:\n",
    "    f.write(sorted_data)"
   ]
  },
  {
   "cell_type": "markdown",
   "metadata": {},
   "source": [
    "# Pathlib\n",
    "Working with paths is usually done with python's `pathlib` module"
   ]
  },
  {
   "cell_type": "code",
   "execution_count": 9,
   "metadata": {},
   "outputs": [
    {
     "data": {
      "text/plain": [
       "[PosixPath('players.txt'),\n",
       " PosixPath('customers.txt'),\n",
       " PosixPath('file_objects_exercises.ipynb'),\n",
       " PosixPath('.ipynb_checkpoints'),\n",
       " PosixPath('File objects.ipynb'),\n",
       " PosixPath('example.abc'),\n",
       " PosixPath('queue.txt')]"
      ]
     },
     "execution_count": 9,
     "metadata": {},
     "output_type": "execute_result"
    }
   ],
   "source": [
    "from pathlib import Path\n",
    "base_dir = Path('.')\n",
    "list(base_dir.glob(\"*.*\"))"
   ]
  },
  {
   "cell_type": "markdown",
   "metadata": {},
   "source": [
    "Most pathlib functions return generators and not lists, for memory efficiency"
   ]
  },
  {
   "cell_type": "code",
   "execution_count": 16,
   "metadata": {},
   "outputs": [
    {
     "name": "stdout",
     "output_type": "stream",
     "text": [
      "==========players.txt==========\n",
      "Gidi 35\n",
      "Dani 32\n",
      "Efraim 39\n",
      "Yitzhak 32\n",
      "Meir 36\n",
      "Yoni 31\n",
      "Alon 36\n",
      "\n",
      "==========customers.txt==========\n",
      "name: Yul Brynner         , street: Hertzel   , house:   3, appartment:   1, floor:   1\n",
      "name: Julie Christie      , street: Hertzel   , house:   8, appartment:   9, floor:   4\n",
      "name: Reese Witherspoon   , street: Weizmann  , house:  10, appartment:   8, floor:   3\n",
      "name: Russell Crowe       , street: Dizengoff , house:   1, appartment:   3, floor:   2\n",
      "name: Charlton Heston     , street: Hertzel   , house:   7, appartment:   7, floor:   3\n",
      "name: Burt Lancaster      , street: Dizengoff , house:   9, appartment:   6, floor:   3\n",
      "name: Paul Scofield       , street: Basel     , house:   7, appartment:   5, floor:   2\n",
      "name: Louise Fletcher     , street: Hertzel   , house:   5, appartment:   5, floor:   2\n",
      "name: Kathy Bates         , street: Basel     , house:   7, appartment:   2, floor:   1\n",
      "name: Adrien Brody        , street: Dizengoff , house:   1, appartment:   6, floor:   3\n",
      "name: Vivien Leigh        , street: Hertzel   , house:  10, appartment:   4, floor:   2\n",
      "name: Hilary Swank        , street: Weizmann  , house:   4, appartment:   3, floor:   2\n",
      "name: Jodie Foster        , street: Weizmann  , house:   8, appartment:   4, floor:   2\n",
      "name: Eddie Redmayne      , street: Allenby   , house:   4, appartment:   6, floor:   3\n",
      "name: George C. Scott     , street: Weizmann  , house:   9, appartment:   2, floor:   1\n",
      "name: Susan Sarandon      , street: Weizmann  , house:   2, appartment:   4, floor:   2\n",
      "name: Forest Whitaker     , street: Hertzel   , house:   6, appartment:   5, floor:   2\n",
      "name: Holly Hunter        , street: Basel     , house:   5, appartment:   3, floor:   2\n",
      "name: William Hurt        , street: Dizengoff , house:   4, appartment:   3, floor:   2\n",
      "name: Shirley MacLaine    , street: Dizengoff , house:   8, appartment:   3, floor:   2\n",
      "name: Simone Signoret     , street: Basel     , house:   2, appartment:   8, floor:   3\n",
      "name: Matthew McConaughey , street: Hertzel   , house:   9, appartment:   9, floor:   4\n",
      "name: Natalie Portman     , street: Allenby   , house:   4, appartment:   8, floor:   3\n",
      "name: Marlee Matlin       , street: Allenby   , house:   5, appartment:   6, floor:   3\n",
      "name: Henry Fonda         , street: Basel     , house:   4, appartment:   5, floor:   2\n",
      "name: David Niven         , street: Basel     , house:   9, appartment:   7, floor:   3\n",
      "name: Grace Kelly         , street: Weizmann  , house:   5, appartment:   8, floor:   3\n",
      "name: Nicolas Cage        , street: Basel     , house:   5, appartment:   1, floor:   1\n",
      "name: Gregory Peck        , street: Hertzel   , house:   8, appartment:   1, floor:   1\n",
      "name: Richard Dreyfuss    , street: Weizmann  , house:   5, appartment:   1, floor:   1\n",
      "name: Liza Minnelli       , street: Hertzel   , house:   6, appartment:   2, floor:   1\n",
      "name: Gary Cooper         , street: Allenby   , house:   9, appartment:   3, floor:   2\n",
      "name: Sean Penn           , street: Hertzel   , house:   8, appartment:   2, floor:   1\n",
      "name: Elizabeth Taylor    , street: Basel     , house:   7, appartment:   9, floor:   4\n",
      "name: Sidney Poitier      , street: Dizengoff , house:   5, appartment:   3, floor:   2\n",
      "name: Frances McDormand   , street: Hertzel   , house:   2, appartment:   9, floor:   4\n",
      "name: Anthony Hopkins     , street: Hertzel   , house:   7, appartment:   2, floor:   1\n",
      "name: Anne Bancroft       , street: Hertzel   , house:   4, appartment:   6, floor:   3\n",
      "name: Shirley Booth       , street: Dizengoff , house:   1, appartment:   4, floor:   2\n",
      "name: Faye Dunaway        , street: Basel     , house:   5, appartment:   2, floor:   1\n",
      "name: Charlize Theron     , street: Weizmann  , house:   4, appartment:   2, floor:   1\n",
      "name: Art Carney          , street: Allenby   , house:   6, appartment:   6, floor:   3\n",
      "name: Jeff Bridges        , street: Hertzel   , house:   5, appartment:   7, floor:   3\n",
      "name: Patricia Neal       , street: Weizmann  , house:   6, appartment:   7, floor:   3\n",
      "name: Paul Newman         , street: Hertzel   , house:   3, appartment:   9, floor:   4\n",
      "name: Marion Cotillard    , street: Weizmann  , house:   5, appartment:   3, floor:   2\n",
      "name: Cliff Robertson     , street: Dizengoff , house:   4, appartment:   1, floor:   1\n",
      "name: Daniel Day-Lewis    , street: Hertzel   , house:   8, appartment:   5, floor:   2\n",
      "name: Diane Keaton        , street: Basel     , house:   9, appartment:   8, floor:   3\n",
      "name: Ingrid Bergman      , street: Dizengoff , house:   5, appartment:   1, floor:   1\n",
      "name: Marlon Brando       , street: Weizmann  , house:   4, appartment:   5, floor:   2\n",
      "name: Alec Guinness       , street: Dizengoff , house:   2, appartment:   2, floor:   1\n",
      "name: Anna Magnani        , street: Weizmann  , house:   2, appartment:   8, floor:   3\n",
      "name: F. Murray Abraham   , street: Dizengoff , house:   5, appartment:   8, floor:   3\n",
      "name: Gene Hackman        , street: Basel     , house:   1, appartment:   5, floor:   2\n",
      "name: Jessica Tandy       , street: Allenby   , house:   5, appartment:   5, floor:   2\n",
      "name: Dustin Hoffman      , street: Hertzel   , house:   6, appartment:   3, floor:   2\n",
      "name: Rex Harrison        , street: Hertzel   , house:   7, appartment:   9, floor:   4\n",
      "name: Jessica Lange       , street: Hertzel   , house:   9, appartment:   3, floor:   2\n",
      "name: Halle Berry         , street: Weizmann  , house:  10, appartment:   6, floor:   3\n",
      "name: Robert Duvall       , street: Dizengoff , house:   9, appartment:   8, floor:   3\n",
      "name: Jack Nicholson      , street: Basel     , house:   8, appartment:   6, floor:   3\n",
      "name: Maximilian Schell   , street: Hertzel   , house:  10, appartment:   4, floor:   2\n",
      "name: Michael Douglas     , street: Weizmann  , house:   5, appartment:   1, floor:   1\n",
      "name: Jean Dujardin       , street: Hertzel   , house:   3, appartment:   5, floor:   2\n",
      "name: Geoffrey Rush       , street: Basel     , house:   2, appartment:   2, floor:   1\n",
      "name: Katharine Hepburn   , street: Allenby   , house:   8, appartment:   6, floor:   3\n",
      "name: Jeremy Irons        , street: Dizengoff , house:   6, appartment:   2, floor:   1\n",
      "name: Cate Blanchett      , street: Weizmann  , house:   1, appartment:   9, floor:   4\n",
      "name: Julianne Moore      , street: Hertzel   , house:   4, appartment:   9, floor:   4\n",
      "name: Robert De Niro      , street: Basel     , house:  10, appartment:   4, floor:   2\n",
      "name: Sissy Spacek        , street: Allenby   , house:   4, appartment:   4, floor:   2\n",
      "name: Emma Thompson       , street: Hertzel   , house:   5, appartment:   7, floor:   3\n",
      "name: Audrey Hepburn      , street: Dizengoff , house:   1, appartment:   8, floor:   3\n",
      "name: Ernest Borgnine     , street: Weizmann  , house:   7, appartment:   5, floor:   2\n",
      "name: Denzel Washington   , street: Allenby   , house:   4, appartment:   6, floor:   3\n",
      "name: Sophia Loren        , street: Allenby   , house:   6, appartment:   9, floor:   4\n",
      "name: Lee Marvin          , street: Basel     , house:   9, appartment:   8, floor:   3\n",
      "name: Jane Fonda          , street: Weizmann  , house:   4, appartment:   2, floor:   1\n",
      "name: Julie Andrews       , street: Weizmann  , house:   1, appartment:   2, floor:   1\n",
      "name: William Holden      , street: Dizengoff , house:   6, appartment:   8, floor:   3\n",
      "name: Colin Firth         , street: Weizmann  , house:   6, appartment:   1, floor:   1\n",
      "name: Jamie Foxx          , street: Weizmann  , house:   4, appartment:   8, floor:   3\n",
      "name: Roberto Benigni     , street: Dizengoff , house:   9, appartment:   9, floor:   4\n",
      "name: Geraldine Page      , street: Hertzel   , house:   8, appartment:   7, floor:   3\n",
      "name: Susan Hayward       , street: Basel     , house:   9, appartment:   7, floor:   3\n",
      "name: Al Pacino           , street: Allenby   , house:   1, appartment:   7, floor:   3\n",
      "name: Sandra Bullock      , street: Hertzel   , house:   3, appartment:   4, floor:   2\n",
      "name: Ben Kingsley        , street: Hertzel   , house:   9, appartment:   9, floor:   4\n",
      "name: Kevin Spacey        , street: Allenby   , house:   8, appartment:   5, floor:   2\n",
      "name: Jack Lemmon         , street: Dizengoff , house:   1, appartment:   4, floor:   2\n",
      "name: Sally Field         , street: Dizengoff , house:   3, appartment:   7, floor:   3\n",
      "name: Jennifer Lawrence   , street: Dizengoff , house:   1, appartment:   7, floor:   3\n",
      "name: Julia Roberts       , street: Dizengoff , house:   5, appartment:   5, floor:   2\n",
      "name: Rod Steiger         , street: Basel     , house:   4, appartment:   3, floor:   2\n",
      "name: Kate Winslet        , street: Weizmann  , house:  10, appartment:   6, floor:   3\n",
      "name: John Wayne          , street: Weizmann  , house:   2, appartment:   8, floor:   3\n",
      "name: Jon Voight          , street: Allenby   , house:   1, appartment:   3, floor:   2\n",
      "name: Helen Mirren        , street: Weizmann  , house:   3, appartment:   4, floor:   2\n",
      "name: Joanne Woodward     , street: Weizmann  , house:   9, appartment:   1, floor:   1\n",
      "name: Meryl Streep        , street: Allenby   , house:   8, appartment:   1, floor:   1\n",
      "name: Maggie Smith        , street: Dizengoff , house:   4, appartment:   5, floor:   2\n",
      "name: Tom Hanks           , street: Dizengoff , house:   1, appartment:   9, floor:   4\n",
      "name: Helen Hunt          , street: Hertzel   , house:   7, appartment:   4, floor:   2\n",
      "name: Ellen Burstyn       , street: Basel     , house:   5, appartment:   6, floor:   3\n",
      "name: Gwyneth Paltrow     , street: Weizmann  , house:   8, appartment:   6, floor:   3\n",
      "name: Peter Finch         , street: Basel     , house:   8, appartment:   6, floor:   3\n",
      "name: Cher                , street: Allenby   , house:   8, appartment:   3, floor:   2\n",
      "name: Glenda Jackson      , street: Dizengoff , house:   4, appartment:   4, floor:   2\n",
      "name: Humphrey Bogart     , street: Hertzel   , house:   5, appartment:   1, floor:   1\n",
      "name: Nicole Kidman       , street: Weizmann  , house:   5, appartment:   7, floor:   3\n",
      "\n",
      "==========file_objects_exercises.ipynb==========\n",
      "==========.ipynb_checkpoints==========\n",
      "==========File objects.ipynb==========\n",
      "==========example.abc==========\n",
      "==========queue.txt==========\n",
      "Avi\n",
      "Call\n",
      "Ben\n",
      "Carl\n",
      "Call\n",
      "David\n",
      "Eli\n",
      "Frank\n",
      "Call\n",
      "Call\n",
      "Gale\n",
      "Herbert\n",
      "Call\n",
      "Israel\n",
      "Jake\n",
      "Call\n",
      "Call\n",
      "Call\n",
      "Kermit\n",
      "Liat\n",
      "Mor\n",
      "Nurit\n",
      "Ohad\n",
      "Call\n",
      "Call\n",
      "Pete\n",
      "Quarantino\n",
      "Rachel\n",
      "Call\n",
      "Call\n",
      "Sagit\n",
      "Talya\n",
      "Udi\n",
      "Call\n",
      "Call\n",
      "Call\n",
      "Call\n",
      "Call\n",
      "Veronica\n",
      "William\n",
      "Call\n",
      "Call\n",
      "Xavaier\n",
      "Call\n",
      "Yoni\n",
      "Zorkin\n",
      "Call\n",
      "Call\n",
      "Call\n",
      "Call\n",
      "Call\n",
      "Call\n"
     ]
    }
   ],
   "source": [
    "for p in base_dir.glob(\"*.*\"):\n",
    "    filename = str(p.name)\n",
    "    print (\"=\"*10 + filename + \"=\"*10)\n",
    "    if filename.endswith(\".txt\"):\n",
    "        with p.open('r') as f:\n",
    "            txt = f.read()\n",
    "        print(txt)"
   ]
  },
  {
   "cell_type": "markdown",
   "metadata": {},
   "source": [
    "## S3Path\n",
    "We would be working with remote `s3` files, that could be reached with the `S3Path` module"
   ]
  },
  {
   "cell_type": "code",
   "execution_count": 21,
   "metadata": {},
   "outputs": [
    {
     "data": {
      "text/plain": [
       "[S3Path('/ugoren/recipe_schduler'), S3Path('/ugoren/recipe_scheduler')]"
      ]
     },
     "execution_count": 21,
     "metadata": {},
     "output_type": "execute_result"
    }
   ],
   "source": [
    "from s3path import S3Path\n",
    "list(S3Path(\"/uatt-data/\").iterdir())"
   ]
  },
  {
   "cell_type": "code",
   "execution_count": null,
   "metadata": {},
   "outputs": [],
   "source": []
  }
 ],
 "metadata": {
  "colab": {
   "name": "File objects.ipynb",
   "provenance": [],
   "version": "0.3.2"
  },
  "kernelspec": {
   "display_name": "Python 3",
   "language": "python",
   "name": "python3"
  },
  "language_info": {
   "codemirror_mode": {
    "name": "ipython",
    "version": 3
   },
   "file_extension": ".py",
   "mimetype": "text/x-python",
   "name": "python",
   "nbconvert_exporter": "python",
   "pygments_lexer": "ipython3",
   "version": "3.8.5"
  }
 },
 "nbformat": 4,
 "nbformat_minor": 1
}
