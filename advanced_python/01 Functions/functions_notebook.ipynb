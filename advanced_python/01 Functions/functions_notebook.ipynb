{
 "cells": [
  {
   "cell_type": "markdown",
   "metadata": {
    "colab_type": "text",
    "id": "6vnRPZwfvU5D"
   },
   "source": [
    "# Introduction"
   ]
  },
  {
   "cell_type": "markdown",
   "metadata": {
    "colab_type": "text",
    "id": "XQidHQOUMNFL"
   },
   "source": [
    "## Basics"
   ]
  },
  {
   "cell_type": "markdown",
   "metadata": {
    "colab_type": "text",
    "id": "xItS1zUEvU5C"
   },
   "source": [
    "A function is a block of organized, reusable code. Functions provide better modularity for your application and a high degree of code reusing. In addition, they also make your code more readable, as they keep the **main code** simple by assigning tasks to auxiliary funtions. \n",
    "\n",
    "We already know many of Python's built-in functions like _input()_, _max()_, _float()_, etc., and in this chapter we will learn how to create our own functions. These functions are called **user-defined functions**.\n",
    "\n",
    "A function receives **input arguments** and **returns** some **output** based on them. Both the input and the output can in general contain zero arguments, for example the function _print_ returns no argument, and the list method _pop()_ may be called without an input argument (for this chapter we will not distinguish between functions and methods). The terminology for using a function is to _call_ it.\n",
    "\n",
    "Every function definition starts with a **signature**, containing the prefix **def** followed by the name of the function and parentheses, in which the input arguments are listed. Then, following a colon and an indentation, the function **block** is written, possibly containing a **return** statement(s)."
   ]
  },
  {
   "cell_type": "markdown",
   "metadata": {
    "colab_type": "text",
    "id": "1IorArtJvU5D"
   },
   "source": [
    "The following function adds the input arguments `x` and `y` and return their sum."
   ]
  },
  {
   "cell_type": "code",
   "execution_count": 10,
   "metadata": {
    "colab": {},
    "colab_type": "code",
    "id": "HIB-F5nuvU5E"
   },
   "outputs": [],
   "source": [
    "def add_items(x, y):\n",
    "    total = x + y\n",
    "    return total"
   ]
  },
  {
   "cell_type": "markdown",
   "metadata": {
    "colab_type": "text",
    "id": "NI4Bhe89vU5I"
   },
   "source": [
    "Now the function `add_items()` can be called during the execution of the main code."
   ]
  },
  {
   "cell_type": "code",
   "execution_count": 11,
   "metadata": {
    "colab": {
     "base_uri": "https://localhost:8080/",
     "height": 34
    },
    "colab_type": "code",
    "executionInfo": {
     "elapsed": 634,
     "status": "ok",
     "timestamp": 1561115277660,
     "user": {
      "displayName": "Amit Rappel",
      "photoUrl": "https://lh5.googleusercontent.com/-Stg14jONmNc/AAAAAAAAAAI/AAAAAAAAAos/0hU6Y5dO8yk/s64/photo.jpg",
      "userId": "16505003500853190417"
     },
     "user_tz": -180
    },
    "id": "zivW6RYlvU5I",
    "outputId": "698bdeb9-31e4-4713-a4c3-d92f52a8532a"
   },
   "outputs": [
    {
     "name": "stdout",
     "output_type": "stream",
     "text": [
      "8\n"
     ]
    }
   ],
   "source": [
    "a = 3\n",
    "b = 5\n",
    "c = add_items(a, b)\n",
    "print(c)"
   ]
  },
  {
   "cell_type": "markdown",
   "metadata": {
    "colab_type": "text",
    "id": "7IPT06Q0vU5N"
   },
   "source": [
    "We note that since Python is a dynamic language, which does not require pre-assignment of data types, the input of `add_items()` may be of any type, as long as the `+` sign is appropriate."
   ]
  },
  {
   "cell_type": "code",
   "execution_count": 12,
   "metadata": {
    "colab": {
     "base_uri": "https://localhost:8080/",
     "height": 34
    },
    "colab_type": "code",
    "executionInfo": {
     "elapsed": 695,
     "status": "ok",
     "timestamp": 1561115321568,
     "user": {
      "displayName": "Amit Rappel",
      "photoUrl": "https://lh5.googleusercontent.com/-Stg14jONmNc/AAAAAAAAAAI/AAAAAAAAAos/0hU6Y5dO8yk/s64/photo.jpg",
      "userId": "16505003500853190417"
     },
     "user_tz": -180
    },
    "id": "tKE1xxQuvU5O",
    "outputId": "f9c6b51a-39b0-4ed5-d088-4ff05bb6d2e6"
   },
   "outputs": [
    {
     "name": "stdout",
     "output_type": "stream",
     "text": [
      "international\n"
     ]
    }
   ],
   "source": [
    "a = 'inter'\n",
    "b = 'national'\n",
    "c = add_items(a, b)\n",
    "print(c)"
   ]
  },
  {
   "cell_type": "markdown",
   "metadata": {
    "colab_type": "text",
    "id": "IZhcEbbjvU5S"
   },
   "source": [
    "> **Note:** In the example above the main code has variables `a` and `b`, while the function renames them **locally** as `x` and `y`. Understanding the relationship between the outer variables and their local counterparts is quiet complicated and we will not cover it here. However, we should remember that if the variables are **mutable**, then changing the local variables makes the change in the outer variables."
   ]
  },
  {
   "cell_type": "markdown",
   "metadata": {
    "colab_type": "text",
    "id": "EIdNpvkfvU6L"
   },
   "source": [
    "## Arguments\n",
    "A function can have any number of input arguments as long as it \"knows\" what to do with each one of them. We've already saw the most straight-forward way of naming each one of the arguments and expect the exact same number of arguments. In this chapter we will see some advanced methods for specifying required arguments.\n",
    "\n",
    "### Default values\n",
    "\n",
    "When defining a function, it is possible to give default values to its arguments, so that if the user does not specify them, the function will use the default values."
   ]
  },
  {
   "cell_type": "code",
   "execution_count": 62,
   "metadata": {},
   "outputs": [],
   "source": [
    "def add_items(x, y, z=0):\n",
    "    total = x + y + z\n",
    "    return total"
   ]
  },
  {
   "cell_type": "markdown",
   "metadata": {},
   "source": [
    "**There's no function overriding in python**"
   ]
  },
  {
   "cell_type": "code",
   "execution_count": 3,
   "metadata": {},
   "outputs": [
    {
     "ename": "TypeError",
     "evalue": "add_items() missing 1 required positional argument: 'z'",
     "output_type": "error",
     "traceback": [
      "\u001b[1;31m---------------------------------------------------------------------------\u001b[0m",
      "\u001b[1;31mTypeError\u001b[0m                                 Traceback (most recent call last)",
      "\u001b[1;32m<ipython-input-3-806989fd9f99>\u001b[0m in \u001b[0;36m<module>\u001b[1;34m\u001b[0m\n\u001b[0;32m      7\u001b[0m     \u001b[1;32mreturn\u001b[0m \u001b[0mtotal\u001b[0m\u001b[1;33m\u001b[0m\u001b[1;33m\u001b[0m\u001b[0m\n\u001b[0;32m      8\u001b[0m \u001b[1;33m\u001b[0m\u001b[0m\n\u001b[1;32m----> 9\u001b[1;33m \u001b[0madd_items\u001b[0m\u001b[1;33m(\u001b[0m\u001b[1;36m1\u001b[0m\u001b[1;33m,\u001b[0m\u001b[1;36m2\u001b[0m\u001b[1;33m)\u001b[0m\u001b[1;33m\u001b[0m\u001b[1;33m\u001b[0m\u001b[0m\n\u001b[0m",
      "\u001b[1;31mTypeError\u001b[0m: add_items() missing 1 required positional argument: 'z'"
     ]
    }
   ],
   "source": [
    "def add_items(x, y):\n",
    "    total = x + y \n",
    "    return total\n",
    "\n",
    "def add_items(x, y, z):\n",
    "    total = x + y + z\n",
    "    return total\n",
    "\n",
    "add_items(1,2)"
   ]
  },
  {
   "cell_type": "markdown",
   "metadata": {},
   "source": [
    "### Type hints\n",
    "A function can mark the expected return types and the argument types.\n",
    "\n",
    "**This is not enforced at run time**"
   ]
  },
  {
   "cell_type": "code",
   "execution_count": 56,
   "metadata": {},
   "outputs": [
    {
     "data": {
      "text/plain": [
       "99"
      ]
     },
     "execution_count": 56,
     "metadata": {},
     "output_type": "execute_result"
    }
   ],
   "source": [
    "def add_two_numbers(a:int, b:int)->int:\n",
    "    return a+b\n",
    "\n",
    "add_two_numbers(55,44)"
   ]
  },
  {
   "cell_type": "code",
   "execution_count": 57,
   "metadata": {},
   "outputs": [
    {
     "data": {
      "text/plain": [
       "'5544'"
      ]
     },
     "execution_count": 57,
     "metadata": {},
     "output_type": "execute_result"
    }
   ],
   "source": [
    "add_two_numbers(\"55\",\"44\")"
   ]
  },
  {
   "cell_type": "markdown",
   "metadata": {},
   "source": [
    "Checking the types at runtime should be done manually"
   ]
  },
  {
   "cell_type": "code",
   "execution_count": 60,
   "metadata": {},
   "outputs": [
    {
     "name": "stdout",
     "output_type": "stream",
     "text": [
      "99\n"
     ]
    },
    {
     "ename": "AssertionError",
     "evalue": "a is not int",
     "output_type": "error",
     "traceback": [
      "\u001b[0;31m---------------------------------------------------------------------------\u001b[0m",
      "\u001b[0;31mAssertionError\u001b[0m                            Traceback (most recent call last)",
      "\u001b[0;32m<ipython-input-60-b7656edf135b>\u001b[0m in \u001b[0;36m<module>\u001b[0;34m\u001b[0m\n\u001b[1;32m      5\u001b[0m \u001b[0;34m\u001b[0m\u001b[0m\n\u001b[1;32m      6\u001b[0m \u001b[0mprint\u001b[0m\u001b[0;34m(\u001b[0m\u001b[0madd_two_numbers_assert\u001b[0m\u001b[0;34m(\u001b[0m\u001b[0;36m55\u001b[0m\u001b[0;34m,\u001b[0m\u001b[0;36m44\u001b[0m\u001b[0;34m)\u001b[0m\u001b[0;34m)\u001b[0m\u001b[0;34m\u001b[0m\u001b[0;34m\u001b[0m\u001b[0m\n\u001b[0;32m----> 7\u001b[0;31m \u001b[0mprint\u001b[0m\u001b[0;34m(\u001b[0m\u001b[0madd_two_numbers_assert\u001b[0m\u001b[0;34m(\u001b[0m\u001b[0;34m\"55\"\u001b[0m\u001b[0;34m,\u001b[0m\u001b[0;34m\"44\"\u001b[0m\u001b[0;34m)\u001b[0m\u001b[0;34m)\u001b[0m\u001b[0;34m\u001b[0m\u001b[0;34m\u001b[0m\u001b[0m\n\u001b[0m",
      "\u001b[0;32m<ipython-input-60-b7656edf135b>\u001b[0m in \u001b[0;36madd_two_numbers_assert\u001b[0;34m(a, b)\u001b[0m\n\u001b[1;32m      1\u001b[0m \u001b[0;32mdef\u001b[0m \u001b[0madd_two_numbers_assert\u001b[0m\u001b[0;34m(\u001b[0m\u001b[0ma\u001b[0m\u001b[0;34m:\u001b[0m\u001b[0mint\u001b[0m\u001b[0;34m,\u001b[0m \u001b[0mb\u001b[0m\u001b[0;34m:\u001b[0m\u001b[0mint\u001b[0m\u001b[0;34m)\u001b[0m\u001b[0;34m->\u001b[0m\u001b[0mint\u001b[0m\u001b[0;34m:\u001b[0m\u001b[0;34m\u001b[0m\u001b[0;34m\u001b[0m\u001b[0m\n\u001b[0;32m----> 2\u001b[0;31m     \u001b[0;32massert\u001b[0m \u001b[0mtype\u001b[0m\u001b[0;34m(\u001b[0m\u001b[0ma\u001b[0m\u001b[0;34m)\u001b[0m\u001b[0;34m==\u001b[0m\u001b[0mint\u001b[0m\u001b[0;34m,\u001b[0m \u001b[0;34m\"a is not int\"\u001b[0m\u001b[0;34m\u001b[0m\u001b[0;34m\u001b[0m\u001b[0m\n\u001b[0m\u001b[1;32m      3\u001b[0m     \u001b[0;32massert\u001b[0m \u001b[0mtype\u001b[0m\u001b[0;34m(\u001b[0m\u001b[0mb\u001b[0m\u001b[0;34m)\u001b[0m\u001b[0;34m==\u001b[0m\u001b[0mint\u001b[0m\u001b[0;34m,\u001b[0m \u001b[0;34m\"b is not int\"\u001b[0m\u001b[0;34m\u001b[0m\u001b[0;34m\u001b[0m\u001b[0m\n\u001b[1;32m      4\u001b[0m     \u001b[0;32mreturn\u001b[0m \u001b[0ma\u001b[0m\u001b[0;34m+\u001b[0m\u001b[0mb\u001b[0m\u001b[0;34m\u001b[0m\u001b[0;34m\u001b[0m\u001b[0m\n\u001b[1;32m      5\u001b[0m \u001b[0;34m\u001b[0m\u001b[0m\n",
      "\u001b[0;31mAssertionError\u001b[0m: a is not int"
     ]
    }
   ],
   "source": [
    "def add_two_numbers_assert(a:int, b:int)->int:\n",
    "    assert type(a)==int, \"a is not int\"\n",
    "    assert type(b)==int, \"b is not int\"\n",
    "    return a+b\n",
    "\n",
    "print(add_two_numbers_assert(55,44))\n",
    "print(add_two_numbers_assert(\"55\",\"44\"))"
   ]
  },
  {
   "cell_type": "markdown",
   "metadata": {},
   "source": [
    "## Scopes\n",
    "A function can read all the values from the global scope:"
   ]
  },
  {
   "cell_type": "code",
   "execution_count": 51,
   "metadata": {},
   "outputs": [
    {
     "name": "stdout",
     "output_type": "stream",
     "text": [
      "server address is 127.0.0.1\n"
     ]
    }
   ],
   "source": [
    "server_address = \"127.0.0.1\"\n",
    "def print_server_address():\n",
    "    print(\"server address is \" + server_address)\n",
    "print_server_address()"
   ]
  },
  {
   "cell_type": "markdown",
   "metadata": {},
   "source": [
    "A function can not change varaibles outside the scope of its body"
   ]
  },
  {
   "cell_type": "code",
   "execution_count": 53,
   "metadata": {},
   "outputs": [
    {
     "name": "stdout",
     "output_type": "stream",
     "text": [
      "server address is 127.0.0.1\n"
     ]
    }
   ],
   "source": [
    "server_address = \"127.0.0.1\"\n",
    "def change_server_address(new_addr):\n",
    "    server_address = new_addr\n",
    "\n",
    "change_server_address(\"8.8.8.8\")\n",
    "\n",
    "print_server_address()"
   ]
  },
  {
   "cell_type": "markdown",
   "metadata": {},
   "source": [
    "Using the `global` statement, we can make a single variable approachable to the function body"
   ]
  },
  {
   "cell_type": "code",
   "execution_count": 55,
   "metadata": {},
   "outputs": [
    {
     "name": "stdout",
     "output_type": "stream",
     "text": [
      "server address is 8.8.8.8\n"
     ]
    }
   ],
   "source": [
    "def change_server_address(new_addr):\n",
    "    global server_address\n",
    "    server_address = new_addr\n",
    "    \n",
    "change_server_address('8.8.8.8')\n",
    "print_server_address()"
   ]
  },
  {
   "cell_type": "markdown",
   "metadata": {},
   "source": [
    "## Argument binding types\n",
    "A function has 3 types of argumnent bindings\n",
    "\n",
    "   1. Named arguments\n",
    "   1. Ordinal\n",
    "   1. Key-word arguments"
   ]
  },
  {
   "cell_type": "code",
   "execution_count": 4,
   "metadata": {},
   "outputs": [],
   "source": [
    "def add_3_numbers_named(a,b,c):\n",
    "    return a+b+c\n",
    "def add_3_numbers_ordinal(*args):\n",
    "    return args[0]+args[1]+args[2]\n",
    "def add_3_numbers_keyword(**kwargs):\n",
    "    return kwargs[\"a\"]+kwargs[\"b\"]+kwargs[\"c\"]\n",
    "\n",
    "assert add_3_numbers_named(1,2,3)==add_3_numbers_ordinal(1,2,3)==add_3_numbers_keyword(a=1,b=2,c=3)"
   ]
  },
  {
   "cell_type": "markdown",
   "metadata": {},
   "source": [
    "### Combining argument types"
   ]
  },
  {
   "cell_type": "code",
   "execution_count": 16,
   "metadata": {},
   "outputs": [
    {
     "name": "stdout",
     "output_type": "stream",
     "text": [
      "Got 1 as an ordinal arg\n",
      "Got 2 as an ordinal arg\n",
      "Got 3 as an ordinal arg\n",
      "Got 3 as an keyword arg with key='c'\n",
      "Got 2 as an keyword arg with key='b'\n",
      "Got 1 as an keyword arg with key='a'\n"
     ]
    },
    {
     "data": {
      "text/plain": [
       "12"
      ]
     },
     "execution_count": 16,
     "metadata": {},
     "output_type": "execute_result"
    }
   ],
   "source": [
    "def add_and_report(*args,**kwargs):\n",
    "    ret = 0\n",
    "    for a in args:\n",
    "        print (f\"Got {a} as an ordinal arg\")\n",
    "        ret+=a\n",
    "    for k,a in kwargs.items():\n",
    "        print (f\"Got {a} as an keyword arg with key='{k}'\")\n",
    "        ret+=a\n",
    "    return ret\n",
    "add_and_report(1,2,3,c=3,b=2,a=1)"
   ]
  },
  {
   "cell_type": "markdown",
   "metadata": {
    "colab_type": "text",
    "id": "Td3GU3ZBvU5n"
   },
   "source": [
    "### Nested functions"
   ]
  },
  {
   "cell_type": "code",
   "execution_count": 6,
   "metadata": {
    "colab": {},
    "colab_type": "code",
    "id": "J3nLGIfSvU5r"
   },
   "outputs": [],
   "source": [
    "def greet_maker(greeting):\n",
    "    def greet(name):\n",
    "        return greeting + \" \" + name + \" !\"\n",
    "    return greet"
   ]
  },
  {
   "cell_type": "code",
   "execution_count": 7,
   "metadata": {
    "colab": {
     "base_uri": "https://localhost:8080/",
     "height": 35
    },
    "colab_type": "code",
    "executionInfo": {
     "elapsed": 460,
     "status": "ok",
     "timestamp": 1560249379121,
     "user": {
      "displayName": "Amit Rappel",
      "photoUrl": "https://lh5.googleusercontent.com/-Stg14jONmNc/AAAAAAAAAAI/AAAAAAAAAos/0hU6Y5dO8yk/s64/photo.jpg",
      "userId": "16505003500853190417"
     },
     "user_tz": -180
    },
    "id": "rbQhjFgCvU5t",
    "outputId": "2af86423-4bc7-4278-a127-46515728538f"
   },
   "outputs": [],
   "source": [
    "greeting_spanish = greet_maker(\"Hola\")\n",
    "greeting_english = greet_maker(\"Hello\")"
   ]
  },
  {
   "cell_type": "code",
   "execution_count": 8,
   "metadata": {},
   "outputs": [
    {
     "data": {
      "text/plain": [
       "'Hola Jorge !'"
      ]
     },
     "execution_count": 8,
     "metadata": {},
     "output_type": "execute_result"
    }
   ],
   "source": [
    "greeting_spanish(\"Jorge\")"
   ]
  },
  {
   "cell_type": "code",
   "execution_count": 9,
   "metadata": {},
   "outputs": [
    {
     "data": {
      "text/plain": [
       "'Hello John !'"
      ]
     },
     "execution_count": 9,
     "metadata": {},
     "output_type": "execute_result"
    }
   ],
   "source": [
    "greeting_english(\"John\")"
   ]
  },
  {
   "cell_type": "markdown",
   "metadata": {},
   "source": [
    "### Partial application\n",
    "Also known as currying, is a design pattern borrowed from functional languages which is fairly common in python.\n",
    "\n",
    "The functional aspects of python are imported from the `functools` module"
   ]
  },
  {
   "cell_type": "code",
   "execution_count": 17,
   "metadata": {},
   "outputs": [],
   "source": [
    "from functools import partial\n",
    "\n",
    "def single_word_greeting(gword, name):\n",
    "    return f\"{gword} {name} !\""
   ]
  },
  {
   "cell_type": "code",
   "execution_count": 18,
   "metadata": {},
   "outputs": [
    {
     "data": {
      "text/plain": [
       "'Hola Xavier !'"
      ]
     },
     "execution_count": 18,
     "metadata": {},
     "output_type": "execute_result"
    }
   ],
   "source": [
    "greeting_spanish = partial(single_word_greeting, \"Hola\")\n",
    "greeting_spanish(\"Xavier\")"
   ]
  },
  {
   "cell_type": "markdown",
   "metadata": {},
   "source": [
    "### Functional caching\n",
    "Caching is super important when implementing large models that require a lot of computation time or data extraction.\n",
    "\n",
    "The simplest caching strategy is the LRU - Last-Recently-Used."
   ]
  },
  {
   "cell_type": "code",
   "execution_count": 4,
   "metadata": {},
   "outputs": [],
   "source": [
    "from functools import lru_cache"
   ]
  },
  {
   "cell_type": "code",
   "execution_count": 45,
   "metadata": {},
   "outputs": [],
   "source": [
    "def fib(n):\n",
    "    if n<2:\n",
    "        return n\n",
    "    return fib(n-1)+fib(n-2)"
   ]
  },
  {
   "cell_type": "code",
   "execution_count": 46,
   "metadata": {},
   "outputs": [
    {
     "name": "stdout",
     "output_type": "stream",
     "text": [
      "590 ms ± 3.66 ms per loop (mean ± std. dev. of 7 runs, 1 loop each)\n"
     ]
    }
   ],
   "source": [
    "%timeit fib(32)"
   ]
  },
  {
   "cell_type": "code",
   "execution_count": 47,
   "metadata": {},
   "outputs": [],
   "source": [
    "# We replace the fib function definition with the cached version\n",
    "fib=lru_cache(maxsize=100)(fib)"
   ]
  },
  {
   "cell_type": "code",
   "execution_count": 48,
   "metadata": {},
   "outputs": [
    {
     "name": "stdout",
     "output_type": "stream",
     "text": [
      "62 ns ± 2.43 ns per loop (mean ± std. dev. of 7 runs, 10000000 loops each)\n"
     ]
    }
   ],
   "source": [
    "%timeit fib(32)"
   ]
  },
  {
   "cell_type": "markdown",
   "metadata": {},
   "source": [
    "# Exercise\n",
    "For simplicity, we'll assume that our function `f` has only keyword arguments `**kwargs`:\n",
    "\n",
    "\n",
    "Implement a cache function:"
   ]
  },
  {
   "cell_type": "code",
   "execution_count": 13,
   "metadata": {},
   "outputs": [
    {
     "name": "stdout",
     "output_type": "stream",
     "text": [
      "5.54 µs ± 69.1 ns per loop (mean ± std. dev. of 7 runs, 100000 loops each)\n"
     ]
    }
   ],
   "source": [
    "def cache(f):\n",
    "    cached_f = lru_cache(maxsize=100)(f)\n",
    "    return cached_f\n",
    "\n",
    "def f(**kwargs):\n",
    "    return (kwargs[\"a\"] ** kwargs[\"b\"])\n",
    "\n",
    "%timeit cache(f)(a=300,b=40)"
   ]
  },
  {
   "cell_type": "code",
   "execution_count": 14,
   "metadata": {},
   "outputs": [
    {
     "name": "stdout",
     "output_type": "stream",
     "text": [
      "996 ns ± 5.25 ns per loop (mean ± std. dev. of 7 runs, 1000000 loops each)\n"
     ]
    }
   ],
   "source": [
    "%timeit f(a=300,b=40)"
   ]
  },
  {
   "cell_type": "markdown",
   "metadata": {
    "colab_type": "text",
    "id": "VTrgd3MpvU7W"
   },
   "source": [
    "# Lambda functions"
   ]
  },
  {
   "cell_type": "markdown",
   "metadata": {
    "colab_type": "text",
    "id": "lsEy0f3_vU7X"
   },
   "source": [
    "## functions are objects, too"
   ]
  },
  {
   "cell_type": "markdown",
   "metadata": {
    "colab_type": "text",
    "id": "vHHldet7vU7Y"
   },
   "source": [
    "Before we speak about lambda functions it is importamnt to understand that functions, like anything else in Python, are objects. To illustarte that, we can see that a function can be assigned to a variable just like a number or a string."
   ]
  },
  {
   "cell_type": "code",
   "execution_count": 0,
   "metadata": {
    "colab": {},
    "colab_type": "code",
    "id": "YtPzeCAqvU7Y"
   },
   "outputs": [],
   "source": [
    "def square(x):\n",
    "    return x**2\n",
    "\n",
    "my_func = square"
   ]
  },
  {
   "cell_type": "markdown",
   "metadata": {
    "colab_type": "text",
    "id": "s4KJnQgOvU7b"
   },
   "source": [
    "`square()` is a function, defined regularly, and the variable `my_func` is a variable holding the function `square()`, and they are completely equivalent."
   ]
  },
  {
   "cell_type": "code",
   "execution_count": 0,
   "metadata": {
    "colab": {
     "base_uri": "https://localhost:8080/",
     "height": 54
    },
    "colab_type": "code",
    "executionInfo": {
     "elapsed": 944,
     "status": "ok",
     "timestamp": 1560253643539,
     "user": {
      "displayName": "Amit Rappel",
      "photoUrl": "https://lh5.googleusercontent.com/-Stg14jONmNc/AAAAAAAAAAI/AAAAAAAAAos/0hU6Y5dO8yk/s64/photo.jpg",
      "userId": "16505003500853190417"
     },
     "user_tz": -180
    },
    "id": "knD2spA-vU7b",
    "outputId": "3288f303-1479-495a-9d60-ea01b08e2370"
   },
   "outputs": [
    {
     "name": "stdout",
     "output_type": "stream",
     "text": [
      "<class 'function'>\n",
      "<class 'function'>\n"
     ]
    }
   ],
   "source": [
    "print(type(square))\n",
    "print(type(my_func))"
   ]
  },
  {
   "cell_type": "markdown",
   "metadata": {
    "colab_type": "text",
    "id": "Wqlpb1gEvU7h"
   },
   "source": [
    "Moreover, they perform the same functionality."
   ]
  },
  {
   "cell_type": "code",
   "execution_count": 0,
   "metadata": {
    "colab": {
     "base_uri": "https://localhost:8080/",
     "height": 54
    },
    "colab_type": "code",
    "executionInfo": {
     "elapsed": 896,
     "status": "ok",
     "timestamp": 1560253649814,
     "user": {
      "displayName": "Amit Rappel",
      "photoUrl": "https://lh5.googleusercontent.com/-Stg14jONmNc/AAAAAAAAAAI/AAAAAAAAAos/0hU6Y5dO8yk/s64/photo.jpg",
      "userId": "16505003500853190417"
     },
     "user_tz": -180
    },
    "id": "3zazC11tvU7i",
    "outputId": "1f889009-ef66-4b3c-8097-2a968099f5b1"
   },
   "outputs": [
    {
     "name": "stdout",
     "output_type": "stream",
     "text": [
      "25\n",
      "25\n"
     ]
    }
   ],
   "source": [
    "print(square(5))\n",
    "print(my_func(5))"
   ]
  },
  {
   "cell_type": "markdown",
   "metadata": {
    "colab_type": "text",
    "id": "dvDTUR67vU7l"
   },
   "source": [
    "> **NOTE:** It should be noted that functions have different meanings with and without parenthesis. The parenthesis are used when a function is actually called, and they are removed when the function is referred to as an object. This will be much more clear later in this chapter, when we'll see functions that get other functions as arguments."
   ]
  },
  {
   "cell_type": "markdown",
   "metadata": {},
   "source": [
    "### Rewriting as a lambda expression"
   ]
  },
  {
   "cell_type": "code",
   "execution_count": 74,
   "metadata": {},
   "outputs": [],
   "source": [
    "square = lambda x:x**2"
   ]
  },
  {
   "cell_type": "code",
   "execution_count": 75,
   "metadata": {},
   "outputs": [
    {
     "name": "stdout",
     "output_type": "stream",
     "text": [
      "<class 'function'>\n"
     ]
    }
   ],
   "source": [
    "print(type(square))"
   ]
  },
  {
   "cell_type": "markdown",
   "metadata": {
    "colab_type": "text",
    "id": "VUMJuKhfiC8J"
   },
   "source": [
    "### Example"
   ]
  },
  {
   "cell_type": "markdown",
   "metadata": {
    "colab_type": "text",
    "id": "Xrocx9fPiC8J"
   },
   "source": [
    "Let's write a function `dummy_integral` that aproximates the area under the curve"
   ]
  },
  {
   "cell_type": "code",
   "execution_count": 80,
   "metadata": {
    "colab": {},
    "colab_type": "code",
    "id": "sFl9GOymiC8L"
   },
   "outputs": [],
   "source": [
    "def dummy_integral(f,a,b):\n",
    "    return abs((a-b)*(f(a)+f(b)))/2"
   ]
  },
  {
   "cell_type": "markdown",
   "metadata": {
    "colab_type": "text",
    "id": "RqhMC47IRGfY"
   },
   "source": [
    "Now we can calculate the area under the curve of any function,\n",
    "it is more convinent to write the function as a lambda expression when it's short and concise"
   ]
  },
  {
   "cell_type": "code",
   "execution_count": 81,
   "metadata": {
    "colab": {},
    "colab_type": "code",
    "id": "Yxna8TaOiC8K"
   },
   "outputs": [
    {
     "data": {
      "text/plain": [
       "1.5"
      ]
     },
     "execution_count": 81,
     "metadata": {},
     "output_type": "execute_result"
    }
   ],
   "source": [
    "dummy_integral(lambda x:x**2+1,0,1)"
   ]
  },
  {
   "cell_type": "code",
   "execution_count": 84,
   "metadata": {
    "colab": {
     "base_uri": "https://localhost:8080/",
     "height": 35
    },
    "colab_type": "code",
    "executionInfo": {
     "elapsed": 740,
     "status": "ok",
     "timestamp": 1560254031904,
     "user": {
      "displayName": "Amit Rappel",
      "photoUrl": "https://lh5.googleusercontent.com/-Stg14jONmNc/AAAAAAAAAAI/AAAAAAAAAos/0hU6Y5dO8yk/s64/photo.jpg",
      "userId": "16505003500853190417"
     },
     "user_tz": -180
    },
    "id": "rAAWvKUIiC8M",
    "outputId": "de08fa27-75a9-459a-d8df-3127799ffe7d"
   },
   "outputs": [
    {
     "data": {
      "text/plain": [
       "24585.0"
      ]
     },
     "execution_count": 84,
     "metadata": {},
     "output_type": "execute_result"
    }
   ],
   "source": [
    "dummy_integral(lambda x:x**3-7*x+4,0,15)"
   ]
  },
  {
   "cell_type": "markdown",
   "metadata": {
    "colab_type": "text",
    "id": "HpXB_zMyvU7-"
   },
   "source": [
    "# Built-in functions"
   ]
  },
  {
   "cell_type": "markdown",
   "metadata": {
    "colab_type": "text",
    "id": "c14A_BxPvU7-"
   },
   "source": [
    "Python includes many function as part of its core capabilities. Their implementation is very efficient, so it is highly advisable to use them when possible. The entire list of built-in functions is documented [here](https://docs.python.org/3.7/library/functions.html), but here are some examples:\n",
    "\n",
    "* **General utiliy**:  _map()_, _zip()_, _sorted()_, _all()_, _any()_, _enumerate()_, _filter()_, etc.\n",
    "* **Conversion**: _int()_, _str()_, _list()_, _dict()_, _unicode()_, etc.\n",
    "* **Math**: _abs()_, _min()_, _max()_, _sum()_, etc.\n",
    "* **Object-Oriented**: _isinstance()_, _hasattr()_, _delattr()_, _classmethod()_, etc.\n",
    "\n",
    "In this chappter we will discuss the general utility functions mentioned."
   ]
  },
  {
   "cell_type": "markdown",
   "metadata": {
    "colab_type": "text",
    "id": "Ve8nqKwkvU90"
   },
   "source": [
    "## `map(function, iterable[, iterable...])`"
   ]
  },
  {
   "cell_type": "markdown",
   "metadata": {
    "colab_type": "text",
    "id": "xsXYUWfDvU91"
   },
   "source": [
    "The function [_map(function, iterable[, iterable...])_][map] applies _function_ to every item of _iterable_ and returns a list of the results. If additional iterable arguments are passed, _function_ must take that many arguments and is applied to the items from all iterables in parallel.\n",
    "\n",
    "[map]: https://docs.python.org/3.7/library/functions.html#map \"map() documentation\""
   ]
  },
  {
   "cell_type": "markdown",
   "metadata": {
    "colab_type": "text",
    "id": "6D5vv0z5vU91"
   },
   "source": [
    "### Example"
   ]
  },
  {
   "cell_type": "markdown",
   "metadata": {
    "colab_type": "text",
    "id": "jQCBGWYJvU92"
   },
   "source": [
    "In the game '7-boom' the players count loudly the numbers from 1 and up, but if the number is divisible by 7 or contains the digit 7 they say 'Boom' instead. Generate the first _n_ calls of the game."
   ]
  },
  {
   "cell_type": "code",
   "execution_count": 0,
   "metadata": {
    "colab": {},
    "colab_type": "code",
    "id": "nCfuBo_4vU93"
   },
   "outputs": [],
   "source": [
    "def call_7_boom(i):\n",
    "    if (i % 7 ==0) or '7' in str(i):\n",
    "        return 'Boom'\n",
    "    else:\n",
    "        return i"
   ]
  },
  {
   "cell_type": "code",
   "execution_count": 0,
   "metadata": {
    "colab": {
     "base_uri": "https://localhost:8080/",
     "height": 55
    },
    "colab_type": "code",
    "executionInfo": {
     "elapsed": 577,
     "status": "ok",
     "timestamp": 1560256034736,
     "user": {
      "displayName": "Amit Rappel",
      "photoUrl": "https://lh5.googleusercontent.com/-Stg14jONmNc/AAAAAAAAAAI/AAAAAAAAAos/0hU6Y5dO8yk/s64/photo.jpg",
      "userId": "16505003500853190417"
     },
     "user_tz": -180
    },
    "id": "Epb5ouFEvU94",
    "outputId": "428c9b63-2365-4d16-e8d5-f848f80a471f"
   },
   "outputs": [
    {
     "name": "stdout",
     "output_type": "stream",
     "text": [
      "[1, 2, 3, 4, 5, 6, 'Boom', 8, 9, 10, 11, 12, 13, 'Boom', 15, 16, 'Boom', 18, 19, 20, 'Boom', 22, 23, 24, 25, 26, 'Boom', 'Boom', 29, 30, 31, 32, 33, 34, 'Boom', 36, 'Boom', 38, 39, 40, 41, 'Boom', 43, 44, 45, 46, 'Boom', 48, 'Boom', 50, 51, 52, 53, 54, 55, 'Boom', 'Boom', 58, 59, 60, 61, 62, 'Boom', 64, 65, 66, 'Boom', 68, 69, 'Boom', 'Boom', 'Boom', 'Boom', 'Boom', 'Boom', 'Boom', 'Boom', 'Boom', 'Boom', 80, 81, 82, 83, 'Boom', 85, 86, 'Boom', 88, 89, 90, 'Boom', 92, 93, 94, 95, 96, 'Boom', 'Boom', 99, 100]\n"
     ]
    }
   ],
   "source": [
    "n = 100\n",
    "results = list(map(call_7_boom, range(1, n+1)))\n",
    "print(results)"
   ]
  },
  {
   "cell_type": "markdown",
   "metadata": {
    "colab_type": "text",
    "id": "CSf4r3hLvU9_"
   },
   "source": [
    "Usually _function_ is specified in lambda form. Also, *map()* can take more than a single iterable."
   ]
  },
  {
   "cell_type": "markdown",
   "metadata": {
    "colab_type": "text",
    "id": "MYFwkd_bGGXJ"
   },
   "source": [
    "### Example"
   ]
  },
  {
   "cell_type": "markdown",
   "metadata": {
    "colab_type": "text",
    "id": "VQmGRoTpGGXJ"
   },
   "source": [
    "You are given two words of the same length. Return a string of 0's and 1's where their characters are the same."
   ]
  },
  {
   "cell_type": "code",
   "execution_count": 0,
   "metadata": {
    "colab": {},
    "colab_type": "code",
    "id": "ywfSvFaWGGXK"
   },
   "outputs": [],
   "source": [
    "word1 = 'wonderful'\n",
    "word2 = 'waterfall'"
   ]
  },
  {
   "cell_type": "code",
   "execution_count": 0,
   "metadata": {
    "colab": {
     "base_uri": "https://localhost:8080/",
     "height": 35
    },
    "colab_type": "code",
    "executionInfo": {
     "elapsed": 665,
     "status": "ok",
     "timestamp": 1560256367980,
     "user": {
      "displayName": "Amit Rappel",
      "photoUrl": "https://lh5.googleusercontent.com/-Stg14jONmNc/AAAAAAAAAAI/AAAAAAAAAos/0hU6Y5dO8yk/s64/photo.jpg",
      "userId": "16505003500853190417"
     },
     "user_tz": -180
    },
    "id": "3_9KMkkUGGXM",
    "outputId": "ccb127c7-fa32-4515-b352-24f09132bade"
   },
   "outputs": [
    {
     "data": {
      "text/plain": [
       "'100000001'"
      ]
     },
     "execution_count": 65,
     "metadata": {
      "tags": []
     },
     "output_type": "execute_result"
    }
   ],
   "source": [
    "''.join(map(lambda c1, c2: str(int(c1==c2)), word1, word2))"
   ]
  },
  {
   "cell_type": "markdown",
   "metadata": {
    "colab_type": "text",
    "id": "id50ES5avU80"
   },
   "source": [
    "## `sorted(iterable, key, reverse)`"
   ]
  },
  {
   "cell_type": "markdown",
   "metadata": {
    "colab_type": "text",
    "id": "v8LD9ItgvU81"
   },
   "source": [
    "The function [`sorted(iterable, key, reverse)`][sorted] returns a list with the elements of _iterable_ sorted by the key defined by the _key_ function and displayed in reverse order if the Boolean `reverse` is `True`.\n",
    "\n",
    "\n",
    "[sorted]: https://docs.python.org/3.7/library/functions.html#sorted \"sorted() documentation\""
   ]
  },
  {
   "cell_type": "markdown",
   "metadata": {
    "colab_type": "text",
    "id": "fjPATH2YvU9F"
   },
   "source": [
    "#### Lexicographic order"
   ]
  },
  {
   "cell_type": "markdown",
   "metadata": {
    "colab_type": "text",
    "id": "eAXZmNwWvU9G"
   },
   "source": [
    "If _key_ is not defined, then the standard lexicographic order is applied. The _reverse_ argument specifies whether the items should be displayed in reverse order."
   ]
  },
  {
   "cell_type": "code",
   "execution_count": 0,
   "metadata": {
    "colab": {},
    "colab_type": "code",
    "id": "_KoVglEavU9G"
   },
   "outputs": [],
   "source": [
    "students = {'Andy': ('m', 51), 'Brad': ('m', 34), 'Craig': ('m', 25), 'Dan': ('m', 36),\n",
    "            'Elaine': ('f', 36), 'Fiona': ('f', 36), 'George': ('m', 41), 'Herbert': ('m', 23),\n",
    "            'Isabel': ('f', 27), 'Jerry': ('m', 19), 'Kramer': ('m', 42), 'Lena': ('f', 22)}"
   ]
  },
  {
   "cell_type": "code",
   "execution_count": 0,
   "metadata": {
    "colab": {
     "base_uri": "https://localhost:8080/",
     "height": 72
    },
    "colab_type": "code",
    "executionInfo": {
     "elapsed": 760,
     "status": "ok",
     "timestamp": 1560256893705,
     "user": {
      "displayName": "Amit Rappel",
      "photoUrl": "https://lh5.googleusercontent.com/-Stg14jONmNc/AAAAAAAAAAI/AAAAAAAAAos/0hU6Y5dO8yk/s64/photo.jpg",
      "userId": "16505003500853190417"
     },
     "user_tz": -180
    },
    "id": "dCaS2oKqvU9G",
    "outputId": "289bd919-8db0-4cca-eb42-1b048c0a9163"
   },
   "outputs": [
    {
     "name": "stdout",
     "output_type": "stream",
     "text": [
      "['Andy', 'Brad', 'Craig', 'Dan', 'Elaine', 'Fiona', 'George', 'Herbert', 'Isabel', 'Jerry', 'Kramer', 'Lena']\n",
      " * ~ * ~ * ~ * ~ * ~ * ~ * ~ * ~ * ~ * ~ * ~ * ~ * ~ * ~ * ~ * ~ * ~ * ~ * ~ * ~ * ~ * ~ * ~ * ~ * ~\n",
      "['Lena', 'Kramer', 'Jerry', 'Isabel', 'Herbert', 'George', 'Fiona', 'Elaine', 'Dan', 'Craig', 'Brad', 'Andy']\n"
     ]
    }
   ],
   "source": [
    "print(sorted(students))\n",
    "print(25 * ' * ~')\n",
    "print(sorted(students, reverse=True))"
   ]
  },
  {
   "cell_type": "markdown",
   "metadata": {
    "colab_type": "text",
    "id": "MNJENdoxvU9L"
   },
   "source": [
    "If the elements of _iterable_ are iterables themselves, then the lexicographic order will be applied to their first element, then to their second, and so on."
   ]
  },
  {
   "cell_type": "code",
   "execution_count": 0,
   "metadata": {
    "colab": {
     "base_uri": "https://localhost:8080/",
     "height": 35
    },
    "colab_type": "code",
    "executionInfo": {
     "elapsed": 1413,
     "status": "ok",
     "timestamp": 1560256990811,
     "user": {
      "displayName": "Amit Rappel",
      "photoUrl": "https://lh5.googleusercontent.com/-Stg14jONmNc/AAAAAAAAAAI/AAAAAAAAAos/0hU6Y5dO8yk/s64/photo.jpg",
      "userId": "16505003500853190417"
     },
     "user_tz": -180
    },
    "id": "hLMkboYHvU9L",
    "outputId": "07b60533-b0f1-4439-fa1a-93c5d8254c6c"
   },
   "outputs": [
    {
     "name": "stdout",
     "output_type": "stream",
     "text": [
      "[('f', 22), ('f', 27), ('f', 36), ('f', 36), ('m', 19), ('m', 23), ('m', 25), ('m', 34), ('m', 36), ('m', 41), ('m', 42), ('m', 51)]\n"
     ]
    }
   ],
   "source": [
    "details = list(students.values())\n",
    "print(sorted(details, reverse=False))"
   ]
  },
  {
   "cell_type": "markdown",
   "metadata": {
    "colab_type": "text",
    "id": "YC22daoPvU9N"
   },
   "source": [
    "#### The _key_ function"
   ]
  },
  {
   "cell_type": "markdown",
   "metadata": {
    "colab_type": "text",
    "id": "CbSVPLqYvU9O"
   },
   "source": [
    "_key_ is an auxiliary **function** that defines the \"key\" of the elements, according to which we sort them. Most of the times this function is in a lambda function form."
   ]
  },
  {
   "cell_type": "code",
   "execution_count": 0,
   "metadata": {
    "colab": {},
    "colab_type": "code",
    "id": "rPcvv5REvU9O"
   },
   "outputs": [],
   "source": [
    "students = {'Andy': ('m', 51), 'Brad': ('m', 34), 'Craig': ('m', 25), 'Dan': ('m', 36),\n",
    "            'Elaine': ('f', 36), 'Fiona': ('f', 36), 'George': ('m', 41), 'Herbert': ('m', 23),\n",
    "            'Isabel': ('f', 27), 'Jerry': ('m', 19), 'Kramer': ('m', 42), 'Lena': ('f', 22)}"
   ]
  },
  {
   "cell_type": "code",
   "execution_count": 0,
   "metadata": {
    "colab": {
     "base_uri": "https://localhost:8080/",
     "height": 35
    },
    "colab_type": "code",
    "executionInfo": {
     "elapsed": 553,
     "status": "ok",
     "timestamp": 1560257015740,
     "user": {
      "displayName": "Amit Rappel",
      "photoUrl": "https://lh5.googleusercontent.com/-Stg14jONmNc/AAAAAAAAAAI/AAAAAAAAAos/0hU6Y5dO8yk/s64/photo.jpg",
      "userId": "16505003500853190417"
     },
     "user_tz": -180
    },
    "id": "jEViqpRavU9Q",
    "outputId": "0ec14ab6-ea18-4280-b734-364e42a72402"
   },
   "outputs": [
    {
     "name": "stdout",
     "output_type": "stream",
     "text": [
      "['Jerry', 'Lena', 'Herbert', 'Craig', 'Isabel', 'Brad', 'Dan', 'Elaine', 'Fiona', 'George', 'Kramer', 'Andy']\n"
     ]
    }
   ],
   "source": [
    "sorted_by_age = sorted(students, key=lambda name: students[name][1])\n",
    "print(sorted_by_age)"
   ]
  },
  {
   "cell_type": "code",
   "execution_count": 0,
   "metadata": {
    "colab": {},
    "colab_type": "code",
    "id": "VtpW383JvU9T",
    "outputId": "00a21fd7-5794-42b7-91f9-ea102bf53036"
   },
   "outputs": [
    {
     "name": "stdout",
     "output_type": "stream",
     "text": [
      "['Dan', 'Andy', 'Brad', 'Lena', 'Craig', 'Fiona', 'Jerry', 'Elaine', 'George', 'Isabel', 'Kramer', 'Herbert']\n"
     ]
    }
   ],
   "source": [
    "sorted_by_name_length = sorted(students, key=len)\n",
    "print(sorted_by_name_length)"
   ]
  },
  {
   "cell_type": "markdown",
   "metadata": {
    "colab_type": "text",
    "id": "cpe6SAhPoJqm"
   },
   "source": [
    "> **Your turn:** Sort the names of the students by the number of their unique letters."
   ]
  },
  {
   "cell_type": "markdown",
   "metadata": {
    "colab_type": "text",
    "id": "4uEVwdOCT5yi"
   },
   "source": [
    "## `zip(iterable, iterable, ...)`"
   ]
  },
  {
   "cell_type": "markdown",
   "metadata": {
    "colab_type": "text",
    "id": "p-cdLxsuT5yh"
   },
   "source": [
    "This function [`zip()`][zip] returns an **iterator of tuples**, where the i-th tuple contains the i-th element from each of the argument sequences or iterables. It is called \"zip\" because it \"zips\" (from zipper) the iterables into a single iterable.\n",
    "\n",
    "[zip]: https://docs.python.org/3.7/library/functions.html#zip \"zip() documentation\""
   ]
  },
  {
   "cell_type": "code",
   "execution_count": 0,
   "metadata": {
    "colab": {},
    "colab_type": "code",
    "id": "bNUJnuBeT5ye"
   },
   "outputs": [],
   "source": [
    "names = ['Andy', 'Brad', 'Craig', 'Dan']\n",
    "ages = [51, 34, 25, 36] \n",
    "genders = ['m', 'f', 'm', 'm']"
   ]
  },
  {
   "cell_type": "code",
   "execution_count": 0,
   "metadata": {
    "colab": {
     "base_uri": "https://localhost:8080/",
     "height": 35
    },
    "colab_type": "code",
    "executionInfo": {
     "elapsed": 892,
     "status": "ok",
     "timestamp": 1560257492855,
     "user": {
      "displayName": "Amit Rappel",
      "photoUrl": "https://lh5.googleusercontent.com/-Stg14jONmNc/AAAAAAAAAAI/AAAAAAAAAos/0hU6Y5dO8yk/s64/photo.jpg",
      "userId": "16505003500853190417"
     },
     "user_tz": -180
    },
    "id": "Tiu5jNssT5yV",
    "outputId": "1879c06c-88f0-481b-db27-70ffabc8b7fd"
   },
   "outputs": [
    {
     "data": {
      "text/plain": [
       "[('Andy', 51, 'm'), ('Brad', 34, 'f'), ('Craig', 25, 'm'), ('Dan', 36, 'm')]"
      ]
     },
     "execution_count": 80,
     "metadata": {
      "tags": []
     },
     "output_type": "execute_result"
    }
   ],
   "source": [
    "zipped_students = list(zip(names, ages, genders))\n",
    "zipped_students"
   ]
  },
  {
   "cell_type": "markdown",
   "metadata": {
    "colab_type": "text",
    "id": "8cFSJ78-oc5-"
   },
   "source": [
    "One of its usages is in creating dictionaries."
   ]
  },
  {
   "cell_type": "code",
   "execution_count": 0,
   "metadata": {
    "colab": {
     "base_uri": "https://localhost:8080/",
     "height": 35
    },
    "colab_type": "code",
    "executionInfo": {
     "elapsed": 670,
     "status": "ok",
     "timestamp": 1560257575666,
     "user": {
      "displayName": "Amit Rappel",
      "photoUrl": "https://lh5.googleusercontent.com/-Stg14jONmNc/AAAAAAAAAAI/AAAAAAAAAos/0hU6Y5dO8yk/s64/photo.jpg",
      "userId": "16505003500853190417"
     },
     "user_tz": -180
    },
    "id": "iG3U-sb0obxI",
    "outputId": "e5358cb0-a5f5-4424-f0b1-1267409a3633"
   },
   "outputs": [
    {
     "data": {
      "text/plain": [
       "{'Andy': (51, 'm'), 'Brad': (34, 'f'), 'Craig': (25, 'm'), 'Dan': (36, 'm')}"
      ]
     },
     "execution_count": 82,
     "metadata": {
      "tags": []
     },
     "output_type": "execute_result"
    }
   ],
   "source": [
    "dict(zip(names, zip(ages, genders)))"
   ]
  },
  {
   "cell_type": "markdown",
   "metadata": {
    "colab_type": "text",
    "id": "YYBdCuUKo6qc"
   },
   "source": [
    "> **Your turn:** Given a list of different letters and another list of names starting with these letters (but not necessarily in the same order), create a dictionary of the form {letter: name}. One line is all you need for that..."
   ]
  },
  {
   "cell_type": "code",
   "execution_count": 0,
   "metadata": {
    "colab": {},
    "colab_type": "code",
    "id": "VagwSI69G28g"
   },
   "outputs": [],
   "source": [
    "letters = ['p', 'y', 't', 'h', 'o', 'n']\n",
    "names = ['nimrod', 'harel', 'peter', 'yael', 'tal', 'orit']"
   ]
  },
  {
   "cell_type": "markdown",
   "metadata": {
    "colab_type": "text",
    "id": "bRhBoqoDnp9I"
   },
   "source": [
    "# More built-in functions"
   ]
  },
  {
   "cell_type": "markdown",
   "metadata": {
    "colab_type": "text",
    "id": "9doq0-lVT5yQ"
   },
   "source": [
    "## `all(iterable)` and `any(iterable)`"
   ]
  },
  {
   "cell_type": "markdown",
   "metadata": {
    "colab_type": "text",
    "id": "U46MS27qT5yP"
   },
   "source": [
    "The function [_all(iterable)_][all] returns _True_ if all the elements of _iterable_ are _True_, and the function [_any(iterable)_][any] returns _True_ if any of the elements of _iterable_ are _True_.\n",
    "\n",
    "\n",
    "[all]: https://docs.python.org/2/library/functions.html#all \"all() documentation\"\n",
    "[any]: https://docs.python.org/2/library/functions.html#any \"any() documentation\""
   ]
  },
  {
   "cell_type": "code",
   "execution_count": 0,
   "metadata": {
    "colab": {},
    "colab_type": "code",
    "id": "dZQjEK34T5yJ"
   },
   "outputs": [],
   "source": [
    "students = {'Andy': ('m', 51), 'Brad': ('m', 34), 'Craig': ('m', 25), 'Dan': ('m', 36),\n",
    "            'Elaine': ('f', 36), 'Fiona': ('f', 36), 'George': ('m', 41), 'Herbert': ('m', 23),\n",
    "            'Isabel': ('f', 27), 'Jerry': ('m', 19), 'Kramer': ('m', 42), 'Lena': ('f', 22)}\n",
    "ages = [age for (sex, age) in students.values()]"
   ]
  },
  {
   "cell_type": "code",
   "execution_count": 0,
   "metadata": {
    "colab": {
     "base_uri": "https://localhost:8080/",
     "height": 50
    },
    "colab_type": "code",
    "executionInfo": {
     "elapsed": 664,
     "status": "ok",
     "timestamp": 1555316535039,
     "user": {
      "displayName": "Amit Rappel",
      "photoUrl": "https://lh5.googleusercontent.com/-Stg14jONmNc/AAAAAAAAAAI/AAAAAAAAAos/0hU6Y5dO8yk/s64/photo.jpg",
      "userId": "16505003500853190417"
     },
     "user_tz": -180
    },
    "id": "VjBpzhSXT5yF",
    "outputId": "0f178e43-aa5c-4b17-80b7-0528e1ee3d99"
   },
   "outputs": [
    {
     "name": "stdout",
     "output_type": "stream",
     "text": [
      "True\n",
      "False\n"
     ]
    }
   ],
   "source": [
    "print(all([age >= 18 for age in ages]))\n",
    "print(all([age >= 30 for age in ages]))"
   ]
  },
  {
   "cell_type": "code",
   "execution_count": 0,
   "metadata": {
    "colab": {
     "base_uri": "https://localhost:8080/",
     "height": 50
    },
    "colab_type": "code",
    "executionInfo": {
     "elapsed": 770,
     "status": "ok",
     "timestamp": 1555316537388,
     "user": {
      "displayName": "Amit Rappel",
      "photoUrl": "https://lh5.googleusercontent.com/-Stg14jONmNc/AAAAAAAAAAI/AAAAAAAAAos/0hU6Y5dO8yk/s64/photo.jpg",
      "userId": "16505003500853190417"
     },
     "user_tz": -180
    },
    "id": "npbfwPhlT5yB",
    "outputId": "1a61d56a-e10e-42e0-8932-bf54247853b0"
   },
   "outputs": [
    {
     "name": "stdout",
     "output_type": "stream",
     "text": [
      "True\n",
      "False\n"
     ]
    }
   ],
   "source": [
    "print(any([age >= 50 for age in ages]))\n",
    "print(any([age >= 60 for age in ages]))"
   ]
  },
  {
   "cell_type": "markdown",
   "metadata": {
    "colab_type": "text",
    "id": "5hUy_BwPT5x9"
   },
   "source": [
    "## `enumerate(iterable, start)`"
   ]
  },
  {
   "cell_type": "markdown",
   "metadata": {
    "colab_type": "text",
    "id": "_2PkIlW1T5x9"
   },
   "source": [
    "The function [`enumerate(iterable, start)`][enumerate] generates a list of tuples of the form `(i, element)`, where `i` is the index of the element `element` within `iterable`, starting to count from `start`, which equals 0 by default.\n",
    "\n",
    "the following two scripts demonstrate the (minor) advantage of using `enumerate()`.\n",
    "\n",
    "[enumerate]: https://docs.python.org/3.7/library/functions.html#enumerate \"enumerate() documentation\""
   ]
  },
  {
   "cell_type": "code",
   "execution_count": 3,
   "metadata": {
    "colab": {},
    "colab_type": "code",
    "id": "5QpKxm99T5x6"
   },
   "outputs": [],
   "source": [
    "students = {'Andy': ('m', 51), 'Brad': ('m', 34), 'Craig': ('m', 25), 'Dan': ('m', 36),\n",
    "            'Elaine': ('f', 36), 'Fiona': ('f', 36), 'George': ('m', 41), 'Herbert': ('m', 23),\n",
    "            'Isabel': ('f', 27), 'Jerry': ('m', 19), 'Kramer': ('m', 42), 'Lena': ('f', 22)}"
   ]
  },
  {
   "cell_type": "code",
   "execution_count": 4,
   "metadata": {
    "colab": {
     "base_uri": "https://localhost:8080/",
     "height": 218
    },
    "colab_type": "code",
    "executionInfo": {
     "elapsed": 650,
     "status": "ok",
     "timestamp": 1555316585189,
     "user": {
      "displayName": "Amit Rappel",
      "photoUrl": "https://lh5.googleusercontent.com/-Stg14jONmNc/AAAAAAAAAAI/AAAAAAAAAos/0hU6Y5dO8yk/s64/photo.jpg",
      "userId": "16505003500853190417"
     },
     "user_tz": -180
    },
    "id": "4-U60WG6T5xw",
    "outputId": "60a9fe62-bc9b-4e2a-9905-688b60a8cb0f"
   },
   "outputs": [
    {
     "name": "stdout",
     "output_type": "stream",
     "text": [
      " 1: Andy    is a 51-year old male\n",
      " 2: Brad    is a 34-year old male\n",
      " 3: Craig   is a 25-year old male\n",
      " 4: Dan     is a 36-year old male\n",
      " 5: Elaine  is a 36-year old female\n",
      " 6: Fiona   is a 36-year old female\n",
      " 7: George  is a 41-year old male\n",
      " 8: Herbert is a 23-year old male\n",
      " 9: Isabel  is a 27-year old female\n",
      "10: Jerry   is a 19-year old male\n",
      "11: Kramer  is a 42-year old male\n",
      "12: Lena    is a 22-year old female\n"
     ]
    }
   ],
   "source": [
    "for counter, (name, (gen, age)) in enumerate(students.items(), 1):\n",
    "    gender = 'male' if gen == 'm' else 'female'\n",
    "    print(\"{:2}: {:7} is a {}-year old {}\".format(counter, name, age, gender))"
   ]
  },
  {
   "cell_type": "markdown",
   "metadata": {
    "colab_type": "text",
    "id": "3NCGqnaiT5xv"
   },
   "source": [
    "It is adventagous to use _enumerate()_ when you have something to do with the index of the item, e.g. call another object."
   ]
  },
  {
   "cell_type": "markdown",
   "metadata": {},
   "source": [
    "## The reduce function\n",
    "The reduce function is a controversial function, it is fairly common in functional programming - yet fowned upon in python:\n",
    "\n",
    "    reduce (function, iterable, initial value)"
   ]
  },
  {
   "cell_type": "code",
   "execution_count": 5,
   "metadata": {},
   "outputs": [],
   "source": [
    "from functools import reduce"
   ]
  },
  {
   "cell_type": "markdown",
   "metadata": {},
   "source": [
    "We can sum the student grades like this:"
   ]
  },
  {
   "cell_type": "code",
   "execution_count": 9,
   "metadata": {},
   "outputs": [
    {
     "data": {
      "text/plain": [
       "392"
      ]
     },
     "execution_count": 9,
     "metadata": {},
     "output_type": "execute_result"
    }
   ],
   "source": [
    "reduce(lambda cum, val: cum+val[1],students.values(),0)"
   ]
  },
  {
   "cell_type": "markdown",
   "metadata": {},
   "source": [
    "Or alternatively"
   ]
  },
  {
   "cell_type": "code",
   "execution_count": 11,
   "metadata": {},
   "outputs": [
    {
     "data": {
      "text/plain": [
       "392"
      ]
     },
     "execution_count": 11,
     "metadata": {},
     "output_type": "execute_result"
    }
   ],
   "source": [
    "sum([val[1] for val in students.values()])"
   ]
  },
  {
   "cell_type": "markdown",
   "metadata": {},
   "source": [
    "## Exercise: Harmonic mean\n",
    "implement the harmonic mean with `reduce`\n",
    "\n",
    "$$harmonic(\\{x_1,\\dots,x_n\\})=\\frac{n}{\\frac{1}{x_1}+\\dots+\\frac{1}{x_n}}$$"
   ]
  },
  {
   "cell_type": "code",
   "execution_count": null,
   "metadata": {},
   "outputs": [],
   "source": []
  }
 ],
 "metadata": {
  "colab": {
   "name": "functions_notebook.ipynb",
   "provenance": []
  },
  "kernelspec": {
   "display_name": "Python 3",
   "language": "python",
   "name": "python3"
  },
  "language_info": {
   "codemirror_mode": {
    "name": "ipython",
    "version": 3
   },
   "file_extension": ".py",
   "mimetype": "text/x-python",
   "name": "python",
   "nbconvert_exporter": "python",
   "pygments_lexer": "ipython3",
   "version": "3.8.5"
  }
 },
 "nbformat": 4,
 "nbformat_minor": 1
}
