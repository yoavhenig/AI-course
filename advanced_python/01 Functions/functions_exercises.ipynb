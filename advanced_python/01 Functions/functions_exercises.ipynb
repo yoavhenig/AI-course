{
 "cells": [
  {
   "cell_type": "markdown",
   "metadata": {
    "colab_type": "text",
    "id": "MXqa2dfOiC5s"
   },
   "source": [
    "# Basics"
   ]
  },
  {
   "cell_type": "markdown",
   "metadata": {
    "colab_type": "text",
    "id": "SJRkBashRK-B"
   },
   "source": [
    "## Exercise 1"
   ]
  },
  {
   "cell_type": "markdown",
   "metadata": {
    "colab_type": "text",
    "id": "cd8PeXe_RQtV"
   },
   "source": [
    "Write a function called `calc_box_surface_and_volume(a, b, c)`, that gets the three edges of a box (`a`, `b` & `c`), and returns the surface area of teh box (given by $S=2\\times(ab+bc+ac)$) and the volume of the box (given by $V=a \\times b \\times c$).\n"
   ]
  },
  {
   "cell_type": "markdown",
   "metadata": {
    "colab_type": "text",
    "id": "lwwMX_wiTlqq"
   },
   "source": [
    "### Solution 1"
   ]
  },
  {
   "cell_type": "code",
   "execution_count": 0,
   "metadata": {
    "colab": {},
    "colab_type": "code",
    "id": "7PmrzTKKOQQl"
   },
   "outputs": [],
   "source": [
    "def box_volume(a, b, c):\n",
    "    volume = a * b * c\n",
    "    surface = 2 * (a * b + a * c + b * c)\n",
    "    return volume, surface"
   ]
  },
  {
   "cell_type": "markdown",
   "metadata": {
    "colab_type": "text",
    "id": "kR29rdwKRQrD"
   },
   "source": [
    "## Exercise 2"
   ]
  },
  {
   "cell_type": "markdown",
   "metadata": {
    "colab_type": "text",
    "id": "4sKaBGBsSKrN"
   },
   "source": [
    "Write a function called `is_common(s1, s2)`, that gets two strings `s1` and `s2` and returns whether `s1` and `s2` have a common letter or not."
   ]
  },
  {
   "cell_type": "markdown",
   "metadata": {
    "colab_type": "text",
    "id": "7HCtAJZdOYQs"
   },
   "source": [
    "### Solution 1"
   ]
  },
  {
   "cell_type": "code",
   "execution_count": 0,
   "metadata": {
    "colab": {},
    "colab_type": "code",
    "id": "SfIOjLtfOZpW"
   },
   "outputs": [],
   "source": [
    "def is_common(word1, word2):\n",
    "    for letter in word1:\n",
    "        if letter in word2:\n",
    "            return True\n",
    "    return False"
   ]
  },
  {
   "cell_type": "markdown",
   "metadata": {
    "colab_type": "text",
    "id": "FwamhZOQOaoz"
   },
   "source": [
    "### Solution 2"
   ]
  },
  {
   "cell_type": "code",
   "execution_count": 0,
   "metadata": {
    "colab": {},
    "colab_type": "code",
    "id": "O5EX5i_OOb3v"
   },
   "outputs": [],
   "source": [
    "def is_common(word1, word2):\n",
    "    return any([letter in word2 for letter in word1])"
   ]
  },
  {
   "cell_type": "markdown",
   "metadata": {
    "colab_type": "text",
    "id": "yEecwrEpRQmr"
   },
   "source": [
    "## Exercise 3"
   ]
  },
  {
   "cell_type": "markdown",
   "metadata": {
    "colab_type": "text",
    "id": "ZzSic0-KRQTI"
   },
   "source": [
    "1.\tWrite a function that gets a string and returns a reversed string.\n",
    "2.\tUse the previous function and write a function that gets a string and returns True if the string is a palindrome and False otherwise.\n",
    "3.\tWrite a code that asks the user to enter a word, and then prints whether the word is a [palindrome](https://en.wikipedia.org/wiki/Palindrome) or not.\n"
   ]
  },
  {
   "cell_type": "markdown",
   "metadata": {
    "colab_type": "text",
    "id": "1XY_Am0aOp7c"
   },
   "source": [
    "### Part 1"
   ]
  },
  {
   "cell_type": "code",
   "execution_count": 0,
   "metadata": {
    "colab": {},
    "colab_type": "code",
    "id": "Ohsg210mOnRT"
   },
   "outputs": [],
   "source": [
    "def rev_string(word):\n",
    "    rev_word = ''\n",
    "    for i in range(len(word)):\n",
    "        rev_word = word[i] + rev_word\n",
    "    return rev_word"
   ]
  },
  {
   "cell_type": "markdown",
   "metadata": {
    "colab_type": "text",
    "id": "sN1ZqxtCOrqh"
   },
   "source": [
    "### Part 2"
   ]
  },
  {
   "cell_type": "code",
   "execution_count": 0,
   "metadata": {
    "colab": {},
    "colab_type": "code",
    "id": "8lQNBu9UOuPE"
   },
   "outputs": [],
   "source": [
    "def is_palindrome(word):\n",
    "    return word == rev_string(word)"
   ]
  },
  {
   "cell_type": "markdown",
   "metadata": {
    "colab_type": "text",
    "id": "fEx6r6ELOxmz"
   },
   "source": [
    "### Part 3"
   ]
  },
  {
   "cell_type": "code",
   "execution_count": 0,
   "metadata": {
    "colab": {
     "base_uri": "https://localhost:8080/",
     "height": 67
    },
    "colab_type": "code",
    "executionInfo": {
     "elapsed": 5542,
     "status": "ok",
     "timestamp": 1555319093325,
     "user": {
      "displayName": "Amit Rappel",
      "photoUrl": "https://lh5.googleusercontent.com/-Stg14jONmNc/AAAAAAAAAAI/AAAAAAAAAos/0hU6Y5dO8yk/s64/photo.jpg",
      "userId": "16505003500853190417"
     },
     "user_tz": -180
    },
    "id": "j7qwxVKLO1qk",
    "outputId": "b7e50def-2e3b-4184-84b4-55d7fe9abb79"
   },
   "outputs": [
    {
     "name": "stdout",
     "output_type": "stream",
     "text": [
      "Please enter a word...\n",
      "abba\n",
      "Your word is a palindrome\n"
     ]
    }
   ],
   "source": [
    "word = input('Please enter a word...\\n')\n",
    "filler = '' if is_palindrome(word) else 'not '\n",
    "print(f\"Your word is {filler}a palindrome\")"
   ]
  },
  {
   "cell_type": "markdown",
   "metadata": {
    "colab_type": "text",
    "id": "j_9-tgGuStcF"
   },
   "source": [
    "## Exercise 4"
   ]
  },
  {
   "cell_type": "markdown",
   "metadata": {
    "colab_type": "text",
    "id": "32ZMd56MStX-"
   },
   "source": [
    "Write a function that receives an integer `n` and returns the number of primes up to `n`."
   ]
  },
  {
   "cell_type": "markdown",
   "metadata": {
    "colab_type": "text",
    "id": "hzy41Jg9QSij"
   },
   "source": [
    "### Solution 1"
   ]
  },
  {
   "cell_type": "code",
   "execution_count": 0,
   "metadata": {
    "colab": {},
    "colab_type": "code",
    "id": "DASpUNHNPqsg"
   },
   "outputs": [],
   "source": [
    "def is_prime(n):\n",
    "    if n==1:\n",
    "        return False\n",
    "    for d in range(2, int(n**0.5)+1):\n",
    "        if n%d==0:\n",
    "            return False\n",
    "    return True"
   ]
  },
  {
   "cell_type": "code",
   "execution_count": 0,
   "metadata": {
    "colab": {},
    "colab_type": "code",
    "id": "3ZmMTxfVP6Ua"
   },
   "outputs": [],
   "source": [
    "def count_primes(n):\n",
    "    return sum(map(is_prime, range(1, n+1)))"
   ]
  },
  {
   "cell_type": "markdown",
   "metadata": {
    "colab_type": "text",
    "id": "TggPHoadQnps"
   },
   "source": [
    "### Solution 2"
   ]
  },
  {
   "cell_type": "code",
   "execution_count": 0,
   "metadata": {
    "colab": {},
    "colab_type": "code",
    "id": "LhuDvTYWQpqx"
   },
   "outputs": [],
   "source": [
    "def count_primes(n):\n",
    "    return len([i for i in range(1, n+1) if is_prime(i)])"
   ]
  },
  {
   "cell_type": "markdown",
   "metadata": {
    "colab_type": "text",
    "id": "jTh5PZxTRKE2"
   },
   "source": [
    "# Arguments"
   ]
  },
  {
   "cell_type": "markdown",
   "metadata": {
    "colab_type": "text",
    "id": "B-jX8k2ZRN2t"
   },
   "source": [
    "## Exercise 1"
   ]
  },
  {
   "cell_type": "markdown",
   "metadata": {
    "colab_type": "text",
    "id": "5ON8ZeVcTr2a"
   },
   "source": [
    "Write a function called `analyze_class(results, fail=65, excel=95)` which accepts a dictionary `results` of the form `{student: grade}` and returns three lists of names for failed students, excel students and others."
   ]
  },
  {
   "cell_type": "code",
   "execution_count": 0,
   "metadata": {
    "colab": {},
    "colab_type": "code",
    "id": "A_W-iSjDRPMF"
   },
   "outputs": [],
   "source": [
    "students = {'Avi', 'Ben', 'Carla', 'Debby', 'Eric', 'Fuller', 'Graham', 'Harley', 'Ivona', 'Jenny'}\n",
    "grades = {58, 87, 45, 88, 97, 68, 92, 86, 73, 99}\n",
    "\n",
    "results = dict(zip(students, grades))"
   ]
  },
  {
   "cell_type": "markdown",
   "metadata": {
    "colab_type": "text",
    "id": "C8Evn5leV4vc"
   },
   "source": [
    "### Solution 1"
   ]
  },
  {
   "cell_type": "code",
   "execution_count": 0,
   "metadata": {
    "colab": {},
    "colab_type": "code",
    "id": "H6pTBou1RMXk"
   },
   "outputs": [],
   "source": [
    "def analyze_class(results, fail=65, excel=95):\n",
    "    failed, passed, exceled = [], [], []\n",
    "    for student, grade in results.items():\n",
    "        if grade < 65:\n",
    "            failed.append(student)\n",
    "        elif grade <= 95:\n",
    "            passed.append(student)\n",
    "        else:\n",
    "            exceled.append(student)\n",
    "    return failed, passed, exceled"
   ]
  },
  {
   "cell_type": "markdown",
   "metadata": {
    "colab_type": "text",
    "id": "Yh89obtXiC8C"
   },
   "source": [
    "# Built-in functions"
   ]
  },
  {
   "cell_type": "markdown",
   "metadata": {
    "colab_type": "text",
    "id": "ROTDDJ79U6Tm"
   },
   "source": [
    "## Exercise 1 (map)"
   ]
  },
  {
   "cell_type": "markdown",
   "metadata": {
    "colab_type": "text",
    "id": "zvlsxswhU6PX"
   },
   "source": [
    "In each round of the game Rock-Paper-Scissors each player chooses randomly a weapon, either Rock (‘R’), Paper (‘P’) or Scissors (‘S’), and the winner is based on the chosen weapon; ‘R’ smashes ‘S’, ‘S’ tear ‘P’, and ‘P’ wraps ‘S’.\n",
    "1.\tWrite a function that receives the choices of two players and returns the winner (1 or 2, and 0 for a tie)\n",
    "2.\tGenerate manually a list of tuples for simulating the results of 10 rounds (e.g. [(‘R’, ‘S’), (‘P’, ‘S’), …], and use map() to derive a list of the winners in those 10 rounds."
   ]
  },
  {
   "cell_type": "markdown",
   "metadata": {
    "colab_type": "text",
    "id": "sqBuuWIka4oq"
   },
   "source": [
    "### Solution 1"
   ]
  },
  {
   "cell_type": "code",
   "execution_count": 0,
   "metadata": {
    "colab": {},
    "colab_type": "code",
    "id": "QSEB5zL6a6Ka"
   },
   "outputs": [],
   "source": [
    "# Part 1\n",
    "def RPS_winner(weapon1, weapon2):\n",
    "    if weapon1 == weapon2:\n",
    "        return 0\n",
    "    elif (weapon1, weapon2) in [('R', 'S'), ('S', 'P'), ('P', 'R')]:\n",
    "        return 1\n",
    "    else:\n",
    "        return 2"
   ]
  },
  {
   "cell_type": "code",
   "execution_count": 0,
   "metadata": {
    "colab": {},
    "colab_type": "code",
    "id": "4n9SexmzKdEl"
   },
   "outputs": [],
   "source": [
    "# Part 2\n",
    "rounds = [('R', 'S'), ('S', 'R'), ('S', 'R'), ('R', 'P'), ('S', 'S'),\n",
    "          ('P', 'S'), ('P', 'S'), ('S', 'P'), ('R', 'R'), ('R', 'S')]\n",
    "\n",
    "player1, player2 = list(zip(*rounds))\n",
    "\n",
    "winners = list(map(RPS_winner, player1, player2))"
   ]
  },
  {
   "cell_type": "markdown",
   "metadata": {
    "colab_type": "text",
    "id": "jLeDlCKdVfjN"
   },
   "source": [
    "## Exercise 2 (sorted)"
   ]
  },
  {
   "cell_type": "markdown",
   "metadata": {
    "colab_type": "text",
    "id": "d1Z-GXp3VhS5"
   },
   "source": [
    "The dictionary below contains some information about several cities in the world. The data is a list containing the population, and then a tuple with geographical N-coordinate and E-coordinate (for this exercise consider the world as flat)"
   ]
  },
  {
   "cell_type": "code",
   "execution_count": 1,
   "metadata": {
    "colab": {},
    "colab_type": "code",
    "id": "X2VmJ4ViVkIs"
   },
   "outputs": [],
   "source": [
    "locations = {'Europe':{'Spain': {'Madrid': [3165000, ((40, 23), (-3, -43))],\n",
    "                                 'Barcelona': [1602000, ((41, 23), (2, 11))]},\n",
    "                       'France': {'Paris': [2244000, ((48, 51), (2, 21))],\n",
    "                                  'Lyon': [485000, ((45, 46), (4, 50))]}},\n",
    "             'Asia':{'Japan': {'Tokyo': [13350000, ((35, 41), (139, 41))],\n",
    "                               'Hiroshima': [1174000, ((34, 23), (132, 27))]},\n",
    "                     'China': {'Beijing': [11510000, ((39, 55), (116, 23))],\n",
    "                               'Shanghai': [14350000, ((31, 12), (121, 30))]}}}"
   ]
  },
  {
   "cell_type": "markdown",
   "metadata": {
    "colab_type": "text",
    "id": "2ruwJ3BrU6Yj"
   },
   "source": [
    " * Part 1 - Iterate the dictionary to create a list containing all the inner-most items of the dictionary. \n",
    "    * For reference, an exemplary element of the list is `('Madrid', [3165000, ((40, 23), (-3, -43))])`\n",
    "\n",
    "* Part 2 - Sort the list items by the following criterions:\n",
    "    * By name (alphabetically)\n",
    "    * By population\n",
    "    * From south to north\n",
    "    * From north to south\n",
    "    * From east to west\n",
    "\n",
    "* Part 3 - Jerusalem is located at ((31, 47), (35, 13)). Sort the cities by their distance from Jerusalem.\n"
   ]
  },
  {
   "cell_type": "markdown",
   "metadata": {
    "colab_type": "text",
    "id": "wnpRnZMXZ6Db"
   },
   "source": [
    "### Solution 1"
   ]
  },
  {
   "cell_type": "code",
   "execution_count": 3,
   "metadata": {
    "colab": {},
    "colab_type": "code",
    "id": "E-DA92FXZ7ld"
   },
   "outputs": [
    {
     "name": "stdout",
     "output_type": "stream",
     "text": [
      "('Madrid', [3165000, ((40, 23), (-3, -43))])\n"
     ]
    }
   ],
   "source": [
    "# Part 1\n",
    "cities = []\n",
    "for continent, continent_dict in list(locations.items()):\n",
    "    for country, country_dict in list(continent_dict.items()):\n",
    "        for city, data in list(country_dict.items()):\n",
    "            cities.append((city, data))\n",
    "print(cities[0])"
   ]
  },
  {
   "cell_type": "code",
   "execution_count": 0,
   "metadata": {
    "colab": {},
    "colab_type": "code",
    "id": "WK9fQIL1aMbD"
   },
   "outputs": [],
   "source": [
    "# Part 2\n",
    "cities_by_name = sorted(cities, key=lambda x: x[0])\n",
    "cities_by_population = sorted(cities, key=lambda x: x[1][0])\n",
    "cities_south2north = sorted(cities, key=lambda x: x[1][1][0])\n",
    "cities_north2south = sorted(cities, key=lambda x: x[1][1][0], reverse=True)\n",
    "cities_west2east = sorted(cities, key=lambda x: x[1][1][1])"
   ]
  },
  {
   "cell_type": "code",
   "execution_count": 0,
   "metadata": {
    "colab": {},
    "colab_type": "code",
    "id": "N3OIGjJUajTq"
   },
   "outputs": [],
   "source": [
    "# Part 3\n",
    "jerusalem_loc = ((31, 47), (35, 13))\n",
    "\n",
    "def dist_from_jer(city):\n",
    "    return ((city[1][1][0][0]-jerusalem_loc[0][0]) ** 2 + \n",
    "            (city[1][1][1][0]-jerusalem_loc[1][0]) ** 2) ** 0.5\n",
    "\n",
    "cities_by_distance = sorted(cities, key=dist_from_jer)"
   ]
  },
  {
   "cell_type": "markdown",
   "metadata": {
    "colab_type": "text",
    "id": "wU4854MAVDVg"
   },
   "source": [
    "## Exercise 3 (zip)"
   ]
  },
  {
   "cell_type": "markdown",
   "metadata": {
    "colab_type": "text",
    "id": "he1igPJsVHqr"
   },
   "source": [
    "The three lists below describe the details of 10 customers, and the same index in each list refers to the same customer (for example Zed is from TLV and is 26 years old)."
   ]
  },
  {
   "cell_type": "code",
   "execution_count": 0,
   "metadata": {
    "colab": {},
    "colab_type": "code",
    "id": "Ci9wo2v4VNNV"
   },
   "outputs": [],
   "source": [
    "names = ['Vik', 'Zed', 'Hen', 'Tal', 'Yam',\n",
    "         'Avi', 'Ben', 'Gad', 'Dan', 'Hed']\n",
    "\n",
    "cities = ['TLV', 'TLV', 'JER', 'TLV', 'HAI',\n",
    "          'JER', 'JER', 'TLV', 'JER', 'HAI']\n",
    "\n",
    "ages = [28, 26, 26, 31, 28, 23, 29, 31, 27, 41]"
   ]
  },
  {
   "cell_type": "markdown",
   "metadata": {
    "colab_type": "text",
    "id": "WBo2i7YVVREA"
   },
   "source": [
    "* Part 1 - Create a list with the names of the customers from Jerusalem\n",
    "* Part 2 - Create a list with the ages of the people from Haifa\n",
    "* Part 3 - Create a list with the names of the customers below 30"
   ]
  },
  {
   "cell_type": "markdown",
   "metadata": {
    "colab_type": "text",
    "id": "FcznK5B5YhkM"
   },
   "source": [
    "### Solution 1"
   ]
  },
  {
   "cell_type": "code",
   "execution_count": 0,
   "metadata": {
    "colab": {},
    "colab_type": "code",
    "id": "mrsDyjO-Yg2V"
   },
   "outputs": [],
   "source": [
    "part1 = [name for name, city in zip(names, cities) if city=='JER']\n",
    "part1"
   ]
  },
  {
   "cell_type": "code",
   "execution_count": 0,
   "metadata": {
    "colab": {},
    "colab_type": "code",
    "id": "bhVYOpTgY7P3"
   },
   "outputs": [],
   "source": [
    "part2 = [age for age, city in zip(ages, cities) if city=='HAI']\n",
    "part2"
   ]
  },
  {
   "cell_type": "code",
   "execution_count": 0,
   "metadata": {
    "colab": {},
    "colab_type": "code",
    "id": "Fz2tHEjYZBfm"
   },
   "outputs": [],
   "source": [
    "part3 = [name for name, age in zip(names, ages) if age<30]\n",
    "part3"
   ]
  },
  {
   "cell_type": "markdown",
   "metadata": {
    "colab_type": "text",
    "id": "YlxVp4TN0nC8"
   },
   "source": [
    "# More exercises"
   ]
  },
  {
   "cell_type": "markdown",
   "metadata": {
    "colab_type": "text",
    "id": "Rl27sAPn0xDP"
   },
   "source": [
    "## Exercise 1"
   ]
  },
  {
   "cell_type": "markdown",
   "metadata": {
    "colab_type": "text",
    "id": "Zq0q5-ZNBQ1z"
   },
   "source": [
    "* Part 1 - Write a Boolean function to test the divisibility of a number by 9.\n",
    "* Part 2 - Write a Boolean function to test the divisibility of a number by 9."
   ]
  },
  {
   "cell_type": "markdown",
   "metadata": {
    "colab_type": "text",
    "id": "02m-lLU_1bbB"
   },
   "source": [
    "> **Reference:** [Divisibility rules by Math Is Fun](https://www.mathsisfun.com/divisibility-rules.html)"
   ]
  },
  {
   "cell_type": "markdown",
   "metadata": {
    "colab_type": "text",
    "id": "SxR5z06b1BmE"
   },
   "source": [
    "### Solution"
   ]
  },
  {
   "cell_type": "code",
   "execution_count": 0,
   "metadata": {
    "colab": {},
    "colab_type": "code",
    "id": "djmw5bc6zZ0p"
   },
   "outputs": [],
   "source": [
    "def is_divisible_by_9(n):\n",
    "    digits = [int(d) for d in str(n)]\n",
    "    return sum(digits) % 9 == 0"
   ]
  },
  {
   "cell_type": "code",
   "execution_count": 0,
   "metadata": {
    "colab": {
     "base_uri": "https://localhost:8080/",
     "height": 34
    },
    "colab_type": "code",
    "executionInfo": {
     "elapsed": 781,
     "status": "ok",
     "timestamp": 1582641919295,
     "user": {
      "displayName": "Amit Rappel",
      "photoUrl": "https://lh3.googleusercontent.com/a-/AAuE7mCpe5u5WeIPUl8KIs0q9y-EzHhNpEOmf41uRn8SmQ=s64",
      "userId": "16505003500853190417"
     },
     "user_tz": -120
    },
    "id": "ZNnfuMl7zv_9",
    "outputId": "6ebd8c8b-2677-4592-d8bf-77866dc74918"
   },
   "outputs": [
    {
     "data": {
      "text/plain": [
       "True"
      ]
     },
     "execution_count": 3,
     "metadata": {
      "tags": []
     },
     "output_type": "execute_result"
    }
   ],
   "source": [
    "is_divisible_by_9(45)"
   ]
  },
  {
   "cell_type": "code",
   "execution_count": 0,
   "metadata": {
    "colab": {},
    "colab_type": "code",
    "id": "hq0ImYoo0CKa"
   },
   "outputs": [],
   "source": [
    "def is_divisible_by_11(n):\n",
    "    digits = [int(d)*(-1)**i for i, d in enumerate(str(n))]\n",
    "    return sum(digits) % 11 == 0"
   ]
  },
  {
   "cell_type": "code",
   "execution_count": 0,
   "metadata": {
    "colab": {
     "base_uri": "https://localhost:8080/",
     "height": 34
    },
    "colab_type": "code",
    "executionInfo": {
     "elapsed": 778,
     "status": "ok",
     "timestamp": 1582642051396,
     "user": {
      "displayName": "Amit Rappel",
      "photoUrl": "https://lh3.googleusercontent.com/a-/AAuE7mCpe5u5WeIPUl8KIs0q9y-EzHhNpEOmf41uRn8SmQ=s64",
      "userId": "16505003500853190417"
     },
     "user_tz": -120
    },
    "id": "p942h6TF0PnH",
    "outputId": "23f4749f-db33-4f2d-d891-077cec1b1bd7"
   },
   "outputs": [
    {
     "data": {
      "text/plain": [
       "True"
      ]
     },
     "execution_count": 7,
     "metadata": {
      "tags": []
     },
     "output_type": "execute_result"
    }
   ],
   "source": [
    "is_divisible_by_11(121)"
   ]
  },
  {
   "cell_type": "markdown",
   "metadata": {
    "colab_type": "text",
    "id": "QxZcTo6jFcen"
   },
   "source": [
    "## Exercise 2"
   ]
  },
  {
   "cell_type": "markdown",
   "metadata": {
    "colab_type": "text",
    "id": "Jg95ZKOTG3Cf"
   },
   "source": [
    "Given a dictionary of the form `{name: age}`, create a list of the names sorted by their age."
   ]
  },
  {
   "cell_type": "code",
   "execution_count": 0,
   "metadata": {
    "colab": {},
    "colab_type": "code",
    "id": "DX73ZaqBFtPf"
   },
   "outputs": [],
   "source": [
    "d = {'Avi': 12, 'Ben': 21, 'Gad': 34, 'Dan': 21, 'Efi': 18}"
   ]
  },
  {
   "cell_type": "markdown",
   "metadata": {
    "colab_type": "text",
    "id": "Qaq8U4RGFl6t"
   },
   "source": [
    "### Solution"
   ]
  },
  {
   "cell_type": "code",
   "execution_count": 0,
   "metadata": {
    "colab": {
     "base_uri": "https://localhost:8080/",
     "height": 34
    },
    "colab_type": "code",
    "executionInfo": {
     "elapsed": 391,
     "status": "ok",
     "timestamp": 1582646625569,
     "user": {
      "displayName": "Amit Rappel",
      "photoUrl": "https://lh3.googleusercontent.com/a-/AAuE7mCpe5u5WeIPUl8KIs0q9y-EzHhNpEOmf41uRn8SmQ=s64",
      "userId": "16505003500853190417"
     },
     "user_tz": -120
    },
    "id": "6EMgaTSKE60x",
    "outputId": "36833585-2e89-483e-c841-6f77005916b3"
   },
   "outputs": [
    {
     "name": "stdout",
     "output_type": "stream",
     "text": [
      "['Avi', 'Efi', 'Ben', 'Dan', 'Gad']\n"
     ]
    }
   ],
   "source": [
    "print(sorted(d, key=lambda x: d[x]))"
   ]
  },
  {
   "cell_type": "markdown",
   "metadata": {
    "colab_type": "text",
    "id": "lOZu9yWBHxla"
   },
   "source": [
    "## Exercise 3"
   ]
  },
  {
   "cell_type": "markdown",
   "metadata": {
    "colab_type": "text",
    "id": "4FlgZwgQF2gH"
   },
   "source": [
    "Write a function which applies the [`replace(old, new)`](https://docs.python.org/3/library/stdtypes.html#str.replace) functionality where `old` and `new` are iterables."
   ]
  },
  {
   "cell_type": "markdown",
   "metadata": {
    "colab_type": "text",
    "id": "6gjaBXXFIzBw"
   },
   "source": [
    "### Solution"
   ]
  },
  {
   "cell_type": "code",
   "execution_count": 0,
   "metadata": {
    "colab": {},
    "colab_type": "code",
    "id": "0I1r2OxGF3QS"
   },
   "outputs": [],
   "source": [
    "def replace_many(s, olds, news):\n",
    "    for old, new in zip(olds, news):\n",
    "        s = s.replace(old, new)\n",
    "    return s"
   ]
  },
  {
   "cell_type": "code",
   "execution_count": 0,
   "metadata": {
    "colab": {
     "base_uri": "https://localhost:8080/",
     "height": 34
    },
    "colab_type": "code",
    "executionInfo": {
     "elapsed": 470,
     "status": "ok",
     "timestamp": 1582647432041,
     "user": {
      "displayName": "Amit Rappel",
      "photoUrl": "https://lh3.googleusercontent.com/a-/AAuE7mCpe5u5WeIPUl8KIs0q9y-EzHhNpEOmf41uRn8SmQ=s64",
      "userId": "16505003500853190417"
     },
     "user_tz": -120
    },
    "id": "bHYAup2oHAkm",
    "outputId": "4d2e6f64-a593-437e-d82c-7118649515a7"
   },
   "outputs": [
    {
     "name": "stdout",
     "output_type": "stream",
     "text": [
      "ABCDEFGHIJKLMNOPQRSTUVWXYZ\n"
     ]
    }
   ],
   "source": [
    "s = 'ABCD%FG&IJKLMNO#QRST*VWXY.'\n",
    "print(replace_many(s, '%&#*.', 'EHPUZ'))"
   ]
  }
 ],
 "metadata": {
  "colab": {
   "collapsed_sections": [
    "SJRkBashRK-B",
    "lwwMX_wiTlqq",
    "kR29rdwKRQrD",
    "7HCtAJZdOYQs",
    "FwamhZOQOaoz",
    "yEecwrEpRQmr",
    "1XY_Am0aOp7c",
    "sN1ZqxtCOrqh",
    "fEx6r6ELOxmz",
    "j_9-tgGuStcF",
    "hzy41Jg9QSij",
    "TggPHoadQnps",
    "jTh5PZxTRKE2",
    "B-jX8k2ZRN2t",
    "C8Evn5leV4vc",
    "ROTDDJ79U6Tm",
    "sqBuuWIka4oq",
    "jLeDlCKdVfjN",
    "wnpRnZMXZ6Db"
   ],
   "name": "functions_exercises.ipynb",
   "provenance": []
  },
  "kernelspec": {
   "display_name": "Python 3",
   "language": "python",
   "name": "python3"
  },
  "language_info": {
   "codemirror_mode": {
    "name": "ipython",
    "version": 3
   },
   "file_extension": ".py",
   "mimetype": "text/x-python",
   "name": "python",
   "nbconvert_exporter": "python",
   "pygments_lexer": "ipython3",
   "version": "3.8.5"
  }
 },
 "nbformat": 4,
 "nbformat_minor": 1
}
